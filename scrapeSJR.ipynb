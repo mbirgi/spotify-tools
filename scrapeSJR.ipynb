{
 "cells": [
  {
   "cell_type": "code",
   "execution_count": 59,
   "metadata": {},
   "outputs": [],
   "source": [
    "import pprint\n",
    "import requests\n",
    "\n",
    "from bs4 import BeautifulSoup\n",
    "\n",
    "tracks = []\n",
    "page_num = 1\n",
    "while True:\n",
    "    URL = 'http://www.radioswissjazz.ch/en/music-database/search/titles/' + str(page_num)\n",
    "    page = requests.get(URL)\n",
    "    soup = BeautifulSoup(page.content, 'html.parser')\n",
    "    results = soup.find_all('div', class_='text-w')\n",
    "    page_tracks = []\n",
    "    for item in results:\n",
    "        title, artist = None, None\n",
    "        try:\n",
    "            title = item.find('span', class_='title-double').text.strip()\n",
    "            artist = item.find('span', class_='artist').text.strip()\n",
    "        except AttributeError:\n",
    "            continue\n",
    "        if title and artist:\n",
    "            page_tracks.append((title, artist))\n",
    "    if not page_tracks:\n",
    "        break\n",
    "    tracks.extend(page_tracks)\n",
    "    page_num += 1\n",
    "    if len(tracks) >= 10000:\n",
    "        break"
   ]
  },
  {
   "cell_type": "code",
   "execution_count": 60,
   "metadata": {},
   "outputs": [
    {
     "data": {
      "text/plain": [
       "8583"
      ]
     },
     "execution_count": 60,
     "metadata": {},
     "output_type": "execute_result"
    }
   ],
   "source": [
    "# pp.pprint(tracks)\n",
    "len(tracks)"
   ]
  },
  {
   "cell_type": "code",
   "execution_count": 62,
   "metadata": {},
   "outputs": [],
   "source": [
    "import csv\n",
    "import os\n",
    "dir = 'scrapes'\n",
    "if not os.path.exists(dir):\n",
    "    os.mkdir(dir)\n",
    "with open(os.path.join('scrapes', 'scrapessjr_tracks.csv'), 'w') as csvfile:\n",
    "    writer = csv.writer(csvfile)\n",
    "    writer.writerows(tracks)"
   ]
  }
 ],
 "metadata": {
  "kernelspec": {
   "display_name": "Python 3",
   "language": "python",
   "name": "python3"
  },
  "language_info": {
   "codemirror_mode": {
    "name": "ipython",
    "version": 3
   },
   "file_extension": ".py",
   "mimetype": "text/x-python",
   "name": "python",
   "nbconvert_exporter": "python",
   "pygments_lexer": "ipython3",
   "version": "3.7.6"
  }
 },
 "nbformat": 4,
 "nbformat_minor": 4
}
