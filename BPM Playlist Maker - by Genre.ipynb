{
 "cells": [
  {
   "cell_type": "code",
   "execution_count": 15,
   "metadata": {},
   "outputs": [
    {
     "data": {
      "text/plain": [
       "['acoustic',\n",
       " 'afrobeat',\n",
       " 'alt-rock',\n",
       " 'alternative',\n",
       " 'ambient',\n",
       " 'anime',\n",
       " 'black-metal',\n",
       " 'bluegrass',\n",
       " 'blues',\n",
       " 'bossanova',\n",
       " 'brazil',\n",
       " 'breakbeat',\n",
       " 'british',\n",
       " 'cantopop',\n",
       " 'chicago-house',\n",
       " 'children',\n",
       " 'chill',\n",
       " 'classical',\n",
       " 'club',\n",
       " 'comedy',\n",
       " 'country',\n",
       " 'dance',\n",
       " 'dancehall',\n",
       " 'death-metal',\n",
       " 'deep-house',\n",
       " 'detroit-techno',\n",
       " 'disco',\n",
       " 'disney',\n",
       " 'drum-and-bass',\n",
       " 'dub',\n",
       " 'dubstep',\n",
       " 'edm',\n",
       " 'electro',\n",
       " 'electronic',\n",
       " 'emo',\n",
       " 'folk',\n",
       " 'forro',\n",
       " 'french',\n",
       " 'funk',\n",
       " 'garage',\n",
       " 'german',\n",
       " 'gospel',\n",
       " 'goth',\n",
       " 'grindcore',\n",
       " 'groove',\n",
       " 'grunge',\n",
       " 'guitar',\n",
       " 'happy',\n",
       " 'hard-rock',\n",
       " 'hardcore',\n",
       " 'hardstyle',\n",
       " 'heavy-metal',\n",
       " 'hip-hop',\n",
       " 'holidays',\n",
       " 'honky-tonk',\n",
       " 'house',\n",
       " 'idm',\n",
       " 'indian',\n",
       " 'indie',\n",
       " 'indie-pop',\n",
       " 'industrial',\n",
       " 'iranian',\n",
       " 'j-dance',\n",
       " 'j-idol',\n",
       " 'j-pop',\n",
       " 'j-rock',\n",
       " 'jazz',\n",
       " 'k-pop',\n",
       " 'kids',\n",
       " 'latin',\n",
       " 'latino',\n",
       " 'malay',\n",
       " 'mandopop',\n",
       " 'metal',\n",
       " 'metal-misc',\n",
       " 'metalcore',\n",
       " 'minimal-techno',\n",
       " 'movies',\n",
       " 'mpb',\n",
       " 'new-age',\n",
       " 'new-release',\n",
       " 'opera',\n",
       " 'pagode',\n",
       " 'party',\n",
       " 'philippines-opm',\n",
       " 'piano',\n",
       " 'pop',\n",
       " 'pop-film',\n",
       " 'post-dubstep',\n",
       " 'power-pop',\n",
       " 'progressive-house',\n",
       " 'psych-rock',\n",
       " 'punk',\n",
       " 'punk-rock',\n",
       " 'r-n-b',\n",
       " 'rainy-day',\n",
       " 'reggae',\n",
       " 'reggaeton',\n",
       " 'road-trip',\n",
       " 'rock',\n",
       " 'rock-n-roll',\n",
       " 'rockabilly',\n",
       " 'romance',\n",
       " 'sad',\n",
       " 'salsa',\n",
       " 'samba',\n",
       " 'sertanejo',\n",
       " 'show-tunes',\n",
       " 'singer-songwriter',\n",
       " 'ska',\n",
       " 'sleep',\n",
       " 'songwriter',\n",
       " 'soul',\n",
       " 'soundtracks',\n",
       " 'spanish',\n",
       " 'study',\n",
       " 'summer',\n",
       " 'swedish',\n",
       " 'synth-pop',\n",
       " 'tango',\n",
       " 'techno',\n",
       " 'trance',\n",
       " 'trip-hop',\n",
       " 'turkish',\n",
       " 'work-out',\n",
       " 'world-music']"
      ]
     },
     "execution_count": 15,
     "metadata": {},
     "output_type": "execute_result"
    }
   ],
   "source": [
    "import pandas as pd\n",
    "\n",
    "import spotify\n",
    "import utils\n",
    "\n",
    "sp = spotify.login(scope='playlist-modify-private')\n",
    "user = sp.current_user()\n",
    "displayName = user['display_name']\n",
    "# print(sp.recommendation_genre_seeds()['genres'])\n",
    "sp.recommendation_genre_seeds()['genres']"
   ]
  },
  {
   "cell_type": "code",
   "execution_count": 16,
   "metadata": {},
   "outputs": [],
   "source": [
    "preferred_genres = ['afrobeat', 'alt-rock', 'alternative','bluegrass', 'blues', 'bossanova', \n",
    "                    'dancehall', 'deep-house', 'disco', 'drum-and-bass', 'dub', 'dubstep', \n",
    "                    'funk', 'groove', 'hard-rock', 'house', 'indie', 'indie-pop', 'jazz', 'punk-rock', \n",
    "                    'reggae', 'rock', 'rock-n-roll', 'rockabilly', 'ska', 'soul', 'trip-hop']"
   ]
  },
  {
   "cell_type": "code",
   "execution_count": 17,
   "metadata": {},
   "outputs": [
    {
     "data": {
      "text/plain": [
       "0"
      ]
     },
     "execution_count": 17,
     "metadata": {},
     "output_type": "execute_result"
    }
   ],
   "source": [
    "# target_bpm = 110.0\n",
    "# bpm_bandwidth = 10.0\n",
    "min_tempo = 120.0\n",
    "max_tempo = 130.0\n",
    "query = {\n",
    "    'seed_genres': ['jazz'],\n",
    "    'limit': 20,\n",
    "    'country': 'CH',\n",
    "}\n",
    "track_attributes = {\n",
    "#     'min_tempo': target_bpm - (bpm_bandwidth / 2),\n",
    "#     'max_tempo': target_bpm + (bpm_bandwidth / 2),\n",
    "    'min_tempo': min_tempo,\n",
    "    'max_tempo': max_tempo,\n",
    "    'min_danceability': 0.66,\n",
    "    'max_liveness': 0.33,\n",
    "    'max_speechiness': 0.33,\n",
    "    # 'max_instrumentalness': 0.33,\n",
    "    'max_acousticness': 0.33,\n",
    "    'target_time_signature': 4,\n",
    "    # 'min_valence': 0.5,\n",
    "    'min_popularity': 1,\n",
    "}\n",
    "response = sp.recommendations(**query, **track_attributes)\n",
    "tracks = response['tracks']\n",
    "len(tracks)"
   ]
  },
  {
   "cell_type": "code",
   "execution_count": 6,
   "metadata": {},
   "outputs": [
    {
     "data": {
      "text/plain": [
       "dict_keys(['tracks', 'seeds'])"
      ]
     },
     "execution_count": 6,
     "metadata": {},
     "output_type": "execute_result"
    }
   ],
   "source": [
    "response.keys()"
   ]
  },
  {
   "cell_type": "code",
   "execution_count": 7,
   "metadata": {},
   "outputs": [
    {
     "data": {
      "text/plain": [
       "[{'initialPoolSize': 767,\n",
       "  'afterFilteringSize': 4,\n",
       "  'afterRelinkingSize': 4,\n",
       "  'id': 'jazz',\n",
       "  'type': 'GENRE',\n",
       "  'href': None}]"
      ]
     },
     "execution_count": 7,
     "metadata": {},
     "output_type": "execute_result"
    }
   ],
   "source": [
    "response['seeds']"
   ]
  },
  {
   "cell_type": "code",
   "execution_count": 8,
   "metadata": {},
   "outputs": [],
   "source": [
    "tracklist = []\n",
    "for track in tracks:\n",
    "    tracklist.append({\n",
    "        'id': track['id'],\n",
    "        'name': track['name'],\n",
    "        'artist_id': track['artists'][0]['id'],\n",
    "        'artist_name': track['artists'][0]['name'],\n",
    "        'popularity': track['popularity'],\n",
    "    })\n",
    "df = pd.DataFrame(tracklist)"
   ]
  },
  {
   "cell_type": "code",
   "execution_count": 9,
   "metadata": {},
   "outputs": [
    {
     "data": {
      "text/html": [
       "<div>\n",
       "<style scoped>\n",
       "    .dataframe tbody tr th:only-of-type {\n",
       "        vertical-align: middle;\n",
       "    }\n",
       "\n",
       "    .dataframe tbody tr th {\n",
       "        vertical-align: top;\n",
       "    }\n",
       "\n",
       "    .dataframe thead th {\n",
       "        text-align: right;\n",
       "    }\n",
       "</style>\n",
       "<table border=\"1\" class=\"dataframe\">\n",
       "  <thead>\n",
       "    <tr style=\"text-align: right;\">\n",
       "      <th></th>\n",
       "      <th>id</th>\n",
       "      <th>name</th>\n",
       "      <th>artist_id</th>\n",
       "      <th>artist_name</th>\n",
       "      <th>popularity</th>\n",
       "    </tr>\n",
       "  </thead>\n",
       "  <tbody>\n",
       "    <tr>\n",
       "      <th>0</th>\n",
       "      <td>1CDBaGlisZlOJzvx88lL8A</td>\n",
       "      <td>Song For My Father</td>\n",
       "      <td>5ZATfKurLqflrBhv2FLht5</td>\n",
       "      <td>Horace Silver</td>\n",
       "      <td>58</td>\n",
       "    </tr>\n",
       "    <tr>\n",
       "      <th>1</th>\n",
       "      <td>6HRUw67PN9Q8q4y2FDQOU6</td>\n",
       "      <td>Hot Mallets - 2002 Remastered</td>\n",
       "      <td>2PjgZkwAEk7UTin4jP6HLP</td>\n",
       "      <td>Lionel Hampton</td>\n",
       "      <td>26</td>\n",
       "    </tr>\n",
       "    <tr>\n",
       "      <th>2</th>\n",
       "      <td>0KeQYOvK25PpIXJLzxcy2u</td>\n",
       "      <td>Straight, No Chaser (Take 3)</td>\n",
       "      <td>4PDpGtF16XpqvXxsrFwQnN</td>\n",
       "      <td>Thelonious Monk</td>\n",
       "      <td>10</td>\n",
       "    </tr>\n",
       "    <tr>\n",
       "      <th>3</th>\n",
       "      <td>5H4bQ14RjOVM4eKtaIpn3B</td>\n",
       "      <td>Clarinet Marmalade</td>\n",
       "      <td>3kfbYBrL3MCPAMUwKDRpc7</td>\n",
       "      <td>Bix Beiderbecke</td>\n",
       "      <td>33</td>\n",
       "    </tr>\n",
       "  </tbody>\n",
       "</table>\n",
       "</div>"
      ],
      "text/plain": [
       "                       id                           name  \\\n",
       "0  1CDBaGlisZlOJzvx88lL8A             Song For My Father   \n",
       "1  6HRUw67PN9Q8q4y2FDQOU6  Hot Mallets - 2002 Remastered   \n",
       "2  0KeQYOvK25PpIXJLzxcy2u   Straight, No Chaser (Take 3)   \n",
       "3  5H4bQ14RjOVM4eKtaIpn3B             Clarinet Marmalade   \n",
       "\n",
       "                artist_id      artist_name  popularity  \n",
       "0  5ZATfKurLqflrBhv2FLht5    Horace Silver          58  \n",
       "1  2PjgZkwAEk7UTin4jP6HLP   Lionel Hampton          26  \n",
       "2  4PDpGtF16XpqvXxsrFwQnN  Thelonious Monk          10  \n",
       "3  3kfbYBrL3MCPAMUwKDRpc7  Bix Beiderbecke          33  "
      ]
     },
     "execution_count": 9,
     "metadata": {},
     "output_type": "execute_result"
    }
   ],
   "source": [
    "df"
   ]
  },
  {
   "cell_type": "code",
   "execution_count": 10,
   "metadata": {},
   "outputs": [
    {
     "data": {
      "text/html": [
       "<div>\n",
       "<style scoped>\n",
       "    .dataframe tbody tr th:only-of-type {\n",
       "        vertical-align: middle;\n",
       "    }\n",
       "\n",
       "    .dataframe tbody tr th {\n",
       "        vertical-align: top;\n",
       "    }\n",
       "\n",
       "    .dataframe thead th {\n",
       "        text-align: right;\n",
       "    }\n",
       "</style>\n",
       "<table border=\"1\" class=\"dataframe\">\n",
       "  <thead>\n",
       "    <tr style=\"text-align: right;\">\n",
       "      <th></th>\n",
       "      <th>id</th>\n",
       "      <th>name</th>\n",
       "      <th>artist_id</th>\n",
       "      <th>artist_name</th>\n",
       "      <th>popularity</th>\n",
       "    </tr>\n",
       "  </thead>\n",
       "  <tbody>\n",
       "    <tr>\n",
       "      <th>0</th>\n",
       "      <td>1CDBaGlisZlOJzvx88lL8A</td>\n",
       "      <td>Song For My Father</td>\n",
       "      <td>5ZATfKurLqflrBhv2FLht5</td>\n",
       "      <td>Horace Silver</td>\n",
       "      <td>58</td>\n",
       "    </tr>\n",
       "    <tr>\n",
       "      <th>1</th>\n",
       "      <td>6HRUw67PN9Q8q4y2FDQOU6</td>\n",
       "      <td>Hot Mallets - 2002 Remastered</td>\n",
       "      <td>2PjgZkwAEk7UTin4jP6HLP</td>\n",
       "      <td>Lionel Hampton</td>\n",
       "      <td>26</td>\n",
       "    </tr>\n",
       "    <tr>\n",
       "      <th>2</th>\n",
       "      <td>0KeQYOvK25PpIXJLzxcy2u</td>\n",
       "      <td>Straight, No Chaser (Take 3)</td>\n",
       "      <td>4PDpGtF16XpqvXxsrFwQnN</td>\n",
       "      <td>Thelonious Monk</td>\n",
       "      <td>10</td>\n",
       "    </tr>\n",
       "    <tr>\n",
       "      <th>3</th>\n",
       "      <td>5H4bQ14RjOVM4eKtaIpn3B</td>\n",
       "      <td>Clarinet Marmalade</td>\n",
       "      <td>3kfbYBrL3MCPAMUwKDRpc7</td>\n",
       "      <td>Bix Beiderbecke</td>\n",
       "      <td>33</td>\n",
       "    </tr>\n",
       "  </tbody>\n",
       "</table>\n",
       "</div>"
      ],
      "text/plain": [
       "                       id                           name  \\\n",
       "0  1CDBaGlisZlOJzvx88lL8A             Song For My Father   \n",
       "1  6HRUw67PN9Q8q4y2FDQOU6  Hot Mallets - 2002 Remastered   \n",
       "2  0KeQYOvK25PpIXJLzxcy2u   Straight, No Chaser (Take 3)   \n",
       "3  5H4bQ14RjOVM4eKtaIpn3B             Clarinet Marmalade   \n",
       "\n",
       "                artist_id      artist_name  popularity  \n",
       "0  5ZATfKurLqflrBhv2FLht5    Horace Silver          58  \n",
       "1  2PjgZkwAEk7UTin4jP6HLP   Lionel Hampton          26  \n",
       "2  4PDpGtF16XpqvXxsrFwQnN  Thelonious Monk          10  \n",
       "3  3kfbYBrL3MCPAMUwKDRpc7  Bix Beiderbecke          33  "
      ]
     },
     "execution_count": 10,
     "metadata": {},
     "output_type": "execute_result"
    }
   ],
   "source": [
    "df"
   ]
  },
  {
   "cell_type": "code",
   "execution_count": 11,
   "metadata": {},
   "outputs": [
    {
     "ename": "KeyError",
     "evalue": "'tempo'",
     "output_type": "error",
     "traceback": [
      "\u001b[0;31m---------------------------------------------------------------------------\u001b[0m",
      "\u001b[0;31mKeyError\u001b[0m                                  Traceback (most recent call last)",
      "Cell \u001b[0;32mIn[11], line 1\u001b[0m\n\u001b[0;32m----> 1\u001b[0m df_sorted \u001b[39m=\u001b[39m df\u001b[39m.\u001b[39msort_values(\u001b[39m'\u001b[39m\u001b[39mtempo\u001b[39m\u001b[39m'\u001b[39m)\n\u001b[1;32m      2\u001b[0m df[\u001b[39m'\u001b[39m\u001b[39mcum_mins\u001b[39m\u001b[39m'\u001b[39m] \u001b[39m=\u001b[39m (df_sorted[\u001b[39m'\u001b[39m\u001b[39mduration_ms\u001b[39m\u001b[39m'\u001b[39m]\u001b[39m.\u001b[39mcumsum()) \u001b[39m/\u001b[39m \u001b[39m1000\u001b[39m \u001b[39m/\u001b[39m \u001b[39m60\u001b[39m\n\u001b[1;32m      3\u001b[0m df[[\u001b[39m'\u001b[39m\u001b[39mid\u001b[39m\u001b[39m'\u001b[39m, \u001b[39m'\u001b[39m\u001b[39martist_name\u001b[39m\u001b[39m'\u001b[39m, \u001b[39m'\u001b[39m\u001b[39mname\u001b[39m\u001b[39m'\u001b[39m, \u001b[39m'\u001b[39m\u001b[39mtempo\u001b[39m\u001b[39m'\u001b[39m, \u001b[39m'\u001b[39m\u001b[39mduration_ms\u001b[39m\u001b[39m'\u001b[39m, \u001b[39m'\u001b[39m\u001b[39mcum_mins\u001b[39m\u001b[39m'\u001b[39m]]\n",
      "File \u001b[0;32m/opt/homebrew/Caskroom/miniconda/base/envs/spotify/lib/python3.11/site-packages/pandas/util/_decorators.py:331\u001b[0m, in \u001b[0;36mdeprecate_nonkeyword_arguments.<locals>.decorate.<locals>.wrapper\u001b[0;34m(*args, **kwargs)\u001b[0m\n\u001b[1;32m    325\u001b[0m \u001b[39mif\u001b[39;00m \u001b[39mlen\u001b[39m(args) \u001b[39m>\u001b[39m num_allow_args:\n\u001b[1;32m    326\u001b[0m     warnings\u001b[39m.\u001b[39mwarn(\n\u001b[1;32m    327\u001b[0m         msg\u001b[39m.\u001b[39mformat(arguments\u001b[39m=\u001b[39m_format_argument_list(allow_args)),\n\u001b[1;32m    328\u001b[0m         \u001b[39mFutureWarning\u001b[39;00m,\n\u001b[1;32m    329\u001b[0m         stacklevel\u001b[39m=\u001b[39mfind_stack_level(),\n\u001b[1;32m    330\u001b[0m     )\n\u001b[0;32m--> 331\u001b[0m \u001b[39mreturn\u001b[39;00m func(\u001b[39m*\u001b[39margs, \u001b[39m*\u001b[39m\u001b[39m*\u001b[39mkwargs)\n",
      "File \u001b[0;32m/opt/homebrew/Caskroom/miniconda/base/envs/spotify/lib/python3.11/site-packages/pandas/core/frame.py:6912\u001b[0m, in \u001b[0;36mDataFrame.sort_values\u001b[0;34m(self, by, axis, ascending, inplace, kind, na_position, ignore_index, key)\u001b[0m\n\u001b[1;32m   6908\u001b[0m \u001b[39melif\u001b[39;00m \u001b[39mlen\u001b[39m(by):\n\u001b[1;32m   6909\u001b[0m     \u001b[39m# len(by) == 1\u001b[39;00m\n\u001b[1;32m   6911\u001b[0m     by \u001b[39m=\u001b[39m by[\u001b[39m0\u001b[39m]\n\u001b[0;32m-> 6912\u001b[0m     k \u001b[39m=\u001b[39m \u001b[39mself\u001b[39m\u001b[39m.\u001b[39m_get_label_or_level_values(by, axis\u001b[39m=\u001b[39maxis)\n\u001b[1;32m   6914\u001b[0m     \u001b[39m# need to rewrap column in Series to apply key function\u001b[39;00m\n\u001b[1;32m   6915\u001b[0m     \u001b[39mif\u001b[39;00m key \u001b[39mis\u001b[39;00m \u001b[39mnot\u001b[39;00m \u001b[39mNone\u001b[39;00m:\n\u001b[1;32m   6916\u001b[0m         \u001b[39m# error: Incompatible types in assignment (expression has type\u001b[39;00m\n\u001b[1;32m   6917\u001b[0m         \u001b[39m# \"Series\", variable has type \"ndarray\")\u001b[39;00m\n",
      "File \u001b[0;32m/opt/homebrew/Caskroom/miniconda/base/envs/spotify/lib/python3.11/site-packages/pandas/core/generic.py:1850\u001b[0m, in \u001b[0;36mNDFrame._get_label_or_level_values\u001b[0;34m(self, key, axis)\u001b[0m\n\u001b[1;32m   1844\u001b[0m     values \u001b[39m=\u001b[39m (\n\u001b[1;32m   1845\u001b[0m         \u001b[39mself\u001b[39m\u001b[39m.\u001b[39maxes[axis]\n\u001b[1;32m   1846\u001b[0m         \u001b[39m.\u001b[39mget_level_values(key)  \u001b[39m# type: ignore[assignment]\u001b[39;00m\n\u001b[1;32m   1847\u001b[0m         \u001b[39m.\u001b[39m_values\n\u001b[1;32m   1848\u001b[0m     )\n\u001b[1;32m   1849\u001b[0m \u001b[39melse\u001b[39;00m:\n\u001b[0;32m-> 1850\u001b[0m     \u001b[39mraise\u001b[39;00m \u001b[39mKeyError\u001b[39;00m(key)\n\u001b[1;32m   1852\u001b[0m \u001b[39m# Check for duplicates\u001b[39;00m\n\u001b[1;32m   1853\u001b[0m \u001b[39mif\u001b[39;00m values\u001b[39m.\u001b[39mndim \u001b[39m>\u001b[39m \u001b[39m1\u001b[39m:\n",
      "\u001b[0;31mKeyError\u001b[0m: 'tempo'"
     ]
    }
   ],
   "source": [
    "df_sorted = df.sort_values('tempo')\n",
    "df['cum_mins'] = (df_sorted['duration_ms'].cumsum()) / 1000 / 60\n",
    "df[['id', 'artist_name', 'name', 'tempo', 'duration_ms', 'cum_mins']]"
   ]
  },
  {
   "cell_type": "code",
   "execution_count": 10,
   "metadata": {},
   "outputs": [
    {
     "data": {
      "text/plain": [
       "'110.0-115.0 BPM Deep-House, House, Disco, Dance, Funk'"
      ]
     },
     "execution_count": 10,
     "metadata": {},
     "output_type": "execute_result"
    }
   ],
   "source": [
    "playlist_name = (str(min_tempo) + \"-\" + str(max_tempo) + \" BPM \" + ', '.join(query['seed_genres']).title())\n",
    "playlist_name"
   ]
  },
  {
   "cell_type": "code",
   "execution_count": 26,
   "metadata": {},
   "outputs": [
    {
     "data": {
      "text/plain": [
       "20"
      ]
     },
     "execution_count": 26,
     "metadata": {},
     "output_type": "execute_result"
    }
   ],
   "source": [
    "playlist = sp.user_playlist_create(\n",
    "    user['id'], \n",
    "    playlist_name, \n",
    "    public=False, \n",
    "    description=\"Created with BPMPlaylist.py\"\n",
    ")\n",
    "sp.user_playlist_add_tracks(user['id'], playlist['id'], list(df['id']))\n",
    "sp.user_playlist(user['id'], playlist['id'], fields=\"tracks\")['tracks']['total']"
   ]
  },
  {
   "cell_type": "code",
   "execution_count": null,
   "metadata": {},
   "outputs": [],
   "source": []
  }
 ],
 "metadata": {
  "kernelspec": {
   "display_name": "Python 3",
   "language": "python",
   "name": "python3"
  },
  "language_info": {
   "codemirror_mode": {
    "name": "ipython",
    "version": 3
   },
   "file_extension": ".py",
   "mimetype": "text/x-python",
   "name": "python",
   "nbconvert_exporter": "python",
   "pygments_lexer": "ipython3",
   "version": "3.11.4"
  },
  "pycharm": {
   "stem_cell": {
    "cell_type": "raw",
    "metadata": {
     "collapsed": false
    },
    "source": []
   }
  }
 },
 "nbformat": 4,
 "nbformat_minor": 4
}
