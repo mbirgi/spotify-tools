{
 "cells": [
  {
   "cell_type": "code",
   "execution_count": 1,
   "metadata": {},
   "outputs": [
    {
     "data": {
      "text/plain": [
       "'plist'"
      ]
     },
     "execution_count": 1,
     "metadata": {},
     "output_type": "execute_result"
    }
   ],
   "source": [
    "import xml.etree.ElementTree as ET\n",
    "tree = ET.parse('data/iTunesLibrary.xml')\n",
    "root = tree.getroot()\n",
    "root.tag"
   ]
  },
  {
   "cell_type": "code",
   "execution_count": 2,
   "metadata": {},
   "outputs": [
    {
     "data": {
      "text/plain": [
       "{'version': '1.0'}"
      ]
     },
     "execution_count": 2,
     "metadata": {},
     "output_type": "execute_result"
    }
   ],
   "source": [
    "root.attrib"
   ]
  },
  {
   "cell_type": "code",
   "execution_count": 3,
   "metadata": {},
   "outputs": [
    {
     "name": "stdout",
     "output_type": "stream",
     "text": [
      "dict {}\n"
     ]
    }
   ],
   "source": [
    "for child in root:\n",
    "    print(child.tag, child.attrib)"
   ]
  },
  {
   "cell_type": "code",
   "execution_count": 4,
   "metadata": {},
   "outputs": [
    {
     "data": {
      "text/plain": [
       "['Major Version',\n",
       " 'Minor Version',\n",
       " 'Date',\n",
       " 'Application Version',\n",
       " 'Features',\n",
       " 'Show Content Ratings',\n",
       " 'Music Folder',\n",
       " 'Library Persistent ID',\n",
       " 'Tracks',\n",
       " 'Playlists']"
      ]
     },
     "execution_count": 4,
     "metadata": {},
     "output_type": "execute_result"
    }
   ],
   "source": [
    "items = root.findall('./dict/key')\n",
    "[item.text for item in items]"
   ]
  },
  {
   "cell_type": "code",
   "execution_count": 5,
   "metadata": {},
   "outputs": [],
   "source": [
    "lib = {}\n",
    "key = ''\n",
    "for index, item in enumerate(root[0]):\n",
    "    if item.tag == 'key':\n",
    "        key = item.text\n",
    "    else:\n",
    "        if key == 'Tracks':\n",
    "            tracks = []\n",
    "            tracklist = root[0][index]\n",
    "            for t in tracklist:\n",
    "                if t.tag == 'key':\n",
    "                    # track id, used as key, but not needed, so skip\n",
    "                    pass\n",
    "                else:\n",
    "                    # track details, make dict\n",
    "                    track = {}\n",
    "                    for track_item in t:\n",
    "                        if track_item.tag == 'key':\n",
    "                            item_key = track_item.text\n",
    "                        elif track_item.tag == 'true':\n",
    "                            item_value = True\n",
    "                            track[item_key] = item_value\n",
    "                        elif track_item.tag == 'false':\n",
    "                            item_value = False\n",
    "                            track[item_key] = item_value\n",
    "                        else:\n",
    "                            item_value = track_item.text\n",
    "                            track[item_key] = item_value\n",
    "                    tracks.append(track)\n",
    "            value = tracks\n",
    "        elif key == 'Playlists':\n",
    "            value = None\n",
    "        else:\n",
    "            value = item.text\n",
    "        lib[key] = value"
   ]
  },
  {
   "cell_type": "code",
   "execution_count": 6,
   "metadata": {},
   "outputs": [
    {
     "data": {
      "text/plain": [
       "20783"
      ]
     },
     "execution_count": 6,
     "metadata": {},
     "output_type": "execute_result"
    }
   ],
   "source": [
    "len(lib['Tracks'])"
   ]
  },
  {
   "cell_type": "code",
   "execution_count": 7,
   "metadata": {},
   "outputs": [],
   "source": [
    "# extract interesting data\n",
    "tracks = []\n",
    "for track in lib['Tracks']:\n",
    "    tracks.append({\n",
    "        'title': track.get('Name'),\n",
    "        'artist': track.get('Artist'),\n",
    "        'album': track.get('Album'),\n",
    "        'genre': track.get('Genre')\n",
    "    })"
   ]
  },
  {
   "cell_type": "code",
   "execution_count": 8,
   "metadata": {},
   "outputs": [
    {
     "data": {
      "text/plain": [
       "{'Acid Jazz',\n",
       " 'Acoustic Blues',\n",
       " 'Africa',\n",
       " 'African',\n",
       " 'Afro-Pop',\n",
       " 'Alternative',\n",
       " 'Americana',\n",
       " 'Avant-Garde Jazz',\n",
       " 'Big Band',\n",
       " 'Bluegrass',\n",
       " 'Blues',\n",
       " 'Bop',\n",
       " 'Chicago Blues',\n",
       " 'Christian & Gospel',\n",
       " 'Christmas',\n",
       " 'Classic Blues',\n",
       " 'Classical',\n",
       " 'Contemporary Blues',\n",
       " 'Contemporary Jazz',\n",
       " 'Contemporary R&B',\n",
       " 'Country',\n",
       " 'Crossover Jazz',\n",
       " 'Dance',\n",
       " 'Delta Blues',\n",
       " 'Devotional & Spiritual',\n",
       " 'Disco',\n",
       " 'Easy Listening',\n",
       " 'Electric Blues',\n",
       " 'Electronic',\n",
       " 'Folk',\n",
       " 'Funk',\n",
       " 'Fusion',\n",
       " 'Gospel',\n",
       " 'Hard Bop',\n",
       " 'Hard Rock',\n",
       " 'Indian Classical',\n",
       " 'Indie Rock',\n",
       " 'Jazz',\n",
       " 'Latin',\n",
       " 'Latin Jazz',\n",
       " 'Lounge',\n",
       " 'Metal',\n",
       " 'New Age',\n",
       " 'Outlaw Country',\n",
       " 'Pop',\n",
       " 'Pop/Rock',\n",
       " 'Punk',\n",
       " 'R&B',\n",
       " 'R&B/Soul',\n",
       " 'Raíces',\n",
       " 'Reggae',\n",
       " 'Regional Indian',\n",
       " 'Rock',\n",
       " 'Singer/Songwriter',\n",
       " 'Smooth Jazz',\n",
       " 'Soul',\n",
       " 'Soundtrack',\n",
       " 'South Africa',\n",
       " 'South America',\n",
       " 'Traditional Gospel',\n",
       " 'Traditional Pop',\n",
       " 'Trip Hop',\n",
       " 'Vocal',\n",
       " 'Vocal Jazz',\n",
       " 'World'}"
      ]
     },
     "execution_count": 8,
     "metadata": {},
     "output_type": "execute_result"
    }
   ],
   "source": [
    "# get all genres\n",
    "set([track['genre']])\n",
    "genres = set()\n",
    "for track in tracks:\n",
    "    genres.add(track['genre'])\n",
    "genres"
   ]
  },
  {
   "cell_type": "code",
   "execution_count": 9,
   "metadata": {},
   "outputs": [],
   "source": [
    "genres_classical = [\n",
    " 'Classical',\n",
    " 'Indian Classical',\n",
    " 'Regional Indian',\n",
    "]"
   ]
  },
  {
   "cell_type": "code",
   "execution_count": 10,
   "metadata": {},
   "outputs": [],
   "source": [
    "genres_jazz_blues = [\n",
    " 'Acoustic Blues',\n",
    " 'Avant-Garde Jazz',\n",
    " 'Big Band',\n",
    " 'Blues',\n",
    " 'Bop',\n",
    " 'Chicago Blues',\n",
    " 'Christian & Gospel',\n",
    " 'Christmas',\n",
    " 'Classic Blues',\n",
    " 'Contemporary Blues',\n",
    " 'Contemporary Jazz',\n",
    " 'Crossover Jazz',\n",
    " 'Delta Blues',\n",
    " 'Devotional & Spiritual',\n",
    " 'Electric Blues',\n",
    " 'Gospel',\n",
    " 'Hard Bop',\n",
    " 'Jazz',\n",
    " 'Latin',\n",
    " 'Latin Jazz',\n",
    " 'New Age',\n",
    " 'Smooth Jazz',\n",
    " 'Vocal Jazz',\n",
    "]"
   ]
  },
  {
   "cell_type": "code",
   "execution_count": 11,
   "metadata": {},
   "outputs": [],
   "source": [
    "genres_pop = [\n",
    " 'Acid Jazz',\n",
    " 'Africa',\n",
    " 'African',\n",
    " 'Afro-Pop',\n",
    " 'Contemporary R&B',\n",
    " 'Dance',\n",
    " 'Disco',\n",
    " 'Easy Listening',\n",
    " 'Electronic',\n",
    " 'Funk',\n",
    " 'Fusion',\n",
    " 'Lounge',\n",
    " 'Pop',\n",
    " 'R&B',\n",
    " 'R&B/Soul',\n",
    " 'Raíces',\n",
    " 'Reggae',\n",
    " 'Soul',\n",
    " 'Soundtrack',\n",
    " 'South Africa',\n",
    " 'South America',\n",
    " 'Traditional Gospel',\n",
    " 'Traditional Pop',\n",
    " 'Trip Hop',\n",
    " 'Vocal',\n",
    " 'World'\n",
    "]"
   ]
  },
  {
   "cell_type": "code",
   "execution_count": 12,
   "metadata": {},
   "outputs": [],
   "source": [
    "genres_rock = [\n",
    " 'Alternative',\n",
    " 'Americana',\n",
    " 'Bluegrass',\n",
    " 'Country',\n",
    " 'Folk',\n",
    " 'Hard Rock',\n",
    " 'Indie Rock',\n",
    " 'Metal',\n",
    " 'Outlaw Country',\n",
    " 'Pop/Rock',\n",
    " 'Punk',\n",
    " 'Rock',\n",
    " 'Singer/Songwriter',\n",
    "]"
   ]
  },
  {
   "cell_type": "code",
   "execution_count": 13,
   "metadata": {},
   "outputs": [
    {
     "name": "stdout",
     "output_type": "stream",
     "text": [
      "total genres: 65\n",
      "partial genres: 65\n"
     ]
    }
   ],
   "source": [
    "print(f\"total genres: {len(genres)}\")\n",
    "print(\"partial genres:\", len(genres_classical) + len(genres_jazz_blues) + len(genres_pop) + len(genres_rock))"
   ]
  },
  {
   "cell_type": "code",
   "execution_count": 22,
   "metadata": {},
   "outputs": [
    {
     "data": {
      "text/plain": [
       "8888"
      ]
     },
     "execution_count": 22,
     "metadata": {},
     "output_type": "execute_result"
    }
   ],
   "source": [
    "tracks_sel = [track for track in tracks if track['genre'] in genres_jazz_blues]\n",
    "len(tracks_sel)"
   ]
  },
  {
   "cell_type": "code",
   "execution_count": 23,
   "metadata": {},
   "outputs": [],
   "source": [
    "# configure logging\n",
    "import logging\n",
    "logging.basicConfig(\n",
    "    filename=f'iTunes.log',\n",
    "    level=logging.DEBUG, \n",
    "    filemode='w',\n",
    "    format='%(asctime)s %(message)s', \n",
    "    datefmt='%m/%d/%Y %I:%M:%S %p'\n",
    ")"
   ]
  },
  {
   "cell_type": "code",
   "execution_count": 24,
   "metadata": {},
   "outputs": [
    {
     "data": {
      "text/plain": [
       "'Mehmet Birgi'"
      ]
     },
     "execution_count": 24,
     "metadata": {},
     "output_type": "execute_result"
    }
   ],
   "source": [
    "# configure spotify\n",
    "import spotify\n",
    "sp = spotify.login(scope='playlist-modify-private')\n",
    "user = sp.current_user()\n",
    "user['display_name']   # check if login successful"
   ]
  },
  {
   "cell_type": "code",
   "execution_count": 25,
   "metadata": {},
   "outputs": [
    {
     "data": {
      "text/html": [
       "<div><span class=\"Text-label\" style=\"display:inline-block; overflow:hidden; white-space:nowrap; text-overflow:ellipsis; min-width:0; max-width:15ex; vertical-align:middle; text-align:right\"></span>\n",
       "<progress style=\"width:60ex\" max=\"8888\" value=\"8888\" class=\"Progress-main\"/></progress>\n",
       "<span class=\"Progress-label\"><strong>100%</strong></span>\n",
       "<span class=\"Iteration-label\">8888/8888</span>\n",
       "<span class=\"Time-label\">[13:57<00:00, 0.09s/it]</span></div>"
      ],
      "text/plain": [
       "\u001b[A\u001b[2K\r",
       " [████████████████████████████████████████████████████████████] 8888/8888 [13:57<00:00, 0.09s/it]"
      ]
     },
     "metadata": {},
     "output_type": "display_data"
    }
   ],
   "source": [
    "# search for the tracks on spotify\n",
    "import ipypb\n",
    "tracks_sp_ids = set()\n",
    "for track in ipypb.track(tracks_sel):\n",
    "    q = f\"{track['title']} {track['artist']}\"\n",
    "    logging.info(f\"searching for: {q}\")\n",
    "    results = sp.search(q, type='track', market='CH')['tracks']['items']\n",
    "    if results:\n",
    "        spotify_id = results[0]['id']\n",
    "        logging.info(f\"found: {spotify_id}\")\n",
    "        tracks_sp_ids.add(spotify_id)\n",
    "    else:\n",
    "        logging.info(\"--- not found\")"
   ]
  },
  {
   "cell_type": "code",
   "execution_count": 26,
   "metadata": {},
   "outputs": [
    {
     "data": {
      "text/plain": [
       "6447"
      ]
     },
     "execution_count": 26,
     "metadata": {},
     "output_type": "execute_result"
    }
   ],
   "source": [
    "len(tracks_sp_ids)"
   ]
  },
  {
   "cell_type": "code",
   "execution_count": 27,
   "metadata": {},
   "outputs": [
    {
     "name": "stdout",
     "output_type": "stream",
     "text": [
      "Created new playlist with ID 1KCwuY3tYlt8pdiYhCboOn\n"
     ]
    }
   ],
   "source": [
    "# get a playlist on spotify\n",
    "playlist_id, is_new = spotify.get_playlist_by_name(sp, \n",
    "        f\"iTunes Tracks: Jazz & Blues\", \n",
    "        create_if_none=True)\n",
    "if playlist_id and is_new:\n",
    "    print(f\"Created new playlist with ID {playlist_id}\")\n",
    "elif playlist_id:\n",
    "    print(f\"Found existing playlist with ID {playlist_id}\")\n",
    "else:\n",
    "    print(\"Something went wrong :-(\")"
   ]
  },
  {
   "cell_type": "code",
   "execution_count": 28,
   "metadata": {},
   "outputs": [],
   "source": [
    "sp.user_playlist_change_details(user['id'], playlist_id, public=False,\n",
    "                                description=f\"Tracks from my iTunes library as of 2019, part \")"
   ]
  },
  {
   "cell_type": "code",
   "execution_count": 29,
   "metadata": {},
   "outputs": [
    {
     "data": {
      "text/html": [
       "<div><span class=\"Text-label\" style=\"display:inline-block; overflow:hidden; white-space:nowrap; text-overflow:ellipsis; min-width:0; max-width:15ex; vertical-align:middle; text-align:right\"></span>\n",
       "<progress style=\"width:60ex\" max=\"65\" value=\"65\" class=\"Progress-main\"/></progress>\n",
       "<span class=\"Progress-label\"><strong>100%</strong></span>\n",
       "<span class=\"Iteration-label\">65/65</span>\n",
       "<span class=\"Time-label\">[00:12<00:00, 0.18s/it]</span></div>"
      ],
      "text/plain": [
       "\u001b[A\u001b[2K\r",
       " [████████████████████████████████████████████████████████████] 65/65 [00:12<00:00, 0.18s/it]"
      ]
     },
     "metadata": {},
     "output_type": "display_data"
    },
    {
     "name": "stdout",
     "output_type": "stream",
     "text": [
      "finished\n"
     ]
    }
   ],
   "source": [
    "# add tracks to playlist\n",
    "num_batches = len(tracks_sp_ids) // 100 + 1  # max 100 tracks per batch\n",
    "num_tracks_added = 0\n",
    "for i in ipypb.track(range(0, num_batches)):\n",
    "    logging.info(f\"adding batch #{i+1}\")\n",
    "    batch_start = i * 100\n",
    "    batch_end = len(tracks_sp_ids) if (len(tracks_sp_ids) < batch_start + 100) else batch_start + 100\n",
    "    logging.info(f\"tracks from {batch_start} to {batch_end}\")\n",
    "    sp.user_playlist_add_tracks(user['id'], playlist_id, list(tracks_sp_ids)[batch_start:batch_end])\n",
    "#     spotify.add_tracks(sp, playlist_id, list(tracks_sp_ids)[batch_start:batch_end])\n",
    "print(\"finished\")"
   ]
  },
  {
   "cell_type": "markdown",
   "metadata": {},
   "source": [
    "### Clean the library"
   ]
  },
  {
   "cell_type": "code",
   "execution_count": 166,
   "metadata": {},
   "outputs": [
    {
     "data": {
      "text/plain": [
       "{'Acid Jazz',\n",
       " 'Alternative',\n",
       " 'Bluegrass',\n",
       " 'Blues',\n",
       " 'Classical',\n",
       " 'Country',\n",
       " 'Disco',\n",
       " 'Electronic',\n",
       " 'Funk',\n",
       " 'Jazz',\n",
       " 'Latin',\n",
       " 'Lounge',\n",
       " 'Pop',\n",
       " 'Punk',\n",
       " 'R&B',\n",
       " 'Reggae',\n",
       " 'Rock',\n",
       " 'Singer/Songwriter',\n",
       " 'Soul',\n",
       " 'Trip Hop',\n",
       " 'World'}"
      ]
     },
     "execution_count": 166,
     "metadata": {},
     "output_type": "execute_result"
    }
   ],
   "source": [
    "set([track['genre'] for track in tracks])"
   ]
  },
  {
   "cell_type": "code",
   "execution_count": 165,
   "metadata": {},
   "outputs": [
    {
     "name": "stdout",
     "output_type": "stream",
     "text": [
      "{'title': 'The Crusher', 'artist': 'The Novas', 'album': 'Soldier Boy', 'genre': 'Rock'}\n"
     ]
    }
   ],
   "source": [
    "for track in tracks:\n",
    "#     if track['album'] == 'Entspannungsmusik Klavier - Sanfte Klaviermusik Zur Entspannung Und Regeneration Part II':\n",
    "    if 'Pop/R' in track['genre']:# and track['artist'] == 'Christmas Music Santa' and track['genre'] != 'Acid Jazz':\n",
    "#         track['genre'] = 'Jazz'\n",
    "#         track['genre'] = 'World'\n",
    "        track['genre'] = 'Rock'\n",
    "#         track['genre'] = 'Soul'\n",
    "#         track['genre'] = 'Blues'\n",
    "#         track['genre'] = 'New Age'\n",
    "        print(track)"
   ]
  },
  {
   "cell_type": "code",
   "execution_count": 159,
   "metadata": {},
   "outputs": [],
   "source": [
    "tracks = [track for track in tracks if track['genre'] != 'New Age']"
   ]
  },
  {
   "cell_type": "code",
   "execution_count": 170,
   "metadata": {},
   "outputs": [
    {
     "data": {
      "text/plain": [
       "20780"
      ]
     },
     "execution_count": 170,
     "metadata": {},
     "output_type": "execute_result"
    }
   ],
   "source": [
    "len(tracks)"
   ]
  },
  {
   "cell_type": "code",
   "execution_count": 169,
   "metadata": {},
   "outputs": [],
   "source": [
    "# save tracks\n",
    "import json\n",
    "import os\n",
    "import utils\n",
    "folder = 'data'\n",
    "filename = f\"iTunes_tracks_{utils.timestamp()}.json\"\n",
    "if not os.path.exists(folder):\n",
    "    os.mkdir(folder)\n",
    "with open(os.path.join(folder, filename), 'w', encoding='utf-8') as f:\n",
    "    json.dump(tracks, f, ensure_ascii=False, indent=4)"
   ]
  },
  {
   "cell_type": "code",
   "execution_count": null,
   "metadata": {},
   "outputs": [],
   "source": []
  }
 ],
 "metadata": {
  "kernelspec": {
   "display_name": "Python 3",
   "language": "python",
   "name": "python3"
  },
  "language_info": {
   "codemirror_mode": {
    "name": "ipython",
    "version": 3
   },
   "file_extension": ".py",
   "mimetype": "text/x-python",
   "name": "python",
   "nbconvert_exporter": "python",
   "pygments_lexer": "ipython3",
   "version": "3.7.6"
  }
 },
 "nbformat": 4,
 "nbformat_minor": 4
}
