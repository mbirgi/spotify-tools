{
 "cells": [
  {
   "cell_type": "code",
   "execution_count": 3,
   "metadata": {},
   "outputs": [],
   "source": [
    "import pylast\n",
    "API_KEY = \"8680a877395afed899dbefbeb7a8032c\"  # this is a sample key\n",
    "API_SECRET = \"4a69aade4e39024e2fc687c9c1a95f75\"\n",
    "username = \"mbirgi\"\n",
    "password_hash = pylast.md5(\"%BqUqfa9J7ZT\")\n",
    "network = pylast.LastFMNetwork(api_key=API_KEY, api_secret=API_SECRET,\n",
    "                               username=username, password_hash=password_hash)"
   ]
  },
  {
   "cell_type": "code",
   "execution_count": 21,
   "metadata": {},
   "outputs": [
    {
     "data": {
      "text/plain": [
       "50"
      ]
     },
     "execution_count": 21,
     "metadata": {},
     "output_type": "execute_result"
    }
   ],
   "source": [
    "tags = network.get_top_tags(limit=250)\n",
    "len(tags)"
   ]
  },
  {
   "cell_type": "code",
   "execution_count": 11,
   "metadata": {},
   "outputs": [
    {
     "data": {
      "text/plain": [
       "TopItem(item=pylast.Tag('rock', pylast.LastFMNetwork('8680a877395afed899dbefbeb7a8032c', '4a69aade4e39024e2fc687c9c1a95f75', '6bwHg925Xg3YyJuhsUtfnDy4F45I-gBC', 'mbirgi', 'fba7896187c74125c6726cee344207d4')), weight=3974244)"
      ]
     },
     "execution_count": 11,
     "metadata": {},
     "output_type": "execute_result"
    }
   ],
   "source": [
    "tags[0]"
   ]
  },
  {
   "cell_type": "code",
   "execution_count": 13,
   "metadata": {},
   "outputs": [
    {
     "data": {
      "text/plain": [
       "'rock'"
      ]
     },
     "execution_count": 13,
     "metadata": {},
     "output_type": "execute_result"
    }
   ],
   "source": [
    "tags[0].item.get_name()"
   ]
  },
  {
   "cell_type": "code",
   "execution_count": 20,
   "metadata": {},
   "outputs": [
    {
     "data": {
      "text/plain": [
       "['80s',\n",
       " '90s',\n",
       " 'Classical',\n",
       " 'Hip-Hop',\n",
       " 'Progressive metal',\n",
       " 'Progressive rock',\n",
       " 'Soundtrack',\n",
       " 'acoustic',\n",
       " 'alternative',\n",
       " 'alternative rock',\n",
       " 'ambient',\n",
       " 'black metal',\n",
       " 'blues',\n",
       " 'british',\n",
       " 'chillout',\n",
       " 'classic rock',\n",
       " 'dance',\n",
       " 'death metal',\n",
       " 'electronic',\n",
       " 'electronica',\n",
       " 'experimental',\n",
       " 'female vocalists',\n",
       " 'folk',\n",
       " 'funk',\n",
       " 'german',\n",
       " 'hard rock',\n",
       " 'hardcore',\n",
       " 'heavy metal',\n",
       " 'hip hop',\n",
       " 'indie',\n",
       " 'indie rock',\n",
       " 'industrial',\n",
       " 'instrumental',\n",
       " 'japanese',\n",
       " 'jazz',\n",
       " 'metal',\n",
       " 'metalcore',\n",
       " 'new wave',\n",
       " 'pop',\n",
       " 'post-rock',\n",
       " 'psychedelic',\n",
       " 'punk',\n",
       " 'punk rock',\n",
       " 'rap',\n",
       " 'rock',\n",
       " 'seen live',\n",
       " 'singer-songwriter',\n",
       " 'soul',\n",
       " 'thrash metal',\n",
       " 'trance']"
      ]
     },
     "execution_count": 20,
     "metadata": {},
     "output_type": "execute_result"
    }
   ],
   "source": [
    "sorted([tag.item.get_name() for tag in tags])"
   ]
  },
  {
   "cell_type": "code",
   "execution_count": null,
   "metadata": {},
   "outputs": [],
   "source": []
  },
  {
   "cell_type": "code",
   "execution_count": 63,
   "metadata": {},
   "outputs": [],
   "source": [
    "import hashlib\n",
    "import json\n",
    "import requests\n",
    "import xml.etree.ElementTree as ET\n",
    "\n",
    "root_url = 'https://ws.audioscrobbler.com/2.0/'\n",
    "api_key = '8680a877395afed899dbefbeb7a8032c'\n",
    "api_secret = '4a69aade4e39024e2fc687c9c1a95f75'\n",
    "username = 'mbirgi'\n",
    "password = '%BqUqfa9J7ZT'\n",
    "request_body = {\n",
    "    'method': 'auth.getMobileSession',\n",
    "    'username': username,\n",
    "    'password': password,\n",
    "    'api_key': api_key,\n",
    "}\n",
    "keys = sorted(list(request_body.keys()))\n",
    "sig_string = ''\n",
    "for key in keys:\n",
    "    sig_string += key\n",
    "    sig_string += request_body[key]\n",
    "sig_string += api_secret\n",
    "api_sig = hashlib.md5(sig_string.encode('utf-8')).hexdigest()\n",
    "request_body['api_sig'] = api_sig\n",
    "response = requests.post(root_url, data=request_body)\n",
    "xml_root = ET.fromstring(response.content)\n",
    "session_key = xml_root.find('session').find('key').text"
   ]
  },
  {
   "cell_type": "code",
   "execution_count": 74,
   "metadata": {},
   "outputs": [
    {
     "data": {
      "text/plain": [
       "50"
      ]
     },
     "execution_count": 74,
     "metadata": {},
     "output_type": "execute_result"
    }
   ],
   "source": [
    "# get top tags\n",
    "payload = {\n",
    "    'method': 'tag.getTopTags',\n",
    "    'limit': 250,\n",
    "    'api_key': api_key,\n",
    "    'format': 'json'\n",
    "}\n",
    "response = requests.get(root_url, payload)\n",
    "tags = json.loads(response.content)['toptags']['tag']\n",
    "len(tags)"
   ]
  },
  {
   "cell_type": "code",
   "execution_count": 75,
   "metadata": {},
   "outputs": [
    {
     "data": {
      "text/plain": [
       "[{'name': 'rock', 'count': 3974414, 'reach': 395104},\n",
       " {'name': 'electronic', 'count': 2364360, 'reach': 253578},\n",
       " {'name': 'seen live', 'count': 2140919, 'reach': 81716},\n",
       " {'name': 'alternative', 'count': 2093542, 'reach': 261473},\n",
       " {'name': 'indie', 'count': 2014386, 'reach': 252992},\n",
       " {'name': 'pop', 'count': 1967925, 'reach': 225195},\n",
       " {'name': 'female vocalists', 'count': 1596801, 'reach': 167746},\n",
       " {'name': 'metal', 'count': 1257773, 'reach': 155411},\n",
       " {'name': 'alternative rock', 'count': 1164459, 'reach': 166649},\n",
       " {'name': 'jazz', 'count': 1147265, 'reach': 146362},\n",
       " {'name': 'classic rock', 'count': 1138770, 'reach': 136589},\n",
       " {'name': 'ambient', 'count': 1050382, 'reach': 143905},\n",
       " {'name': 'experimental', 'count': 1047070, 'reach': 138892},\n",
       " {'name': 'folk', 'count': 915111, 'reach': 147236},\n",
       " {'name': 'punk', 'count': 879925, 'reach': 141779},\n",
       " {'name': 'indie rock', 'count': 872947, 'reach': 133219},\n",
       " {'name': 'Hip-Hop', 'count': 856366, 'reach': 126421},\n",
       " {'name': 'hard rock', 'count': 856335, 'reach': 113812},\n",
       " {'name': 'instrumental', 'count': 837958, 'reach': 122934},\n",
       " {'name': 'black metal', 'count': 830149, 'reach': 61474},\n",
       " {'name': 'singer-songwriter', 'count': 829783, 'reach': 107981},\n",
       " {'name': 'dance', 'count': 796306, 'reach': 131843},\n",
       " {'name': '80s', 'count': 774974, 'reach': 99845},\n",
       " {'name': 'Progressive rock', 'count': 720795, 'reach': 95186},\n",
       " {'name': 'death metal', 'count': 708971, 'reach': 70864},\n",
       " {'name': 'heavy metal', 'count': 697011, 'reach': 89446},\n",
       " {'name': 'hardcore', 'count': 687804, 'reach': 96859},\n",
       " {'name': 'british', 'count': 682985, 'reach': 92581},\n",
       " {'name': 'soul', 'count': 668050, 'reach': 99751},\n",
       " {'name': 'chillout', 'count': 646282, 'reach': 103020},\n",
       " {'name': 'electronica', 'count': 629865, 'reach': 101351},\n",
       " {'name': 'Classical', 'count': 560291, 'reach': 73540},\n",
       " {'name': 'rap', 'count': 554699, 'reach': 102578},\n",
       " {'name': 'industrial', 'count': 554616, 'reach': 82930},\n",
       " {'name': 'Soundtrack', 'count': 553715, 'reach': 83580},\n",
       " {'name': 'punk rock', 'count': 543600, 'reach': 96833},\n",
       " {'name': 'blues', 'count': 543201, 'reach': 95080},\n",
       " {'name': 'thrash metal', 'count': 489059, 'reach': 61887},\n",
       " {'name': '90s', 'count': 478362, 'reach': 56447},\n",
       " {'name': 'acoustic', 'count': 474064, 'reach': 109798},\n",
       " {'name': 'metalcore', 'count': 471281, 'reach': 66415},\n",
       " {'name': 'psychedelic', 'count': 469157, 'reach': 77100},\n",
       " {'name': 'japanese', 'count': 455641, 'reach': 48126},\n",
       " {'name': 'post-rock', 'count': 438753, 'reach': 64446},\n",
       " {'name': 'Progressive metal', 'count': 430478, 'reach': 61673},\n",
       " {'name': 'german', 'count': 430424, 'reach': 58890},\n",
       " {'name': 'hip hop', 'count': 421484, 'reach': 76087},\n",
       " {'name': 'funk', 'count': 421140, 'reach': 81949},\n",
       " {'name': 'new wave', 'count': 415749, 'reach': 63368},\n",
       " {'name': 'trance', 'count': 411604, 'reach': 64107}]"
      ]
     },
     "execution_count": 75,
     "metadata": {},
     "output_type": "execute_result"
    }
   ],
   "source": [
    "tags"
   ]
  }
 ],
 "metadata": {
  "kernelspec": {
   "display_name": "Python 3",
   "language": "python",
   "name": "python3"
  },
  "language_info": {
   "codemirror_mode": {
    "name": "ipython",
    "version": 3
   },
   "file_extension": ".py",
   "mimetype": "text/x-python",
   "name": "python",
   "nbconvert_exporter": "python",
   "pygments_lexer": "ipython3",
   "version": "3.7.6"
  }
 },
 "nbformat": 4,
 "nbformat_minor": 4
}
