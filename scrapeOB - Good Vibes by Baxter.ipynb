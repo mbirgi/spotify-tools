{
 "cells": [
  {
   "cell_type": "markdown",
   "metadata": {},
   "source": [
    "### Scrapes songs from Open Broadcast Radio"
   ]
  },
  {
   "cell_type": "code",
   "execution_count": 2,
   "metadata": {},
   "outputs": [],
   "source": [
    "import pprint\n",
    "import requests\n",
    "from bs4 import BeautifulSoup"
   ]
  },
  {
   "cell_type": "markdown",
   "metadata": {},
   "source": [
    "#### scrape a series of playlists:"
   ]
  },
  {
   "cell_type": "code",
   "execution_count": 3,
   "metadata": {},
   "outputs": [
    {
     "name": "stdout",
     "output_type": "stream",
     "text": [
      "error while scraping page #-One: <Response [404]>\n",
      "scraped page #-Two\n",
      "scraped page #-Three\n",
      "scraped page #-Four\n",
      "scraped page #-Five\n",
      "scraped page #-Six\n",
      "scraped page #-Seven\n",
      "scraped page #-Eight\n",
      "scraped page #-Nine\n",
      "scraped page #-Ten\n",
      "scraped page #-Eleven\n",
      "scraped page #-Twelve\n",
      "scraped page #-Thirteen\n",
      "scraped page #-Fourteen\n",
      "scraped page #-Fifteen\n",
      "scraped page #-Sixteen\n",
      "scraped page #-Seventeen\n",
      "scraped page #-Eighteen\n",
      "scraped page #-Nineteen\n"
     ]
    }
   ],
   "source": [
    "base_url = \"https://www.openbroadcast.org/content/playlists/\"\n",
    "prefix = \"good-vibes-\"\n",
    "indices = [\n",
    "    'One','Two','Three','Four','Five','Six','Seven','Eight','Nine','Ten','Eleven','Twelve','Thirteen','Fourteen','Fifteen','Sixteen','Seventeen','Eighteen','Nineteen'\n",
    "]\n",
    "tracks = []\n",
    "for index in indices:\n",
    "    URL = base_url + prefix + str(index).lower()\n",
    "    response = requests.get(URL)\n",
    "    if response.status_code == 200:\n",
    "        print(f\"scraped page #-{index}\")\n",
    "    else:\n",
    "        print(f\"error while scraping page #-{index}: {response}\")\n",
    "    soup = BeautifulSoup(response.content, 'html.parser')\n",
    "    page_items = soup.find_all('div', class_='list_body_item c2')\n",
    "    for item in page_items:\n",
    "        title = item.li.a.contents[0].strip()\n",
    "        artist = item.find_all('li')[1].a.text.strip()\n",
    "        tracks.append({'title': title, 'artist': artist})"
   ]
  },
  {
   "cell_type": "code",
   "execution_count": 4,
   "metadata": {},
   "outputs": [
    {
     "data": {
      "text/plain": [
       "737"
      ]
     },
     "execution_count": 4,
     "metadata": {},
     "output_type": "execute_result"
    }
   ],
   "source": [
    "len(tracks)"
   ]
  },
  {
   "cell_type": "code",
   "execution_count": 5,
   "metadata": {},
   "outputs": [],
   "source": [
    "playlist = {'series': \"Good Vibes\", 'author': \"baxter\", 'tracks': tracks}"
   ]
  },
  {
   "cell_type": "code",
   "execution_count": 10,
   "metadata": {},
   "outputs": [],
   "source": [
    "import json\n",
    "import os\n",
    "dir = 'scrapes'\n",
    "if not os.path.exists(dir):\n",
    "    os.mkdir(dir)\n",
    "with open(os.path.join('scrapes', 'openbroadcast-good_vibes.json'), 'w', encoding='utf-8') as f:\n",
    "    json.dump(playlist, f, ensure_ascii=False, indent=4)"
   ]
  }
 ],
 "metadata": {
  "kernelspec": {
   "display_name": "Python 3",
   "language": "python",
   "name": "python3"
  },
  "language_info": {
   "codemirror_mode": {
    "name": "ipython",
    "version": 3
   },
   "file_extension": ".py",
   "mimetype": "text/x-python",
   "name": "python",
   "nbconvert_exporter": "python",
   "pygments_lexer": "ipython3",
   "version": "3.7.6"
  }
 },
 "nbformat": 4,
 "nbformat_minor": 4
}
