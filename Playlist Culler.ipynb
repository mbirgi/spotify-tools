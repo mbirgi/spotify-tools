{
 "cells": [
  {
   "cell_type": "code",
   "execution_count": 7,
   "metadata": {},
   "outputs": [
    {
     "name": "stdout",
     "output_type": "stream",
     "text": [
      "mbirgi\n",
      "Playlist ID: 7MhEPKt2n8sr8kDeu5HHZz\n"
     ]
    }
   ],
   "source": [
    "import spotify\n",
    "\n",
    "scope = 'playlist-read-private playlist-read-collaborative user-library-read'\n",
    "sp = spotify.login(scope=scope)\n",
    "user = sp.current_user()\n",
    "username = user['id']\n",
    "displayName = user['display_name']\n",
    "print(displayName)\n",
    "\n",
    "# Extract the actual playlist ID from the URL\n",
    "playlist_url = 'https://open.spotify.com/playlist/7MhEPKt2n8sr8kDeu5HHZz?si=f52eccca30ad46a3'\n",
    "playlist_id = playlist_url.split('/playlist/')[1].split('?')[0]\n",
    "print(f\"Playlist ID: {playlist_id}\")"
   ]
  },
  {
   "cell_type": "code",
   "execution_count": 8,
   "metadata": {},
   "outputs": [
    {
     "name": "stdout",
     "output_type": "stream",
     "text": [
      "Playlist Name: Night Club\n",
      "No duplicate tracks found.\n"
     ]
    }
   ],
   "source": [
    "# Fetch the playlist details\n",
    "playlist = sp.user_playlist(username, playlist_id, fields=\"name,tracks.items(track(id, name, artists(name)))\")\n",
    "playlist_name = playlist['name']\n",
    "print(f\"Playlist Name: {playlist_name}\")\n",
    "\n",
    "# Extract track details from the playlist\n",
    "track_details = []\n",
    "for item in playlist['tracks']['items']:\n",
    "    track = item['track']\n",
    "    track_id = track['id']\n",
    "    track_name = track['name']\n",
    "    track_artists = \", \".join([artist['name'] for artist in track['artists']])\n",
    "    track_details.append((track_id, track_name, track_artists))\n",
    "\n",
    "# Check for duplicate tracks\n",
    "seen = set()\n",
    "duplicates = []\n",
    "for track_id, track_name, track_artists in track_details:\n",
    "    track_identifier = (track_name, track_artists)\n",
    "    if track_identifier in seen:\n",
    "        duplicates.append((track_id, track_name, track_artists))\n",
    "    else:\n",
    "        seen.add(track_identifier)\n",
    "\n",
    "# Print duplicate tracks\n",
    "if duplicates:\n",
    "    print(\"Duplicate tracks found:\")\n",
    "    for track_id, track_name, track_artists in duplicates:\n",
    "        print(f\"Track ID: {track_id}, Track Name: {track_name}, Artists: {track_artists}\")\n",
    "else:\n",
    "    print(\"No duplicate tracks found.\")\n",
    "\n"
   ]
  },
  {
   "cell_type": "code",
   "execution_count": null,
   "metadata": {},
   "outputs": [],
   "source": []
  }
 ],
 "metadata": {
  "kernelspec": {
   "display_name": "spotify-tools",
   "language": "python",
   "name": "python3"
  },
  "language_info": {
   "codemirror_mode": {
    "name": "ipython",
    "version": 3
   },
   "file_extension": ".py",
   "mimetype": "text/x-python",
   "name": "python",
   "nbconvert_exporter": "python",
   "pygments_lexer": "ipython3",
   "version": "3.13.1"
  }
 },
 "nbformat": 4,
 "nbformat_minor": 2
}
