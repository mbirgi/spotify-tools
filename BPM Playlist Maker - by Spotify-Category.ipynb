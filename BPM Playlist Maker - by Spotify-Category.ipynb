{
 "cells": [
  {
   "cell_type": "code",
   "execution_count": 2,
   "metadata": {},
   "outputs": [
    {
     "name": "stdin",
     "output_type": "stream",
     "text": [
      "Enter the URL you were redirected to:  https://localhost:8080/?code=AQBeXsDZYJiM12RneHAxfPSnljgz5Nryp57R4G9pvmfuc_nm6Q4-OOcqimgCx_M1GQuwnV3otAO93gO5QUGJIUohFeYEjm0Y5T0b7-xnOsRz362QhMcyQpME2SPdBpl1ssg1NA-xeOdVX__d3VN0pSV_6dbqb298XiXr_F2HI2ogtAUDULHW2f1Ku2TUxhpOl5aqUA\n"
     ]
    },
    {
     "name": "stdout",
     "output_type": "stream",
     "text": [
      "mbirgi\n"
     ]
    }
   ],
   "source": [
    "import pandas as pd\n",
    "\n",
    "import spotify\n",
    "import utils\n",
    "\n",
    "sp = spotify.login(scope='playlist-modify-private')\n",
    "user = sp.current_user()\n",
    "displayName = user['display_name']\n",
    "print(displayName)"
   ]
  },
  {
   "cell_type": "code",
   "execution_count": 3,
   "metadata": {},
   "outputs": [
    {
     "name": "stdout",
     "output_type": "stream",
     "text": [
      "62 categories found\n"
     ]
    }
   ],
   "source": [
    "# get all categories \n",
    "results = sp.categories(country='CH')['categories']\n",
    "categories = results['items']\n",
    "while results['next']:\n",
    "    results = sp.next(results)['categories']\n",
    "    categories.extend(results['items'])\n",
    "print(f\"{len(categories)} categories found\")"
   ]
  },
  {
   "cell_type": "code",
   "execution_count": 4,
   "metadata": {},
   "outputs": [
    {
     "data": {
      "text/plain": [
       "[('0JQ5DAqbMKFC7do0jUgBzi', '2024 in Music'),\n",
       " ('0JQ5DAt0tbjZptfcdMSKl3', 'Made For You'),\n",
       " ('0JQ5DAqbMKFz6FAsUtgAab', 'New Releases'),\n",
       " ('0JQ5DAqbMKFIcJ8h2w86fL', \"New Year's\"),\n",
       " ('0JQ5DAqbMKFEC4WFtoNRpw', 'Pop'),\n",
       " ('0JQ5DAqbMKFQ00XGBls6ym', 'Hip-Hop'),\n",
       " ('0JQ5DAqbMKFzHmL4tf05da', 'Mood'),\n",
       " ('0JQ5DAudkNjCgYMM0TZXDw', 'Charts'),\n",
       " ('0JQ5DAqbMKFDXXwE9BDJAr', 'Rock'),\n",
       " ('0JQ5DAqbMKFxXaXKP7zcDp', 'Latin'),\n",
       " ('0JQ5DAqbMKFHOzuVTgTizF', 'Dance/Electronic'),\n",
       " ('0JQ5IMCbQBLkUxOEesHoGn', 'Skate Noise'),\n",
       " ('0JQ5DAtOnAEpjOgUKwXyxj', 'Discover'),\n",
       " ('0JQ5DAqbMKFCWjUTdzaG0e', 'Indie'),\n",
       " ('0JQ5DAqbMKFImHYGo3eTSg', 'Fresh Finds'),\n",
       " ('0JQ5DAqbMKFPw634sFwguI', 'EQUAL'),\n",
       " ('0JQ5DAqbMKFOOxftoKZxod', 'RADAR'),\n",
       " ('0JQ5DAqbMKFylzQHdDVGXB', 'Schlager'),\n",
       " ('0JQ5DAqbMKFAXlCG6QvYQ4', 'Workout'),\n",
       " ('0JQ5DAqbMKFEZPnFQSFB1T', 'R&B'),\n",
       " ('0JQ5DAqbMKFGvOw3O4nLAf', 'K-pop'),\n",
       " ('0JQ5DAqbMKFFzDl7qN9Apr', 'Chill'),\n",
       " ('0JQ5DAqbMKFCuoRTxhYWow', 'Sleep'),\n",
       " ('0JQ5DAqbMKFA6SOHvT3gck', 'Party'),\n",
       " ('0JQ5DAqbMKFx0uLQR2okcc', 'At Home'),\n",
       " ('0JQ5DAqbMKFIVNxQgRNSg0', 'Decades'),\n",
       " ('0JQ5DAqbMKFNQ0fGp4byGU', 'Afro'),\n",
       " ('0JQ5DAqbMKFAUsdyVjCQuL', 'Love'),\n",
       " ('0JQ5DAqbMKFIxnofjQmnmn', 'Disney'),\n",
       " ('0JQ5DAqbMKFDkd668ypn6O', 'Metal'),\n",
       " ('0JQ5DAqbMKFBweu2euf3Sj', 'French Variety'),\n",
       " ('0JQ5DAqbMKFAJ5xb0fwo9m', 'Jazz'),\n",
       " ('0JQ5DAqbMKFQIL0AXnG5AK', 'Trending'),\n",
       " ('0JQ5DAqbMKFPrEiAOxgac3', 'Classical'),\n",
       " ('0JQ5DAqbMKFziKOShCi009', 'Anime'),\n",
       " ('0JQ5DAqbMKFy78wprEpAjl', 'Folk & Acoustic'),\n",
       " ('0JQ5DAqbMKFKLfwjuJMoNC', 'Country'),\n",
       " ('0JQ5DAqbMKFCbimwdOYlsl', 'Focus'),\n",
       " ('0JQ5DAqbMKFIpEuaCnimBj', 'Soul'),\n",
       " ('0JQ5DAqbMKFQ1UFISXj59F', 'Arab'),\n",
       " ('0JQ5DAqbMKFFoimhOqWzLB', 'Kids & Family'),\n",
       " ('0JQ5DAqbMKFCfObibaOZbv', 'Gaming'),\n",
       " ('0JQ5DAqbMKFGnsSfvg90Wo', 'GLOW'),\n",
       " ('0JQ5DAqbMKFOzQeOmemkuw', 'TV & Movies'),\n",
       " ('0JQ5DAqbMKFSFGqsfu3hFj', 'Football'),\n",
       " ('0JQ5DAqbMKFRieVZLLoo9m', 'Instrumental'),\n",
       " ('0JQ5DAqbMKFLb2EqgLtpjC', 'Wellness'),\n",
       " ('0JQ5DAqbMKFAjfauKLOZiv', 'Punk'),\n",
       " ('0JQ5DAqbMKFLjmiZRss79w', 'Ambient'),\n",
       " ('0JQ5DAqbMKFEOEBCABAxo9', 'Netflix'),\n",
       " ('0JQ5DAqbMKFQiK2EHwyjcU', 'Blues'),\n",
       " ('0JQ5DAqbMKFRY5ok2pxXJ0', 'Cooking & Dining'),\n",
       " ('0JQ5DAqbMKFFtlLYUHv8bT', 'Alternative'),\n",
       " ('0JQ5DAqbMKFAQy4HL4XU2D', 'Travel'),\n",
       " ('0JQ5DAqbMKFObNLOHydSW8', 'Caribbean'),\n",
       " ('0JQ5DAqbMKFJKoGyUMo2hE', 'Reggae'),\n",
       " ('0JQ5DAqbMKFI3pNLtYMD9S', 'Nature & Noise'),\n",
       " ('0JQ5DAqbMKFSCjnQr8QZ3O', 'Songwriters'),\n",
       " ('0JQ5DAqbMKFFsW9N8maB6z', 'Funk & Disco'),\n",
       " ('0JQ5DAqbMKFDBgllo2cUIN', 'Spotify Singles'),\n",
       " ('0JQ5DAqbMKFGJKulLVJyKK', 'Sanremo Festival'),\n",
       " ('0JQ5DAqbMKFRKBHIxJ5hMm', 'Tastemakers')]"
      ]
     },
     "execution_count": 4,
     "metadata": {},
     "output_type": "execute_result"
    }
   ],
   "source": [
    "[(ctg['id'], ctg['name']) for ctg in categories]"
   ]
  },
  {
   "cell_type": "code",
   "execution_count": null,
   "metadata": {},
   "outputs": [],
   "source": [
    "preferred_genres = ['afrobeat', 'alt-rock', 'alternative','bluegrass', 'blues', 'bossanova', \n",
    "                    'dancehall', 'deep-house', 'disco', 'drum-and-bass', 'dub', 'dubstep', \n",
    "                    'funk', 'groove', 'hard-rock', 'house', 'indie', 'indie-pop', 'jazz', 'punk-rock', \n",
    "                    'reggae', 'rock', 'rock-n-roll', 'rockabilly', 'ska', 'soul', 'trip-hop']"
   ]
  },
  {
   "cell_type": "code",
   "execution_count": null,
   "metadata": {},
   "outputs": [],
   "source": [
    "# target_bpm = 110.0\n",
    "# bpm_bandwidth = 10.0\n",
    "min_tempo = 120.0\n",
    "max_tempo = 130.0\n",
    "query = {\n",
    "    'seed_genres': ['jazz'],\n",
    "    'limit': 20,\n",
    "    'country': 'CH',\n",
    "}\n",
    "track_attributes = {\n",
    "#     'min_tempo': target_bpm - (bpm_bandwidth / 2),\n",
    "#     'max_tempo': target_bpm + (bpm_bandwidth / 2),\n",
    "    'min_tempo': min_tempo,\n",
    "    'max_tempo': max_tempo,\n",
    "    'min_danceability': 0.66,\n",
    "    'max_liveness': 0.33,\n",
    "    'max_speechiness': 0.33,\n",
    "    # 'max_instrumentalness': 0.33,\n",
    "    'max_acousticness': 0.33,\n",
    "    'target_time_signature': 4,\n",
    "    # 'min_valence': 0.5,\n",
    "    'min_popularity': 1,\n",
    "}\n",
    "response = sp.recommendations(**query, **track_attributes)\n",
    "tracks = response['tracks']\n",
    "len(tracks)"
   ]
  },
  {
   "cell_type": "code",
   "execution_count": null,
   "metadata": {},
   "outputs": [],
   "source": [
    "response.keys()"
   ]
  },
  {
   "cell_type": "code",
   "execution_count": null,
   "metadata": {},
   "outputs": [],
   "source": [
    "response['seeds']"
   ]
  },
  {
   "cell_type": "code",
   "execution_count": null,
   "metadata": {},
   "outputs": [],
   "source": [
    "tracklist = []\n",
    "for track in tracks:\n",
    "    tracklist.append({\n",
    "        'id': track['id'],\n",
    "        'name': track['name'],\n",
    "        'artist_id': track['artists'][0]['id'],\n",
    "        'artist_name': track['artists'][0]['name'],\n",
    "        'popularity': track['popularity'],\n",
    "    })\n",
    "df = pd.DataFrame(tracklist)"
   ]
  },
  {
   "cell_type": "code",
   "execution_count": null,
   "metadata": {},
   "outputs": [],
   "source": [
    "df"
   ]
  },
  {
   "cell_type": "code",
   "execution_count": null,
   "metadata": {},
   "outputs": [],
   "source": [
    "df"
   ]
  },
  {
   "cell_type": "code",
   "execution_count": null,
   "metadata": {},
   "outputs": [],
   "source": [
    "df_sorted = df.sort_values('tempo')\n",
    "df['cum_mins'] = (df_sorted['duration_ms'].cumsum()) / 1000 / 60\n",
    "df[['id', 'artist_name', 'name', 'tempo', 'duration_ms', 'cum_mins']]"
   ]
  },
  {
   "cell_type": "code",
   "execution_count": null,
   "metadata": {},
   "outputs": [],
   "source": [
    "playlist_name = (str(min_tempo) + \"-\" + str(max_tempo) + \" BPM \" + ', '.join(query['seed_genres']).title())\n",
    "playlist_name"
   ]
  },
  {
   "cell_type": "code",
   "execution_count": null,
   "metadata": {},
   "outputs": [],
   "source": [
    "playlist = sp.user_playlist_create(\n",
    "    user['id'], \n",
    "    playlist_name, \n",
    "    public=False, \n",
    "    description=\"Created with BPMPlaylist.py\"\n",
    ")\n",
    "sp.user_playlist_add_tracks(user['id'], playlist['id'], list(df['id']))\n",
    "sp.user_playlist(user['id'], playlist['id'], fields=\"tracks\")['tracks']['total']"
   ]
  },
  {
   "cell_type": "code",
   "execution_count": null,
   "metadata": {},
   "outputs": [],
   "source": []
  }
 ],
 "metadata": {
  "kernelspec": {
   "display_name": "Python 3 (ipykernel)",
   "language": "python",
   "name": "python3"
  },
  "language_info": {
   "codemirror_mode": {
    "name": "ipython",
    "version": 3
   },
   "file_extension": ".py",
   "mimetype": "text/x-python",
   "name": "python",
   "nbconvert_exporter": "python",
   "pygments_lexer": "ipython3",
   "version": "3.13.1"
  },
  "pycharm": {
   "stem_cell": {
    "cell_type": "raw",
    "metadata": {
     "collapsed": false
    },
    "source": []
   }
  }
 },
 "nbformat": 4,
 "nbformat_minor": 4
}
