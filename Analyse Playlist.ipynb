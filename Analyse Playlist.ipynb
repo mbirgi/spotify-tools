{
 "cells": [
  {
   "cell_type": "code",
   "execution_count": 4,
   "metadata": {},
   "outputs": [
    {
     "data": {
      "text/plain": [
       "'Mehmet Birgi'"
      ]
     },
     "execution_count": 4,
     "metadata": {},
     "output_type": "execute_result"
    }
   ],
   "source": [
    "import matplotlib.pyplot as plt\n",
    "import pandas as pd\n",
    "import numpy as np\n",
    "\n",
    "import spotify\n",
    "import utils\n",
    "\n",
    "sp = spotify.login(scope='playlist-modify-private')\n",
    "user = sp.current_user()\n",
    "username = user['id']\n",
    "displayName = user['display_name']\n",
    "displayName"
   ]
  },
  {
   "cell_type": "code",
   "execution_count": 5,
   "metadata": {},
   "outputs": [
    {
     "data": {
      "text/plain": [
       "'145.0 BPM Blues'"
      ]
     },
     "execution_count": 5,
     "metadata": {},
     "output_type": "execute_result"
    }
   ],
   "source": [
    "playlist_id = 'spotify:user:mbirgi:playlist:7s9AjSciTfWIXcrBnYFaHm'\n",
    "playlist = sp.user_playlist(username, playlist_id, fields=\"name, tracks, next\")\n",
    "playlist_name = playlist['name']\n",
    "playlist_name"
   ]
  },
  {
   "cell_type": "code",
   "execution_count": 6,
   "metadata": {},
   "outputs": [
    {
     "name": "stdout",
     "output_type": "stream",
     "text": [
      "20 tracks in playlist\n",
      "20 tracks in audio_features\n"
     ]
    }
   ],
   "source": [
    "tracks = []\n",
    "audio_features = []\n",
    "tracks_paging_object = playlist['tracks']\n",
    "while True:\n",
    "    track_id_list = []\n",
    "    for item in tracks_paging_object['items']:\n",
    "        track_result = item['track']\n",
    "        track = {\n",
    "            'id': track_result['id'],\n",
    "            'name': track_result['name'],\n",
    "            'artist_id': track_result['artists'][0]['id'],\n",
    "            'artist_name': track_result['artists'][0]['name'],\n",
    "            'popularity': track_result['popularity'],\n",
    "        }\n",
    "        tracks.append(track)\n",
    "        track_id_list.append(track['id'])\n",
    "    audio_features.extend(sp.audio_features(track_id_list))\n",
    "    if not tracks_paging_object['next']:\n",
    "        break\n",
    "    tracks_paging_object = sp.next(tracks_paging_object)\n",
    "print(len(tracks), \"tracks in playlist\")\n",
    "print(len(audio_features), \"tracks in audio_features\")"
   ]
  },
  {
   "cell_type": "code",
   "execution_count": 7,
   "metadata": {},
   "outputs": [
    {
     "data": {
      "text/html": [
       "<div>\n",
       "<style scoped>\n",
       "    .dataframe tbody tr th:only-of-type {\n",
       "        vertical-align: middle;\n",
       "    }\n",
       "\n",
       "    .dataframe tbody tr th {\n",
       "        vertical-align: top;\n",
       "    }\n",
       "\n",
       "    .dataframe thead th {\n",
       "        text-align: right;\n",
       "    }\n",
       "</style>\n",
       "<table border=\"1\" class=\"dataframe\">\n",
       "  <thead>\n",
       "    <tr style=\"text-align: right;\">\n",
       "      <th></th>\n",
       "      <th>popularity</th>\n",
       "      <th>danceability</th>\n",
       "      <th>energy</th>\n",
       "      <th>key</th>\n",
       "      <th>loudness</th>\n",
       "      <th>mode</th>\n",
       "      <th>speechiness</th>\n",
       "      <th>acousticness</th>\n",
       "      <th>instrumentalness</th>\n",
       "      <th>liveness</th>\n",
       "      <th>valence</th>\n",
       "      <th>tempo</th>\n",
       "      <th>duration_ms</th>\n",
       "      <th>time_signature</th>\n",
       "    </tr>\n",
       "  </thead>\n",
       "  <tbody>\n",
       "    <tr>\n",
       "      <th>count</th>\n",
       "      <td>20.000000</td>\n",
       "      <td>20.000000</td>\n",
       "      <td>20.000000</td>\n",
       "      <td>20.000000</td>\n",
       "      <td>20.00000</td>\n",
       "      <td>20.000000</td>\n",
       "      <td>20.000000</td>\n",
       "      <td>20.000000</td>\n",
       "      <td>20.000000</td>\n",
       "      <td>20.000000</td>\n",
       "      <td>20.000000</td>\n",
       "      <td>20.000000</td>\n",
       "      <td>20.000000</td>\n",
       "      <td>20.000000</td>\n",
       "    </tr>\n",
       "    <tr>\n",
       "      <th>mean</th>\n",
       "      <td>31.950000</td>\n",
       "      <td>0.711300</td>\n",
       "      <td>0.500945</td>\n",
       "      <td>5.050000</td>\n",
       "      <td>-10.75710</td>\n",
       "      <td>0.700000</td>\n",
       "      <td>0.056995</td>\n",
       "      <td>0.574235</td>\n",
       "      <td>0.197045</td>\n",
       "      <td>0.180315</td>\n",
       "      <td>0.697900</td>\n",
       "      <td>140.006400</td>\n",
       "      <td>196590.700000</td>\n",
       "      <td>4.050000</td>\n",
       "    </tr>\n",
       "    <tr>\n",
       "      <th>std</th>\n",
       "      <td>22.390024</td>\n",
       "      <td>0.061225</td>\n",
       "      <td>0.202163</td>\n",
       "      <td>3.872644</td>\n",
       "      <td>4.07455</td>\n",
       "      <td>0.470162</td>\n",
       "      <td>0.037958</td>\n",
       "      <td>0.263681</td>\n",
       "      <td>0.356133</td>\n",
       "      <td>0.179998</td>\n",
       "      <td>0.217541</td>\n",
       "      <td>7.886822</td>\n",
       "      <td>40621.248659</td>\n",
       "      <td>0.223607</td>\n",
       "    </tr>\n",
       "    <tr>\n",
       "      <th>min</th>\n",
       "      <td>0.000000</td>\n",
       "      <td>0.596000</td>\n",
       "      <td>0.089900</td>\n",
       "      <td>0.000000</td>\n",
       "      <td>-19.97200</td>\n",
       "      <td>0.000000</td>\n",
       "      <td>0.027300</td>\n",
       "      <td>0.090600</td>\n",
       "      <td>0.000000</td>\n",
       "      <td>0.030800</td>\n",
       "      <td>0.288000</td>\n",
       "      <td>132.014000</td>\n",
       "      <td>119536.000000</td>\n",
       "      <td>4.000000</td>\n",
       "    </tr>\n",
       "    <tr>\n",
       "      <th>25%</th>\n",
       "      <td>18.750000</td>\n",
       "      <td>0.667000</td>\n",
       "      <td>0.357500</td>\n",
       "      <td>1.000000</td>\n",
       "      <td>-12.86050</td>\n",
       "      <td>0.000000</td>\n",
       "      <td>0.036675</td>\n",
       "      <td>0.395250</td>\n",
       "      <td>0.000006</td>\n",
       "      <td>0.089700</td>\n",
       "      <td>0.539500</td>\n",
       "      <td>134.140500</td>\n",
       "      <td>166808.750000</td>\n",
       "      <td>4.000000</td>\n",
       "    </tr>\n",
       "    <tr>\n",
       "      <th>50%</th>\n",
       "      <td>31.500000</td>\n",
       "      <td>0.694500</td>\n",
       "      <td>0.492500</td>\n",
       "      <td>6.000000</td>\n",
       "      <td>-9.77700</td>\n",
       "      <td>1.000000</td>\n",
       "      <td>0.043300</td>\n",
       "      <td>0.662500</td>\n",
       "      <td>0.002886</td>\n",
       "      <td>0.105500</td>\n",
       "      <td>0.729000</td>\n",
       "      <td>137.155000</td>\n",
       "      <td>184960.000000</td>\n",
       "      <td>4.000000</td>\n",
       "    </tr>\n",
       "    <tr>\n",
       "      <th>75%</th>\n",
       "      <td>49.000000</td>\n",
       "      <td>0.763750</td>\n",
       "      <td>0.637250</td>\n",
       "      <td>9.000000</td>\n",
       "      <td>-8.29650</td>\n",
       "      <td>1.000000</td>\n",
       "      <td>0.056900</td>\n",
       "      <td>0.779500</td>\n",
       "      <td>0.115825</td>\n",
       "      <td>0.201250</td>\n",
       "      <td>0.889750</td>\n",
       "      <td>146.002250</td>\n",
       "      <td>227279.750000</td>\n",
       "      <td>4.000000</td>\n",
       "    </tr>\n",
       "    <tr>\n",
       "      <th>max</th>\n",
       "      <td>74.000000</td>\n",
       "      <td>0.825000</td>\n",
       "      <td>0.858000</td>\n",
       "      <td>10.000000</td>\n",
       "      <td>-5.84200</td>\n",
       "      <td>1.000000</td>\n",
       "      <td>0.167000</td>\n",
       "      <td>0.862000</td>\n",
       "      <td>0.949000</td>\n",
       "      <td>0.836000</td>\n",
       "      <td>0.962000</td>\n",
       "      <td>158.000000</td>\n",
       "      <td>262120.000000</td>\n",
       "      <td>5.000000</td>\n",
       "    </tr>\n",
       "  </tbody>\n",
       "</table>\n",
       "</div>"
      ],
      "text/plain": [
       "       popularity  danceability     energy        key  loudness       mode  \\\n",
       "count   20.000000     20.000000  20.000000  20.000000  20.00000  20.000000   \n",
       "mean    31.950000      0.711300   0.500945   5.050000 -10.75710   0.700000   \n",
       "std     22.390024      0.061225   0.202163   3.872644   4.07455   0.470162   \n",
       "min      0.000000      0.596000   0.089900   0.000000 -19.97200   0.000000   \n",
       "25%     18.750000      0.667000   0.357500   1.000000 -12.86050   0.000000   \n",
       "50%     31.500000      0.694500   0.492500   6.000000  -9.77700   1.000000   \n",
       "75%     49.000000      0.763750   0.637250   9.000000  -8.29650   1.000000   \n",
       "max     74.000000      0.825000   0.858000  10.000000  -5.84200   1.000000   \n",
       "\n",
       "       speechiness  acousticness  instrumentalness   liveness    valence  \\\n",
       "count    20.000000     20.000000         20.000000  20.000000  20.000000   \n",
       "mean      0.056995      0.574235          0.197045   0.180315   0.697900   \n",
       "std       0.037958      0.263681          0.356133   0.179998   0.217541   \n",
       "min       0.027300      0.090600          0.000000   0.030800   0.288000   \n",
       "25%       0.036675      0.395250          0.000006   0.089700   0.539500   \n",
       "50%       0.043300      0.662500          0.002886   0.105500   0.729000   \n",
       "75%       0.056900      0.779500          0.115825   0.201250   0.889750   \n",
       "max       0.167000      0.862000          0.949000   0.836000   0.962000   \n",
       "\n",
       "            tempo    duration_ms  time_signature  \n",
       "count   20.000000      20.000000       20.000000  \n",
       "mean   140.006400  196590.700000        4.050000  \n",
       "std      7.886822   40621.248659        0.223607  \n",
       "min    132.014000  119536.000000        4.000000  \n",
       "25%    134.140500  166808.750000        4.000000  \n",
       "50%    137.155000  184960.000000        4.000000  \n",
       "75%    146.002250  227279.750000        4.000000  \n",
       "max    158.000000  262120.000000        5.000000  "
      ]
     },
     "execution_count": 7,
     "metadata": {},
     "output_type": "execute_result"
    }
   ],
   "source": [
    "tracks_df = pd.DataFrame(tracks)\n",
    "audio_features_df = pd.DataFrame(audio_features)\n",
    "\n",
    "df = tracks_df.merge(audio_features_df, on='id')\n",
    "df = df.drop(columns=['analysis_url', 'track_href', 'type', 'uri'])\n",
    "df.describe()"
   ]
  },
  {
   "cell_type": "code",
   "execution_count": 8,
   "metadata": {},
   "outputs": [
    {
     "data": {
      "text/plain": [
       "<matplotlib.axes._subplots.AxesSubplot at 0x11e3ffa10>"
      ]
     },
     "execution_count": 8,
     "metadata": {},
     "output_type": "execute_result"
    },
    {
     "data": {
      "image/png": "[encoded data removed]",
      "text/plain": [
       "<Figure size 432x288 with 1 Axes>"
      ]
     },
     "metadata": {
      "needs_background": "light"
     },
     "output_type": "display_data"
    }
   ],
   "source": [
    "df['tempo'].plot.hist()"
   ]
  },
  {
   "cell_type": "code",
   "execution_count": 9,
   "metadata": {},
   "outputs": [
    {
     "data": {
      "text/plain": [
       "<matplotlib.axes._subplots.AxesSubplot at 0x11e897910>"
      ]
     },
     "execution_count": 9,
     "metadata": {},
     "output_type": "execute_result"
    },
    {
     "data": {
      "image/png": "[encoded data removed]",
      "text/plain": [
       "<Figure size 432x288 with 1 Axes>"
      ]
     },
     "metadata": {
      "needs_background": "light"
     },
     "output_type": "display_data"
    }
   ],
   "source": [
    "df['acousticness'].plot.hist()"
   ]
  },
  {
   "cell_type": "markdown",
   "metadata": {},
   "source": [
    "# Get all my public playlists"
   ]
  },
  {
   "cell_type": "code",
   "execution_count": 10,
   "metadata": {},
   "outputs": [
    {
     "data": {
      "text/plain": [
       "72"
      ]
     },
     "execution_count": 10,
     "metadata": {},
     "output_type": "execute_result"
    }
   ],
   "source": [
    "sp_response = sp.current_user_playlists()\n",
    "all_playlists = sp_response['items']\n",
    "while sp_response['next']:\n",
    "    sp_response = sp.next(sp_response)\n",
    "    all_playlists.extend(sp_response['items'])\n",
    "len(all_playlists)"
   ]
  },
  {
   "cell_type": "code",
   "execution_count": 11,
   "metadata": {},
   "outputs": [
    {
     "data": {
      "text/plain": [
       "48"
      ]
     },
     "execution_count": 11,
     "metadata": {},
     "output_type": "execute_result"
    }
   ],
   "source": [
    "own_playlists = list(filter(lambda l: l['owner']['id'] == user['id'], all_playlists))\n",
    "len(own_playlists)"
   ]
  },
  {
   "cell_type": "code",
   "execution_count": 12,
   "metadata": {},
   "outputs": [
    {
     "data": {
      "text/plain": [
       "48"
      ]
     },
     "execution_count": 12,
     "metadata": {},
     "output_type": "execute_result"
    }
   ],
   "source": [
    "own_playlists_trimmed = [{k: v for k, v in d.items() if k in ['id', 'name', 'public', 'tracks']} for d in own_playlists]\n",
    "len(own_playlists_trimmed)"
   ]
  },
  {
   "cell_type": "code",
   "execution_count": 13,
   "metadata": {},
   "outputs": [
    {
     "data": {
      "text/plain": [
       "17"
      ]
     },
     "execution_count": 13,
     "metadata": {},
     "output_type": "execute_result"
    }
   ],
   "source": [
    "public_playlists = list(filter(lambda l: (l['public'] == True), own_playlists_trimmed))\n",
    "len(public_playlists)"
   ]
  },
  {
   "cell_type": "code",
   "execution_count": 14,
   "metadata": {},
   "outputs": [
    {
     "data": {
      "text/plain": [
       "[{'id': '6u5RL72VpPaJfeLksVLE2Q',\n",
       "  'name': 'Mellow Jazz',\n",
       "  'public': True,\n",
       "  'tracks': {'href': 'https://api.spotify.com/v1/playlists/6u5RL72VpPaJfeLksVLE2Q/tracks',\n",
       "   'total': 712}},\n",
       " {'id': '7JYdgqlBBhiCqjpx2pVKwf',\n",
       "  'name': 'KJAH',\n",
       "  'public': True,\n",
       "  'tracks': {'href': 'https://api.spotify.com/v1/playlists/7JYdgqlBBhiCqjpx2pVKwf/tracks',\n",
       "   'total': 1610}},\n",
       " {'id': '4jdHBhEw9a9OBJ0CVbmpFX',\n",
       "  'name': 'Run',\n",
       "  'public': True,\n",
       "  'tracks': {'href': 'https://api.spotify.com/v1/playlists/4jdHBhEw9a9OBJ0CVbmpFX/tracks',\n",
       "   'total': 68}},\n",
       " {'id': '2MzQi9D9OtFuUsuOS8lwtS',\n",
       "  'name': 'Power Songs',\n",
       "  'public': True,\n",
       "  'tracks': {'href': 'https://api.spotify.com/v1/playlists/2MzQi9D9OtFuUsuOS8lwtS/tracks',\n",
       "   'total': 925}},\n",
       " {'id': '5ngdqzXvg3v6yakZ6oAcxv',\n",
       "  'name': 'Trojan Archives',\n",
       "  'public': True,\n",
       "  'tracks': {'href': 'https://api.spotify.com/v1/playlists/5ngdqzXvg3v6yakZ6oAcxv/tracks',\n",
       "   'total': 749}},\n",
       " {'id': '566s1zzyRtF4bzv9JfpnVY',\n",
       "  'name': 'Pop2000',\n",
       "  'public': True,\n",
       "  'tracks': {'href': 'https://api.spotify.com/v1/playlists/566s1zzyRtF4bzv9JfpnVY/tracks',\n",
       "   'total': 1163}},\n",
       " {'id': '6yCyQLKLPHmNAM1qfXxaT2',\n",
       "  'name': 'Phat Jazz',\n",
       "  'public': True,\n",
       "  'tracks': {'href': 'https://api.spotify.com/v1/playlists/6yCyQLKLPHmNAM1qfXxaT2/tracks',\n",
       "   'total': 144}},\n",
       " {'id': '7xpOH7WiLtpA1nKkPjuDuf',\n",
       "  'name': 'Jazz Lounge',\n",
       "  'public': True,\n",
       "  'tracks': {'href': 'https://api.spotify.com/v1/playlists/7xpOH7WiLtpA1nKkPjuDuf/tracks',\n",
       "   'total': 895}},\n",
       " {'id': '01PEgqXn5ZhC8z9a7HpVmG',\n",
       "  'name': 'Groovy Jazz',\n",
       "  'public': True,\n",
       "  'tracks': {'href': 'https://api.spotify.com/v1/playlists/01PEgqXn5ZhC8z9a7HpVmG/tracks',\n",
       "   'total': 253}},\n",
       " {'id': '31tFGldLHHeWvitXFG721v',\n",
       "  'name': 'Uptempo Jazz',\n",
       "  'public': True,\n",
       "  'tracks': {'href': 'https://api.spotify.com/v1/playlists/31tFGldLHHeWvitXFG721v/tracks',\n",
       "   'total': 41}},\n",
       " {'id': '489J1YM8xmRKwJ0KJCrDgM',\n",
       "  'name': 'Dinner Jazz',\n",
       "  'public': True,\n",
       "  'tracks': {'href': 'https://api.spotify.com/v1/playlists/489J1YM8xmRKwJ0KJCrDgM/tracks',\n",
       "   'total': 633}},\n",
       " {'id': '6llGZ072CW6nCfZnP4IRpI',\n",
       "  'name': 'Classic Jazz',\n",
       "  'public': True,\n",
       "  'tracks': {'href': 'https://api.spotify.com/v1/playlists/6llGZ072CW6nCfZnP4IRpI/tracks',\n",
       "   'total': 686}},\n",
       " {'id': '1npiimUFPnfOMfFKrwyc01',\n",
       "  'name': '5 Star Hard Bop Albums',\n",
       "  'public': True,\n",
       "  'tracks': {'href': 'https://api.spotify.com/v1/playlists/1npiimUFPnfOMfFKrwyc01/tracks',\n",
       "   'total': 534}},\n",
       " {'id': '1FUKz6E2K5ldoAd4wbG8Ew',\n",
       "  'name': 'Top hard bop tracks',\n",
       "  'public': True,\n",
       "  'tracks': {'href': 'https://api.spotify.com/v1/playlists/1FUKz6E2K5ldoAd4wbG8Ew/tracks',\n",
       "   'total': 88}},\n",
       " {'id': '69YjiqBUyv672XV0n1RQrv',\n",
       "  'name': 'Top bebop tracks',\n",
       "  'public': True,\n",
       "  'tracks': {'href': 'https://api.spotify.com/v1/playlists/69YjiqBUyv672XV0n1RQrv/tracks',\n",
       "   'total': 100}},\n",
       " {'id': '0Ou5HSpnMa1Sc9uZZjnOOa',\n",
       "  'name': 'The Vibe!',\n",
       "  'public': True,\n",
       "  'tracks': {'href': 'https://api.spotify.com/v1/playlists/0Ou5HSpnMa1Sc9uZZjnOOa/tracks',\n",
       "   'total': 123}},\n",
       " {'id': '3ELlsCnc7nAqbhFC53U2W8',\n",
       "  'name': 'Orhan',\n",
       "  'public': True,\n",
       "  'tracks': {'href': 'https://api.spotify.com/v1/playlists/3ELlsCnc7nAqbhFC53U2W8/tracks',\n",
       "   'total': 20}}]"
      ]
     },
     "execution_count": 14,
     "metadata": {},
     "output_type": "execute_result"
    }
   ],
   "source": [
    "public_playlists"
   ]
  },
  {
   "cell_type": "code",
   "execution_count": null,
   "metadata": {},
   "outputs": [],
   "source": []
  }
 ],
 "metadata": {
  "kernelspec": {
   "display_name": "Python 3",
   "language": "python",
   "name": "python3"
  },
  "language_info": {
   "codemirror_mode": {
    "name": "ipython",
    "version": 3
   },
   "file_extension": ".py",
   "mimetype": "text/x-python",
   "name": "python",
   "nbconvert_exporter": "python",
   "pygments_lexer": "ipython3",
   "version": "3.7.6"
  }
 },
 "nbformat": 4,
 "nbformat_minor": 2
}
