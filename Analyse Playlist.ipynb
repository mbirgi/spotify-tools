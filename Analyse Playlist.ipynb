{
 "cells": [
  {
   "cell_type": "code",
   "execution_count": 1,
   "metadata": {},
   "outputs": [
    {
     "data": {
      "text/plain": [
       "'Mehmet Birgi'"
      ]
     },
     "execution_count": 1,
     "metadata": {},
     "output_type": "execute_result"
    }
   ],
   "source": [
    "import matplotlib.pyplot as plt\n",
    "import pandas as pd\n",
    "import numpy as np\n",
    "\n",
    "import spotify\n",
    "import utils\n",
    "\n",
    "sp = spotify.login(scope='playlist-modify-private')\n",
    "user = sp.current_user()\n",
    "username = user['id']\n",
    "displayName = user['display_name']\n",
    "displayName"
   ]
  },
  {
   "cell_type": "code",
   "execution_count": 2,
   "metadata": {},
   "outputs": [
    {
     "data": {
      "text/plain": [
       "'OpenBroadcast - Good Vibes (by baxter)'"
      ]
     },
     "execution_count": 2,
     "metadata": {},
     "output_type": "execute_result"
    }
   ],
   "source": [
    "playlist_id = 'spotify:playlist:31ncBxcoGHB9lTbAEly5xR'\n",
    "playlist = sp.user_playlist(username, playlist_id, fields=\"name, tracks, next\")\n",
    "playlist_name = playlist['name']\n",
    "playlist_name"
   ]
  },
  {
   "cell_type": "code",
   "execution_count": 3,
   "metadata": {},
   "outputs": [
    {
     "name": "stdout",
     "output_type": "stream",
     "text": [
      "462 tracks in playlist\n",
      "462 tracks in audio_features\n"
     ]
    }
   ],
   "source": [
    "tracks = []\n",
    "audio_features = []\n",
    "tracks_paging_object = playlist['tracks']\n",
    "while True:\n",
    "    track_id_list = []\n",
    "    for item in tracks_paging_object['items']:\n",
    "        track_result = item['track']\n",
    "        track = {\n",
    "            'id': track_result['id'],\n",
    "            'name': track_result['name'],\n",
    "            'artist_id': track_result['artists'][0]['id'],\n",
    "            'artist_name': track_result['artists'][0]['name'],\n",
    "            'popularity': track_result['popularity'],\n",
    "        }\n",
    "        tracks.append(track)\n",
    "        track_id_list.append(track['id'])\n",
    "    audio_features.extend(sp.audio_features(track_id_list))\n",
    "    if not tracks_paging_object['next']:\n",
    "        break\n",
    "    tracks_paging_object = sp.next(tracks_paging_object)\n",
    "print(len(tracks), \"tracks in playlist\")\n",
    "print(len(audio_features), \"tracks in audio_features\")"
   ]
  },
  {
   "cell_type": "code",
   "execution_count": 4,
   "metadata": {},
   "outputs": [
    {
     "data": {
      "text/html": [
       "<div>\n",
       "<style scoped>\n",
       "    .dataframe tbody tr th:only-of-type {\n",
       "        vertical-align: middle;\n",
       "    }\n",
       "\n",
       "    .dataframe tbody tr th {\n",
       "        vertical-align: top;\n",
       "    }\n",
       "\n",
       "    .dataframe thead th {\n",
       "        text-align: right;\n",
       "    }\n",
       "</style>\n",
       "<table border=\"1\" class=\"dataframe\">\n",
       "  <thead>\n",
       "    <tr style=\"text-align: right;\">\n",
       "      <th></th>\n",
       "      <th>popularity</th>\n",
       "      <th>danceability</th>\n",
       "      <th>energy</th>\n",
       "      <th>key</th>\n",
       "      <th>loudness</th>\n",
       "      <th>mode</th>\n",
       "      <th>speechiness</th>\n",
       "      <th>acousticness</th>\n",
       "      <th>instrumentalness</th>\n",
       "      <th>liveness</th>\n",
       "      <th>valence</th>\n",
       "      <th>tempo</th>\n",
       "      <th>duration_ms</th>\n",
       "      <th>time_signature</th>\n",
       "    </tr>\n",
       "  </thead>\n",
       "  <tbody>\n",
       "    <tr>\n",
       "      <th>count</th>\n",
       "      <td>502.000000</td>\n",
       "      <td>502.000000</td>\n",
       "      <td>502.000000</td>\n",
       "      <td>502.000000</td>\n",
       "      <td>502.000000</td>\n",
       "      <td>502.000000</td>\n",
       "      <td>502.000000</td>\n",
       "      <td>502.000000</td>\n",
       "      <td>502.000000</td>\n",
       "      <td>502.000000</td>\n",
       "      <td>502.000000</td>\n",
       "      <td>502.000000</td>\n",
       "      <td>5.020000e+02</td>\n",
       "      <td>502.000000</td>\n",
       "    </tr>\n",
       "    <tr>\n",
       "      <th>mean</th>\n",
       "      <td>21.221116</td>\n",
       "      <td>0.698625</td>\n",
       "      <td>0.565115</td>\n",
       "      <td>5.256972</td>\n",
       "      <td>-9.959476</td>\n",
       "      <td>0.464143</td>\n",
       "      <td>0.072823</td>\n",
       "      <td>0.344030</td>\n",
       "      <td>0.257797</td>\n",
       "      <td>0.157214</td>\n",
       "      <td>0.684610</td>\n",
       "      <td>112.209301</td>\n",
       "      <td>2.512570e+05</td>\n",
       "      <td>3.946215</td>\n",
       "    </tr>\n",
       "    <tr>\n",
       "      <th>std</th>\n",
       "      <td>17.796390</td>\n",
       "      <td>0.127952</td>\n",
       "      <td>0.169311</td>\n",
       "      <td>3.479008</td>\n",
       "      <td>3.268447</td>\n",
       "      <td>0.499210</td>\n",
       "      <td>0.067655</td>\n",
       "      <td>0.283675</td>\n",
       "      <td>0.331706</td>\n",
       "      <td>0.124819</td>\n",
       "      <td>0.216803</td>\n",
       "      <td>25.729316</td>\n",
       "      <td>9.635231e+04</td>\n",
       "      <td>0.314480</td>\n",
       "    </tr>\n",
       "    <tr>\n",
       "      <th>min</th>\n",
       "      <td>0.000000</td>\n",
       "      <td>0.241000</td>\n",
       "      <td>0.041500</td>\n",
       "      <td>0.000000</td>\n",
       "      <td>-26.094000</td>\n",
       "      <td>0.000000</td>\n",
       "      <td>0.023500</td>\n",
       "      <td>0.000545</td>\n",
       "      <td>0.000000</td>\n",
       "      <td>0.020700</td>\n",
       "      <td>0.036600</td>\n",
       "      <td>37.069000</td>\n",
       "      <td>2.728200e+04</td>\n",
       "      <td>1.000000</td>\n",
       "    </tr>\n",
       "    <tr>\n",
       "      <th>25%</th>\n",
       "      <td>5.000000</td>\n",
       "      <td>0.618000</td>\n",
       "      <td>0.447500</td>\n",
       "      <td>2.000000</td>\n",
       "      <td>-11.698250</td>\n",
       "      <td>0.000000</td>\n",
       "      <td>0.038775</td>\n",
       "      <td>0.069200</td>\n",
       "      <td>0.000569</td>\n",
       "      <td>0.089175</td>\n",
       "      <td>0.542750</td>\n",
       "      <td>95.092000</td>\n",
       "      <td>1.938480e+05</td>\n",
       "      <td>4.000000</td>\n",
       "    </tr>\n",
       "    <tr>\n",
       "      <th>50%</th>\n",
       "      <td>17.000000</td>\n",
       "      <td>0.717500</td>\n",
       "      <td>0.571000</td>\n",
       "      <td>5.000000</td>\n",
       "      <td>-9.313000</td>\n",
       "      <td>0.000000</td>\n",
       "      <td>0.049350</td>\n",
       "      <td>0.273000</td>\n",
       "      <td>0.040300</td>\n",
       "      <td>0.112000</td>\n",
       "      <td>0.732000</td>\n",
       "      <td>107.398000</td>\n",
       "      <td>2.369800e+05</td>\n",
       "      <td>4.000000</td>\n",
       "    </tr>\n",
       "    <tr>\n",
       "      <th>75%</th>\n",
       "      <td>34.000000</td>\n",
       "      <td>0.793500</td>\n",
       "      <td>0.689250</td>\n",
       "      <td>8.000000</td>\n",
       "      <td>-7.704250</td>\n",
       "      <td>1.000000</td>\n",
       "      <td>0.075150</td>\n",
       "      <td>0.586250</td>\n",
       "      <td>0.557250</td>\n",
       "      <td>0.170000</td>\n",
       "      <td>0.855000</td>\n",
       "      <td>120.017500</td>\n",
       "      <td>2.914405e+05</td>\n",
       "      <td>4.000000</td>\n",
       "    </tr>\n",
       "    <tr>\n",
       "      <th>max</th>\n",
       "      <td>76.000000</td>\n",
       "      <td>0.979000</td>\n",
       "      <td>0.982000</td>\n",
       "      <td>11.000000</td>\n",
       "      <td>-0.519000</td>\n",
       "      <td>1.000000</td>\n",
       "      <td>0.627000</td>\n",
       "      <td>0.960000</td>\n",
       "      <td>0.981000</td>\n",
       "      <td>0.974000</td>\n",
       "      <td>0.986000</td>\n",
       "      <td>209.186000</td>\n",
       "      <td>1.056067e+06</td>\n",
       "      <td>5.000000</td>\n",
       "    </tr>\n",
       "  </tbody>\n",
       "</table>\n",
       "</div>"
      ],
      "text/plain": [
       "       popularity  danceability      energy         key    loudness  \\\n",
       "count  502.000000    502.000000  502.000000  502.000000  502.000000   \n",
       "mean    21.221116      0.698625    0.565115    5.256972   -9.959476   \n",
       "std     17.796390      0.127952    0.169311    3.479008    3.268447   \n",
       "min      0.000000      0.241000    0.041500    0.000000  -26.094000   \n",
       "25%      5.000000      0.618000    0.447500    2.000000  -11.698250   \n",
       "50%     17.000000      0.717500    0.571000    5.000000   -9.313000   \n",
       "75%     34.000000      0.793500    0.689250    8.000000   -7.704250   \n",
       "max     76.000000      0.979000    0.982000   11.000000   -0.519000   \n",
       "\n",
       "             mode  speechiness  acousticness  instrumentalness    liveness  \\\n",
       "count  502.000000   502.000000    502.000000        502.000000  502.000000   \n",
       "mean     0.464143     0.072823      0.344030          0.257797    0.157214   \n",
       "std      0.499210     0.067655      0.283675          0.331706    0.124819   \n",
       "min      0.000000     0.023500      0.000545          0.000000    0.020700   \n",
       "25%      0.000000     0.038775      0.069200          0.000569    0.089175   \n",
       "50%      0.000000     0.049350      0.273000          0.040300    0.112000   \n",
       "75%      1.000000     0.075150      0.586250          0.557250    0.170000   \n",
       "max      1.000000     0.627000      0.960000          0.981000    0.974000   \n",
       "\n",
       "          valence       tempo   duration_ms  time_signature  \n",
       "count  502.000000  502.000000  5.020000e+02      502.000000  \n",
       "mean     0.684610  112.209301  2.512570e+05        3.946215  \n",
       "std      0.216803   25.729316  9.635231e+04        0.314480  \n",
       "min      0.036600   37.069000  2.728200e+04        1.000000  \n",
       "25%      0.542750   95.092000  1.938480e+05        4.000000  \n",
       "50%      0.732000  107.398000  2.369800e+05        4.000000  \n",
       "75%      0.855000  120.017500  2.914405e+05        4.000000  \n",
       "max      0.986000  209.186000  1.056067e+06        5.000000  "
      ]
     },
     "execution_count": 4,
     "metadata": {},
     "output_type": "execute_result"
    }
   ],
   "source": [
    "tracks_df = pd.DataFrame(tracks)\n",
    "audio_features_df = pd.DataFrame(audio_features)\n",
    "\n",
    "df = tracks_df.merge(audio_features_df, on='id')\n",
    "df = df.drop(columns=['analysis_url', 'track_href', 'type', 'uri'])\n",
    "df.describe()"
   ]
  },
  {
   "cell_type": "code",
   "execution_count": 5,
   "metadata": {},
   "outputs": [
    {
     "data": {
      "text/plain": [
       "<matplotlib.axes._subplots.AxesSubplot at 0x1224642d0>"
      ]
     },
     "execution_count": 5,
     "metadata": {},
     "output_type": "execute_result"
    },
    {
     "data": {
      "image/png": "[encoded data removed]",
      "text/plain": [
       "<Figure size 432x288 with 1 Axes>"
      ]
     },
     "metadata": {
      "needs_background": "light"
     },
     "output_type": "display_data"
    }
   ],
   "source": [
    "df['tempo'].plot.hist()"
   ]
  },
  {
   "cell_type": "markdown",
   "metadata": {},
   "source": [
    "<img src=\"bpm_pace.png\" width=\"600\">"
   ]
  },
  {
   "cell_type": "code",
   "execution_count": 19,
   "metadata": {},
   "outputs": [
    {
     "data": {
      "text/plain": [
       "50"
      ]
     },
     "execution_count": 19,
     "metadata": {},
     "output_type": "execute_result"
    }
   ],
   "source": [
    "# set the BPM range\n",
    "tempo_min, tempo_max = 120, 130\n",
    "track_ids = list(df[(df['tempo'] >= tempo_min) & (df['tempo'] <= tempo_max) & (df['danceability'] >= 0.5)]['id'])\n",
    "len(track_ids)"
   ]
  },
  {
   "cell_type": "code",
   "execution_count": 20,
   "metadata": {},
   "outputs": [
    {
     "name": "stdout",
     "output_type": "stream",
     "text": [
      "Created new playlist with ID 1BfmdmBfylz9Xb9vo7FDNS\n"
     ]
    }
   ],
   "source": [
    "playlist_id, is_new = spotify.get_playlist_by_name(sp, \n",
    "        f\"Run Test BPM {tempo_min} - {tempo_max}\", \n",
    "        create_if_none=True)\n",
    "if playlist_id and is_new:\n",
    "    print(f\"Created new playlist with ID {playlist_id}\")\n",
    "elif playlist_id:\n",
    "    print(f\"Found existing playlist with ID {playlist_id}\")\n",
    "else:\n",
    "    print(\"Something went wrong :-(\")"
   ]
  },
  {
   "cell_type": "code",
   "execution_count": 21,
   "metadata": {},
   "outputs": [
    {
     "data": {
      "text/plain": [
       "50"
      ]
     },
     "execution_count": 21,
     "metadata": {},
     "output_type": "execute_result"
    }
   ],
   "source": [
    "num_tracks_added = spotify.add_tracks(sp, playlist_id, track_ids)\n",
    "num_tracks_added"
   ]
  },
  {
   "cell_type": "code",
   "execution_count": 6,
   "metadata": {},
   "outputs": [
    {
     "data": {
      "text/plain": [
       "<matplotlib.axes._subplots.AxesSubplot at 0x1225124d0>"
      ]
     },
     "execution_count": 6,
     "metadata": {},
     "output_type": "execute_result"
    },
    {
     "data": {
      "image/png": "[encoded data removed]",
      "text/plain": [
       "<Figure size 432x288 with 1 Axes>"
      ]
     },
     "metadata": {
      "needs_background": "light"
     },
     "output_type": "display_data"
    }
   ],
   "source": [
    "df['acousticness'].plot.hist()"
   ]
  },
  {
   "cell_type": "markdown",
   "metadata": {},
   "source": [
    "# Get all my public playlists"
   ]
  },
  {
   "cell_type": "code",
   "execution_count": 7,
   "metadata": {},
   "outputs": [
    {
     "data": {
      "text/plain": [
       "73"
      ]
     },
     "execution_count": 7,
     "metadata": {},
     "output_type": "execute_result"
    }
   ],
   "source": [
    "sp_response = sp.current_user_playlists()\n",
    "all_playlists = sp_response['items']\n",
    "while sp_response['next']:\n",
    "    sp_response = sp.next(sp_response)\n",
    "    all_playlists.extend(sp_response['items'])\n",
    "len(all_playlists)"
   ]
  },
  {
   "cell_type": "code",
   "execution_count": 8,
   "metadata": {},
   "outputs": [
    {
     "data": {
      "text/plain": [
       "49"
      ]
     },
     "execution_count": 8,
     "metadata": {},
     "output_type": "execute_result"
    }
   ],
   "source": [
    "own_playlists = list(filter(lambda l: l['owner']['id'] == user['id'], all_playlists))\n",
    "len(own_playlists)"
   ]
  },
  {
   "cell_type": "code",
   "execution_count": 9,
   "metadata": {},
   "outputs": [
    {
     "data": {
      "text/plain": [
       "49"
      ]
     },
     "execution_count": 9,
     "metadata": {},
     "output_type": "execute_result"
    }
   ],
   "source": [
    "own_playlists_trimmed = [{k: v for k, v in d.items() if k in ['id', 'name', 'public', 'tracks']} for d in own_playlists]\n",
    "len(own_playlists_trimmed)"
   ]
  },
  {
   "cell_type": "code",
   "execution_count": 10,
   "metadata": {},
   "outputs": [
    {
     "data": {
      "text/plain": [
       "17"
      ]
     },
     "execution_count": 10,
     "metadata": {},
     "output_type": "execute_result"
    }
   ],
   "source": [
    "public_playlists = list(filter(lambda l: (l['public'] == True), own_playlists_trimmed))\n",
    "len(public_playlists)"
   ]
  },
  {
   "cell_type": "code",
   "execution_count": 11,
   "metadata": {},
   "outputs": [
    {
     "data": {
      "text/plain": [
       "[{'id': '6u5RL72VpPaJfeLksVLE2Q',\n",
       "  'name': 'Mellow Jazz',\n",
       "  'public': True,\n",
       "  'tracks': {'href': 'https://api.spotify.com/v1/playlists/6u5RL72VpPaJfeLksVLE2Q/tracks',\n",
       "   'total': 712}},\n",
       " {'id': '7JYdgqlBBhiCqjpx2pVKwf',\n",
       "  'name': 'KJAH',\n",
       "  'public': True,\n",
       "  'tracks': {'href': 'https://api.spotify.com/v1/playlists/7JYdgqlBBhiCqjpx2pVKwf/tracks',\n",
       "   'total': 1610}},\n",
       " {'id': '4jdHBhEw9a9OBJ0CVbmpFX',\n",
       "  'name': 'Run',\n",
       "  'public': True,\n",
       "  'tracks': {'href': 'https://api.spotify.com/v1/playlists/4jdHBhEw9a9OBJ0CVbmpFX/tracks',\n",
       "   'total': 68}},\n",
       " {'id': '2MzQi9D9OtFuUsuOS8lwtS',\n",
       "  'name': 'Power Songs',\n",
       "  'public': True,\n",
       "  'tracks': {'href': 'https://api.spotify.com/v1/playlists/2MzQi9D9OtFuUsuOS8lwtS/tracks',\n",
       "   'total': 925}},\n",
       " {'id': '5ngdqzXvg3v6yakZ6oAcxv',\n",
       "  'name': 'Trojan Archives',\n",
       "  'public': True,\n",
       "  'tracks': {'href': 'https://api.spotify.com/v1/playlists/5ngdqzXvg3v6yakZ6oAcxv/tracks',\n",
       "   'total': 749}},\n",
       " {'id': '566s1zzyRtF4bzv9JfpnVY',\n",
       "  'name': 'Pop2000',\n",
       "  'public': True,\n",
       "  'tracks': {'href': 'https://api.spotify.com/v1/playlists/566s1zzyRtF4bzv9JfpnVY/tracks',\n",
       "   'total': 1163}},\n",
       " {'id': '6yCyQLKLPHmNAM1qfXxaT2',\n",
       "  'name': 'Phat Jazz',\n",
       "  'public': True,\n",
       "  'tracks': {'href': 'https://api.spotify.com/v1/playlists/6yCyQLKLPHmNAM1qfXxaT2/tracks',\n",
       "   'total': 144}},\n",
       " {'id': '7xpOH7WiLtpA1nKkPjuDuf',\n",
       "  'name': 'Jazz Lounge',\n",
       "  'public': True,\n",
       "  'tracks': {'href': 'https://api.spotify.com/v1/playlists/7xpOH7WiLtpA1nKkPjuDuf/tracks',\n",
       "   'total': 895}},\n",
       " {'id': '01PEgqXn5ZhC8z9a7HpVmG',\n",
       "  'name': 'Groovy Jazz',\n",
       "  'public': True,\n",
       "  'tracks': {'href': 'https://api.spotify.com/v1/playlists/01PEgqXn5ZhC8z9a7HpVmG/tracks',\n",
       "   'total': 253}},\n",
       " {'id': '31tFGldLHHeWvitXFG721v',\n",
       "  'name': 'Uptempo Jazz',\n",
       "  'public': True,\n",
       "  'tracks': {'href': 'https://api.spotify.com/v1/playlists/31tFGldLHHeWvitXFG721v/tracks',\n",
       "   'total': 41}},\n",
       " {'id': '489J1YM8xmRKwJ0KJCrDgM',\n",
       "  'name': 'Dinner Jazz',\n",
       "  'public': True,\n",
       "  'tracks': {'href': 'https://api.spotify.com/v1/playlists/489J1YM8xmRKwJ0KJCrDgM/tracks',\n",
       "   'total': 633}},\n",
       " {'id': '6llGZ072CW6nCfZnP4IRpI',\n",
       "  'name': 'Classic Jazz',\n",
       "  'public': True,\n",
       "  'tracks': {'href': 'https://api.spotify.com/v1/playlists/6llGZ072CW6nCfZnP4IRpI/tracks',\n",
       "   'total': 686}},\n",
       " {'id': '1npiimUFPnfOMfFKrwyc01',\n",
       "  'name': '5 Star Hard Bop Albums',\n",
       "  'public': True,\n",
       "  'tracks': {'href': 'https://api.spotify.com/v1/playlists/1npiimUFPnfOMfFKrwyc01/tracks',\n",
       "   'total': 534}},\n",
       " {'id': '1FUKz6E2K5ldoAd4wbG8Ew',\n",
       "  'name': 'Top hard bop tracks',\n",
       "  'public': True,\n",
       "  'tracks': {'href': 'https://api.spotify.com/v1/playlists/1FUKz6E2K5ldoAd4wbG8Ew/tracks',\n",
       "   'total': 88}},\n",
       " {'id': '69YjiqBUyv672XV0n1RQrv',\n",
       "  'name': 'Top bebop tracks',\n",
       "  'public': True,\n",
       "  'tracks': {'href': 'https://api.spotify.com/v1/playlists/69YjiqBUyv672XV0n1RQrv/tracks',\n",
       "   'total': 100}},\n",
       " {'id': '0Ou5HSpnMa1Sc9uZZjnOOa',\n",
       "  'name': 'The Vibe!',\n",
       "  'public': True,\n",
       "  'tracks': {'href': 'https://api.spotify.com/v1/playlists/0Ou5HSpnMa1Sc9uZZjnOOa/tracks',\n",
       "   'total': 123}},\n",
       " {'id': '3ELlsCnc7nAqbhFC53U2W8',\n",
       "  'name': 'Orhan',\n",
       "  'public': True,\n",
       "  'tracks': {'href': 'https://api.spotify.com/v1/playlists/3ELlsCnc7nAqbhFC53U2W8/tracks',\n",
       "   'total': 20}}]"
      ]
     },
     "execution_count": 11,
     "metadata": {},
     "output_type": "execute_result"
    }
   ],
   "source": [
    "public_playlists"
   ]
  },
  {
   "cell_type": "code",
   "execution_count": null,
   "metadata": {},
   "outputs": [],
   "source": []
  }
 ],
 "metadata": {
  "kernelspec": {
   "display_name": "Python 3",
   "language": "python",
   "name": "python3"
  },
  "language_info": {
   "codemirror_mode": {
    "name": "ipython",
    "version": 3
   },
   "file_extension": ".py",
   "mimetype": "text/x-python",
   "name": "python",
   "nbconvert_exporter": "python",
   "pygments_lexer": "ipython3",
   "version": "3.7.6"
  }
 },
 "nbformat": 4,
 "nbformat_minor": 2
}
