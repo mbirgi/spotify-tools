{
 "cells": [
  {
   "cell_type": "code",
   "execution_count": 1,
   "metadata": {},
   "outputs": [
    {
     "data": {
      "text/plain": [
       "'Mehmet Birgi'"
      ]
     },
     "execution_count": 1,
     "metadata": {},
     "output_type": "execute_result"
    }
   ],
   "source": [
    "import matplotlib.pyplot as plt\n",
    "import pandas as pd\n",
    "import numpy as np\n",
    "\n",
    "import spotify\n",
    "import utils\n",
    "\n",
    "sp = spotify.login(scope='playlist-modify-private')\n",
    "user = sp.current_user()\n",
    "username = user['id']\n",
    "displayName = user['display_name']\n",
    "displayName"
   ]
  },
  {
   "cell_type": "code",
   "execution_count": 33,
   "metadata": {},
   "outputs": [
    {
     "data": {
      "text/plain": [
       "'Walk Test'"
      ]
     },
     "execution_count": 33,
     "metadata": {},
     "output_type": "execute_result"
    }
   ],
   "source": [
    "playlist_id = 'spotify:playlist:58B3Ezs7xBVyrVnXUEOw8B'\n",
    "playlist = sp.user_playlist(username, playlist_id, fields=\"name, tracks, next\")\n",
    "playlist_name = playlist['name']\n",
    "playlist_name"
   ]
  },
  {
   "cell_type": "code",
   "execution_count": 34,
   "metadata": {},
   "outputs": [
    {
     "name": "stdout",
     "output_type": "stream",
     "text": [
      "25 tracks in playlist\n",
      "25 tracks in audio_features\n"
     ]
    }
   ],
   "source": [
    "tracks = []\n",
    "audio_features = []\n",
    "tracks_paging_object = playlist['tracks']\n",
    "while True:\n",
    "    track_id_list = []\n",
    "    for item in tracks_paging_object['items']:\n",
    "        track_result = item['track']\n",
    "        track = {\n",
    "            'id': track_result['id'],\n",
    "            'name': track_result['name'],\n",
    "            'artist_id': track_result['artists'][0]['id'],\n",
    "            'artist_name': track_result['artists'][0]['name'],\n",
    "            'popularity': track_result['popularity'],\n",
    "        }\n",
    "        tracks.append(track)\n",
    "        track_id_list.append(track['id'])\n",
    "    audio_features.extend(sp.audio_features(track_id_list))\n",
    "    if not tracks_paging_object['next']:\n",
    "        break\n",
    "    tracks_paging_object = sp.next(tracks_paging_object)\n",
    "print(len(tracks), \"tracks in playlist\")\n",
    "print(len(audio_features), \"tracks in audio_features\")"
   ]
  },
  {
   "cell_type": "code",
   "execution_count": 35,
   "metadata": {},
   "outputs": [
    {
     "data": {
      "text/html": [
       "<div>\n",
       "<style scoped>\n",
       "    .dataframe tbody tr th:only-of-type {\n",
       "        vertical-align: middle;\n",
       "    }\n",
       "\n",
       "    .dataframe tbody tr th {\n",
       "        vertical-align: top;\n",
       "    }\n",
       "\n",
       "    .dataframe thead th {\n",
       "        text-align: right;\n",
       "    }\n",
       "</style>\n",
       "<table border=\"1\" class=\"dataframe\">\n",
       "  <thead>\n",
       "    <tr style=\"text-align: right;\">\n",
       "      <th></th>\n",
       "      <th>popularity</th>\n",
       "      <th>danceability</th>\n",
       "      <th>energy</th>\n",
       "      <th>key</th>\n",
       "      <th>loudness</th>\n",
       "      <th>mode</th>\n",
       "      <th>speechiness</th>\n",
       "      <th>acousticness</th>\n",
       "      <th>instrumentalness</th>\n",
       "      <th>liveness</th>\n",
       "      <th>valence</th>\n",
       "      <th>tempo</th>\n",
       "      <th>duration_ms</th>\n",
       "      <th>time_signature</th>\n",
       "    </tr>\n",
       "  </thead>\n",
       "  <tbody>\n",
       "    <tr>\n",
       "      <th>count</th>\n",
       "      <td>25.000000</td>\n",
       "      <td>25.000000</td>\n",
       "      <td>25.000000</td>\n",
       "      <td>25.000000</td>\n",
       "      <td>25.000000</td>\n",
       "      <td>25.00000</td>\n",
       "      <td>25.000000</td>\n",
       "      <td>25.000000</td>\n",
       "      <td>25.000000</td>\n",
       "      <td>25.000000</td>\n",
       "      <td>25.000000</td>\n",
       "      <td>25.000000</td>\n",
       "      <td>25.000000</td>\n",
       "      <td>25.000000</td>\n",
       "    </tr>\n",
       "    <tr>\n",
       "      <th>mean</th>\n",
       "      <td>26.680000</td>\n",
       "      <td>0.678120</td>\n",
       "      <td>0.527040</td>\n",
       "      <td>4.840000</td>\n",
       "      <td>-9.643640</td>\n",
       "      <td>0.76000</td>\n",
       "      <td>0.044116</td>\n",
       "      <td>0.477002</td>\n",
       "      <td>0.062597</td>\n",
       "      <td>0.120936</td>\n",
       "      <td>0.640960</td>\n",
       "      <td>130.357240</td>\n",
       "      <td>228697.120000</td>\n",
       "      <td>3.840000</td>\n",
       "    </tr>\n",
       "    <tr>\n",
       "      <th>std</th>\n",
       "      <td>23.086287</td>\n",
       "      <td>0.073857</td>\n",
       "      <td>0.226044</td>\n",
       "      <td>2.967603</td>\n",
       "      <td>3.156555</td>\n",
       "      <td>0.43589</td>\n",
       "      <td>0.017873</td>\n",
       "      <td>0.338829</td>\n",
       "      <td>0.186406</td>\n",
       "      <td>0.056287</td>\n",
       "      <td>0.216005</td>\n",
       "      <td>2.800732</td>\n",
       "      <td>64197.389401</td>\n",
       "      <td>0.472582</td>\n",
       "    </tr>\n",
       "    <tr>\n",
       "      <th>min</th>\n",
       "      <td>0.000000</td>\n",
       "      <td>0.542000</td>\n",
       "      <td>0.110000</td>\n",
       "      <td>0.000000</td>\n",
       "      <td>-15.841000</td>\n",
       "      <td>0.00000</td>\n",
       "      <td>0.026800</td>\n",
       "      <td>0.000359</td>\n",
       "      <td>0.000000</td>\n",
       "      <td>0.043800</td>\n",
       "      <td>0.287000</td>\n",
       "      <td>125.145000</td>\n",
       "      <td>147680.000000</td>\n",
       "      <td>3.000000</td>\n",
       "    </tr>\n",
       "    <tr>\n",
       "      <th>25%</th>\n",
       "      <td>0.000000</td>\n",
       "      <td>0.633000</td>\n",
       "      <td>0.361000</td>\n",
       "      <td>3.000000</td>\n",
       "      <td>-12.149000</td>\n",
       "      <td>1.00000</td>\n",
       "      <td>0.031800</td>\n",
       "      <td>0.214000</td>\n",
       "      <td>0.000027</td>\n",
       "      <td>0.087100</td>\n",
       "      <td>0.466000</td>\n",
       "      <td>129.202000</td>\n",
       "      <td>182760.000000</td>\n",
       "      <td>4.000000</td>\n",
       "    </tr>\n",
       "    <tr>\n",
       "      <th>50%</th>\n",
       "      <td>27.000000</td>\n",
       "      <td>0.668000</td>\n",
       "      <td>0.558000</td>\n",
       "      <td>4.000000</td>\n",
       "      <td>-9.737000</td>\n",
       "      <td>1.00000</td>\n",
       "      <td>0.037600</td>\n",
       "      <td>0.497000</td>\n",
       "      <td>0.001600</td>\n",
       "      <td>0.102000</td>\n",
       "      <td>0.646000</td>\n",
       "      <td>130.738000</td>\n",
       "      <td>222373.000000</td>\n",
       "      <td>4.000000</td>\n",
       "    </tr>\n",
       "    <tr>\n",
       "      <th>75%</th>\n",
       "      <td>41.000000</td>\n",
       "      <td>0.704000</td>\n",
       "      <td>0.695000</td>\n",
       "      <td>7.000000</td>\n",
       "      <td>-6.908000</td>\n",
       "      <td>1.00000</td>\n",
       "      <td>0.043500</td>\n",
       "      <td>0.742000</td>\n",
       "      <td>0.015200</td>\n",
       "      <td>0.161000</td>\n",
       "      <td>0.827000</td>\n",
       "      <td>132.660000</td>\n",
       "      <td>256347.000000</td>\n",
       "      <td>4.000000</td>\n",
       "    </tr>\n",
       "    <tr>\n",
       "      <th>max</th>\n",
       "      <td>74.000000</td>\n",
       "      <td>0.825000</td>\n",
       "      <td>0.911000</td>\n",
       "      <td>10.000000</td>\n",
       "      <td>-4.746000</td>\n",
       "      <td>1.00000</td>\n",
       "      <td>0.091900</td>\n",
       "      <td>0.993000</td>\n",
       "      <td>0.867000</td>\n",
       "      <td>0.284000</td>\n",
       "      <td>0.966000</td>\n",
       "      <td>134.796000</td>\n",
       "      <td>429520.000000</td>\n",
       "      <td>5.000000</td>\n",
       "    </tr>\n",
       "  </tbody>\n",
       "</table>\n",
       "</div>"
      ],
      "text/plain": [
       "       popularity  danceability     energy        key   loudness      mode  \\\n",
       "count   25.000000     25.000000  25.000000  25.000000  25.000000  25.00000   \n",
       "mean    26.680000      0.678120   0.527040   4.840000  -9.643640   0.76000   \n",
       "std     23.086287      0.073857   0.226044   2.967603   3.156555   0.43589   \n",
       "min      0.000000      0.542000   0.110000   0.000000 -15.841000   0.00000   \n",
       "25%      0.000000      0.633000   0.361000   3.000000 -12.149000   1.00000   \n",
       "50%     27.000000      0.668000   0.558000   4.000000  -9.737000   1.00000   \n",
       "75%     41.000000      0.704000   0.695000   7.000000  -6.908000   1.00000   \n",
       "max     74.000000      0.825000   0.911000  10.000000  -4.746000   1.00000   \n",
       "\n",
       "       speechiness  acousticness  instrumentalness   liveness    valence  \\\n",
       "count    25.000000     25.000000         25.000000  25.000000  25.000000   \n",
       "mean      0.044116      0.477002          0.062597   0.120936   0.640960   \n",
       "std       0.017873      0.338829          0.186406   0.056287   0.216005   \n",
       "min       0.026800      0.000359          0.000000   0.043800   0.287000   \n",
       "25%       0.031800      0.214000          0.000027   0.087100   0.466000   \n",
       "50%       0.037600      0.497000          0.001600   0.102000   0.646000   \n",
       "75%       0.043500      0.742000          0.015200   0.161000   0.827000   \n",
       "max       0.091900      0.993000          0.867000   0.284000   0.966000   \n",
       "\n",
       "            tempo    duration_ms  time_signature  \n",
       "count   25.000000      25.000000       25.000000  \n",
       "mean   130.357240  228697.120000        3.840000  \n",
       "std      2.800732   64197.389401        0.472582  \n",
       "min    125.145000  147680.000000        3.000000  \n",
       "25%    129.202000  182760.000000        4.000000  \n",
       "50%    130.738000  222373.000000        4.000000  \n",
       "75%    132.660000  256347.000000        4.000000  \n",
       "max    134.796000  429520.000000        5.000000  "
      ]
     },
     "execution_count": 35,
     "metadata": {},
     "output_type": "execute_result"
    }
   ],
   "source": [
    "tracks_df = pd.DataFrame(tracks)\n",
    "audio_features_df = pd.DataFrame(audio_features)\n",
    "\n",
    "df = tracks_df.merge(audio_features_df, on='id')\n",
    "df = df.drop(columns=['analysis_url', 'track_href', 'type', 'uri'])\n",
    "df.describe()"
   ]
  },
  {
   "cell_type": "code",
   "execution_count": 36,
   "metadata": {},
   "outputs": [
    {
     "data": {
      "text/plain": [
       "<matplotlib.axes._subplots.AxesSubplot at 0x11b5fab10>"
      ]
     },
     "execution_count": 36,
     "metadata": {},
     "output_type": "execute_result"
    },
    {
     "data": {
      "image/png": "[encoded data removed]",
      "text/plain": [
       "<Figure size 432x288 with 1 Axes>"
      ]
     },
     "metadata": {
      "needs_background": "light"
     },
     "output_type": "display_data"
    }
   ],
   "source": [
    "df['tempo'].plot.hist()"
   ]
  },
  {
   "cell_type": "code",
   "execution_count": 28,
   "metadata": {},
   "outputs": [
    {
     "data": {
      "text/html": [
       "<div>\n",
       "<style scoped>\n",
       "    .dataframe tbody tr th:only-of-type {\n",
       "        vertical-align: middle;\n",
       "    }\n",
       "\n",
       "    .dataframe tbody tr th {\n",
       "        vertical-align: top;\n",
       "    }\n",
       "\n",
       "    .dataframe thead th {\n",
       "        text-align: right;\n",
       "    }\n",
       "</style>\n",
       "<table border=\"1\" class=\"dataframe\">\n",
       "  <thead>\n",
       "    <tr style=\"text-align: right;\">\n",
       "      <th></th>\n",
       "      <th>id</th>\n",
       "      <th>name</th>\n",
       "      <th>artist_id</th>\n",
       "      <th>artist_name</th>\n",
       "      <th>popularity</th>\n",
       "      <th>danceability</th>\n",
       "      <th>energy</th>\n",
       "      <th>key</th>\n",
       "      <th>loudness</th>\n",
       "      <th>mode</th>\n",
       "      <th>speechiness</th>\n",
       "      <th>acousticness</th>\n",
       "      <th>instrumentalness</th>\n",
       "      <th>liveness</th>\n",
       "      <th>valence</th>\n",
       "      <th>tempo</th>\n",
       "      <th>duration_ms</th>\n",
       "      <th>time_signature</th>\n",
       "    </tr>\n",
       "  </thead>\n",
       "  <tbody>\n",
       "    <tr>\n",
       "      <th>10</th>\n",
       "      <td>0WSlOSMLJWoWUpWci9nnRb</td>\n",
       "      <td>Cissy Strut</td>\n",
       "      <td>2JRvXPGWiINrnJljNJhG5s</td>\n",
       "      <td>The Meters</td>\n",
       "      <td>57</td>\n",
       "      <td>0.507</td>\n",
       "      <td>0.763</td>\n",
       "      <td>0</td>\n",
       "      <td>-12.732</td>\n",
       "      <td>1</td>\n",
       "      <td>0.0945</td>\n",
       "      <td>0.172</td>\n",
       "      <td>0.886</td>\n",
       "      <td>0.324</td>\n",
       "      <td>0.708</td>\n",
       "      <td>176.193</td>\n",
       "      <td>186853</td>\n",
       "      <td>4</td>\n",
       "    </tr>\n",
       "  </tbody>\n",
       "</table>\n",
       "</div>"
      ],
      "text/plain": [
       "                        id         name               artist_id artist_name  \\\n",
       "10  0WSlOSMLJWoWUpWci9nnRb  Cissy Strut  2JRvXPGWiINrnJljNJhG5s  The Meters   \n",
       "\n",
       "    popularity  danceability  energy  key  loudness  mode  speechiness  \\\n",
       "10          57         0.507   0.763    0   -12.732     1       0.0945   \n",
       "\n",
       "    acousticness  instrumentalness  liveness  valence    tempo  duration_ms  \\\n",
       "10         0.172             0.886     0.324    0.708  176.193       186853   \n",
       "\n",
       "    time_signature  \n",
       "10               4  "
      ]
     },
     "execution_count": 28,
     "metadata": {},
     "output_type": "execute_result"
    }
   ],
   "source": [
    "df[df['tempo'] > 160]"
   ]
  },
  {
   "cell_type": "markdown",
   "metadata": {},
   "source": [
    "<img src=\"bpm_pace.png\" width=\"600\">"
   ]
  },
  {
   "cell_type": "code",
   "execution_count": 19,
   "metadata": {},
   "outputs": [
    {
     "data": {
      "text/plain": [
       "50"
      ]
     },
     "execution_count": 19,
     "metadata": {},
     "output_type": "execute_result"
    }
   ],
   "source": [
    "# set the BPM range\n",
    "tempo_min, tempo_max = 120, 130\n",
    "track_ids = list(df[(df['tempo'] >= tempo_min) & (df['tempo'] <= tempo_max) & (df['danceability'] >= 0.5)]['id'])\n",
    "len(track_ids)"
   ]
  },
  {
   "cell_type": "code",
   "execution_count": 20,
   "metadata": {},
   "outputs": [
    {
     "name": "stdout",
     "output_type": "stream",
     "text": [
      "Created new playlist with ID 1BfmdmBfylz9Xb9vo7FDNS\n"
     ]
    }
   ],
   "source": [
    "playlist_id, is_new = spotify.get_playlist_by_name(sp, \n",
    "        f\"Run Test BPM {tempo_min} - {tempo_max}\", \n",
    "        create_if_none=True)\n",
    "if playlist_id and is_new:\n",
    "    print(f\"Created new playlist with ID {playlist_id}\")\n",
    "elif playlist_id:\n",
    "    print(f\"Found existing playlist with ID {playlist_id}\")\n",
    "else:\n",
    "    print(\"Something went wrong :-(\")"
   ]
  },
  {
   "cell_type": "code",
   "execution_count": 21,
   "metadata": {},
   "outputs": [
    {
     "data": {
      "text/plain": [
       "50"
      ]
     },
     "execution_count": 21,
     "metadata": {},
     "output_type": "execute_result"
    }
   ],
   "source": [
    "num_tracks_added = spotify.add_tracks(sp, playlist_id, track_ids)\n",
    "num_tracks_added"
   ]
  },
  {
   "cell_type": "code",
   "execution_count": 7,
   "metadata": {},
   "outputs": [
    {
     "data": {
      "text/plain": [
       "<matplotlib.axes._subplots.AxesSubplot at 0x1183382d0>"
      ]
     },
     "execution_count": 7,
     "metadata": {},
     "output_type": "execute_result"
    },
    {
     "data": {
      "image/png": "[encoded data removed]",
      "text/plain": [
       "<Figure size 432x288 with 1 Axes>"
      ]
     },
     "metadata": {
      "needs_background": "light"
     },
     "output_type": "display_data"
    }
   ],
   "source": [
    "df['acousticness'].plot.hist()"
   ]
  },
  {
   "cell_type": "markdown",
   "metadata": {},
   "source": [
    "# Get all my public playlists"
   ]
  },
  {
   "cell_type": "code",
   "execution_count": 7,
   "metadata": {},
   "outputs": [
    {
     "data": {
      "text/plain": [
       "73"
      ]
     },
     "execution_count": 7,
     "metadata": {},
     "output_type": "execute_result"
    }
   ],
   "source": [
    "sp_response = sp.current_user_playlists()\n",
    "all_playlists = sp_response['items']\n",
    "while sp_response['next']:\n",
    "    sp_response = sp.next(sp_response)\n",
    "    all_playlists.extend(sp_response['items'])\n",
    "len(all_playlists)"
   ]
  },
  {
   "cell_type": "code",
   "execution_count": 8,
   "metadata": {},
   "outputs": [
    {
     "data": {
      "text/plain": [
       "49"
      ]
     },
     "execution_count": 8,
     "metadata": {},
     "output_type": "execute_result"
    }
   ],
   "source": [
    "own_playlists = list(filter(lambda l: l['owner']['id'] == user['id'], all_playlists))\n",
    "len(own_playlists)"
   ]
  },
  {
   "cell_type": "code",
   "execution_count": 9,
   "metadata": {},
   "outputs": [
    {
     "data": {
      "text/plain": [
       "49"
      ]
     },
     "execution_count": 9,
     "metadata": {},
     "output_type": "execute_result"
    }
   ],
   "source": [
    "own_playlists_trimmed = [{k: v for k, v in d.items() if k in ['id', 'name', 'public', 'tracks']} for d in own_playlists]\n",
    "len(own_playlists_trimmed)"
   ]
  },
  {
   "cell_type": "code",
   "execution_count": 10,
   "metadata": {},
   "outputs": [
    {
     "data": {
      "text/plain": [
       "17"
      ]
     },
     "execution_count": 10,
     "metadata": {},
     "output_type": "execute_result"
    }
   ],
   "source": [
    "public_playlists = list(filter(lambda l: (l['public'] == True), own_playlists_trimmed))\n",
    "len(public_playlists)"
   ]
  },
  {
   "cell_type": "code",
   "execution_count": 11,
   "metadata": {},
   "outputs": [
    {
     "data": {
      "text/plain": [
       "[{'id': '6u5RL72VpPaJfeLksVLE2Q',\n",
       "  'name': 'Mellow Jazz',\n",
       "  'public': True,\n",
       "  'tracks': {'href': 'https://api.spotify.com/v1/playlists/6u5RL72VpPaJfeLksVLE2Q/tracks',\n",
       "   'total': 712}},\n",
       " {'id': '7JYdgqlBBhiCqjpx2pVKwf',\n",
       "  'name': 'KJAH',\n",
       "  'public': True,\n",
       "  'tracks': {'href': 'https://api.spotify.com/v1/playlists/7JYdgqlBBhiCqjpx2pVKwf/tracks',\n",
       "   'total': 1610}},\n",
       " {'id': '4jdHBhEw9a9OBJ0CVbmpFX',\n",
       "  'name': 'Run',\n",
       "  'public': True,\n",
       "  'tracks': {'href': 'https://api.spotify.com/v1/playlists/4jdHBhEw9a9OBJ0CVbmpFX/tracks',\n",
       "   'total': 68}},\n",
       " {'id': '2MzQi9D9OtFuUsuOS8lwtS',\n",
       "  'name': 'Power Songs',\n",
       "  'public': True,\n",
       "  'tracks': {'href': 'https://api.spotify.com/v1/playlists/2MzQi9D9OtFuUsuOS8lwtS/tracks',\n",
       "   'total': 925}},\n",
       " {'id': '5ngdqzXvg3v6yakZ6oAcxv',\n",
       "  'name': 'Trojan Archives',\n",
       "  'public': True,\n",
       "  'tracks': {'href': 'https://api.spotify.com/v1/playlists/5ngdqzXvg3v6yakZ6oAcxv/tracks',\n",
       "   'total': 749}},\n",
       " {'id': '566s1zzyRtF4bzv9JfpnVY',\n",
       "  'name': 'Pop2000',\n",
       "  'public': True,\n",
       "  'tracks': {'href': 'https://api.spotify.com/v1/playlists/566s1zzyRtF4bzv9JfpnVY/tracks',\n",
       "   'total': 1163}},\n",
       " {'id': '6yCyQLKLPHmNAM1qfXxaT2',\n",
       "  'name': 'Phat Jazz',\n",
       "  'public': True,\n",
       "  'tracks': {'href': 'https://api.spotify.com/v1/playlists/6yCyQLKLPHmNAM1qfXxaT2/tracks',\n",
       "   'total': 144}},\n",
       " {'id': '7xpOH7WiLtpA1nKkPjuDuf',\n",
       "  'name': 'Jazz Lounge',\n",
       "  'public': True,\n",
       "  'tracks': {'href': 'https://api.spotify.com/v1/playlists/7xpOH7WiLtpA1nKkPjuDuf/tracks',\n",
       "   'total': 895}},\n",
       " {'id': '01PEgqXn5ZhC8z9a7HpVmG',\n",
       "  'name': 'Groovy Jazz',\n",
       "  'public': True,\n",
       "  'tracks': {'href': 'https://api.spotify.com/v1/playlists/01PEgqXn5ZhC8z9a7HpVmG/tracks',\n",
       "   'total': 253}},\n",
       " {'id': '31tFGldLHHeWvitXFG721v',\n",
       "  'name': 'Uptempo Jazz',\n",
       "  'public': True,\n",
       "  'tracks': {'href': 'https://api.spotify.com/v1/playlists/31tFGldLHHeWvitXFG721v/tracks',\n",
       "   'total': 41}},\n",
       " {'id': '489J1YM8xmRKwJ0KJCrDgM',\n",
       "  'name': 'Dinner Jazz',\n",
       "  'public': True,\n",
       "  'tracks': {'href': 'https://api.spotify.com/v1/playlists/489J1YM8xmRKwJ0KJCrDgM/tracks',\n",
       "   'total': 633}},\n",
       " {'id': '6llGZ072CW6nCfZnP4IRpI',\n",
       "  'name': 'Classic Jazz',\n",
       "  'public': True,\n",
       "  'tracks': {'href': 'https://api.spotify.com/v1/playlists/6llGZ072CW6nCfZnP4IRpI/tracks',\n",
       "   'total': 686}},\n",
       " {'id': '1npiimUFPnfOMfFKrwyc01',\n",
       "  'name': '5 Star Hard Bop Albums',\n",
       "  'public': True,\n",
       "  'tracks': {'href': 'https://api.spotify.com/v1/playlists/1npiimUFPnfOMfFKrwyc01/tracks',\n",
       "   'total': 534}},\n",
       " {'id': '1FUKz6E2K5ldoAd4wbG8Ew',\n",
       "  'name': 'Top hard bop tracks',\n",
       "  'public': True,\n",
       "  'tracks': {'href': 'https://api.spotify.com/v1/playlists/1FUKz6E2K5ldoAd4wbG8Ew/tracks',\n",
       "   'total': 88}},\n",
       " {'id': '69YjiqBUyv672XV0n1RQrv',\n",
       "  'name': 'Top bebop tracks',\n",
       "  'public': True,\n",
       "  'tracks': {'href': 'https://api.spotify.com/v1/playlists/69YjiqBUyv672XV0n1RQrv/tracks',\n",
       "   'total': 100}},\n",
       " {'id': '0Ou5HSpnMa1Sc9uZZjnOOa',\n",
       "  'name': 'The Vibe!',\n",
       "  'public': True,\n",
       "  'tracks': {'href': 'https://api.spotify.com/v1/playlists/0Ou5HSpnMa1Sc9uZZjnOOa/tracks',\n",
       "   'total': 123}},\n",
       " {'id': '3ELlsCnc7nAqbhFC53U2W8',\n",
       "  'name': 'Orhan',\n",
       "  'public': True,\n",
       "  'tracks': {'href': 'https://api.spotify.com/v1/playlists/3ELlsCnc7nAqbhFC53U2W8/tracks',\n",
       "   'total': 20}}]"
      ]
     },
     "execution_count": 11,
     "metadata": {},
     "output_type": "execute_result"
    }
   ],
   "source": [
    "public_playlists"
   ]
  },
  {
   "cell_type": "code",
   "execution_count": null,
   "metadata": {},
   "outputs": [],
   "source": []
  }
 ],
 "metadata": {
  "kernelspec": {
   "display_name": "Python 3",
   "language": "python",
   "name": "python3"
  },
  "language_info": {
   "codemirror_mode": {
    "name": "ipython",
    "version": 3
   },
   "file_extension": ".py",
   "mimetype": "text/x-python",
   "name": "python",
   "nbconvert_exporter": "python",
   "pygments_lexer": "ipython3",
   "version": "3.7.6"
  }
 },
 "nbformat": 4,
 "nbformat_minor": 2
}
