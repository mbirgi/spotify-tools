{
 "cells": [
  {
   "cell_type": "code",
   "execution_count": 1,
   "metadata": {},
   "outputs": [
    {
     "name": "stdout",
     "output_type": "stream",
     "text": [
      "\n",
      "\n",
      "            User authentication requires interaction with your\n",
      "            web browser. Once you enter your credentials and\n",
      "            give authorization, you will be redirected to\n",
      "            a url.  Paste that url you were directed to to\n",
      "            complete the authorization.\n",
      "\n",
      "        \n",
      "Opened https://accounts.spotify.com/authorize?client_id=ca3831dc54e745ec9fd50425c059da48&response_type=code&redirect_uri=https%3A%2F%2Flocalhost%3A8080%2F&scope=playlist-modify-private in your browser\n",
      "\n",
      "\n"
     ]
    },
    {
     "name": "stdin",
     "output_type": "stream",
     "text": [
      "Enter the URL you were redirected to:  https://localhost:8080/?code=AQDFblmAkyfWglYWmVAOlI_uxr1Wmu4mxbzduiJDxi0-bbIU5b0hFUX6FlFDj9J_-9-LKpPFQDgCyPdif5l-Gq2YZQyGs6j2ATfYU_WSHARvJ-6VN6NjvY9lapFtdiUpPAPfv7ekj9hHg0WB-DSYJnW78WEqiz460AC9FKaXK9nt5fIMhKqcaMGQYpFP6ufHplyghkZYc6Fzo7mYz8bGYh25xn1GXQ\n"
     ]
    },
    {
     "name": "stdout",
     "output_type": "stream",
     "text": [
      "\n",
      "\n"
     ]
    },
    {
     "data": {
      "text/plain": [
       "'Mehmet Birgi'"
      ]
     },
     "execution_count": 1,
     "metadata": {},
     "output_type": "execute_result"
    }
   ],
   "source": [
    "import matplotlib.pyplot as plt\n",
    "import pandas as pd\n",
    "import numpy as np\n",
    "\n",
    "import spotify\n",
    "import utils\n",
    "\n",
    "sp = spotify.login(scope='playlist-modify-private')\n",
    "user = sp.current_user()\n",
    "username = user['id']\n",
    "displayName = user['display_name']\n",
    "displayName"
   ]
  },
  {
   "cell_type": "code",
   "execution_count": 10,
   "metadata": {},
   "outputs": [
    {
     "data": {
      "text/plain": [
       "'Run Test BPM 125 - 130 All Tracks'"
      ]
     },
     "execution_count": 10,
     "metadata": {},
     "output_type": "execute_result"
    }
   ],
   "source": [
    "playlist_id = 'spotify:playlist:2CcP1BFKflMSc3AvGzwWfA'\n",
    "playlist = sp.user_playlist(username, playlist_id, fields=\"name, tracks, next\")\n",
    "playlist_name = playlist['name']\n",
    "playlist_name"
   ]
  },
  {
   "cell_type": "code",
   "execution_count": 11,
   "metadata": {},
   "outputs": [
    {
     "name": "stdout",
     "output_type": "stream",
     "text": [
      "202 tracks in playlist\n",
      "202 tracks in audio_features\n"
     ]
    }
   ],
   "source": [
    "tracks = []\n",
    "audio_features = []\n",
    "tracks_paging_object = playlist['tracks']\n",
    "while True:\n",
    "    track_id_list = []\n",
    "    for item in tracks_paging_object['items']:\n",
    "        track_result = item['track']\n",
    "        track = {\n",
    "            'id': track_result['id'],\n",
    "            'name': track_result['name'],\n",
    "            'artist_id': track_result['artists'][0]['id'],\n",
    "            'artist_name': track_result['artists'][0]['name'],\n",
    "            'popularity': track_result['popularity'],\n",
    "        }\n",
    "        tracks.append(track)\n",
    "        track_id_list.append(track['id'])\n",
    "    audio_features.extend(sp.audio_features(track_id_list))\n",
    "    if not tracks_paging_object['next']:\n",
    "        break\n",
    "    tracks_paging_object = sp.next(tracks_paging_object)\n",
    "print(len(tracks), \"tracks in playlist\")\n",
    "print(len(audio_features), \"tracks in audio_features\")"
   ]
  },
  {
   "cell_type": "code",
   "execution_count": 12,
   "metadata": {},
   "outputs": [
    {
     "data": {
      "text/html": [
       "<div>\n",
       "<style scoped>\n",
       "    .dataframe tbody tr th:only-of-type {\n",
       "        vertical-align: middle;\n",
       "    }\n",
       "\n",
       "    .dataframe tbody tr th {\n",
       "        vertical-align: top;\n",
       "    }\n",
       "\n",
       "    .dataframe thead th {\n",
       "        text-align: right;\n",
       "    }\n",
       "</style>\n",
       "<table border=\"1\" class=\"dataframe\">\n",
       "  <thead>\n",
       "    <tr style=\"text-align: right;\">\n",
       "      <th></th>\n",
       "      <th>popularity</th>\n",
       "      <th>danceability</th>\n",
       "      <th>energy</th>\n",
       "      <th>key</th>\n",
       "      <th>loudness</th>\n",
       "      <th>mode</th>\n",
       "      <th>speechiness</th>\n",
       "      <th>acousticness</th>\n",
       "      <th>instrumentalness</th>\n",
       "      <th>liveness</th>\n",
       "      <th>valence</th>\n",
       "      <th>tempo</th>\n",
       "      <th>duration_ms</th>\n",
       "      <th>time_signature</th>\n",
       "    </tr>\n",
       "  </thead>\n",
       "  <tbody>\n",
       "    <tr>\n",
       "      <th>count</th>\n",
       "      <td>202.000000</td>\n",
       "      <td>202.000000</td>\n",
       "      <td>202.000000</td>\n",
       "      <td>202.000000</td>\n",
       "      <td>202.000000</td>\n",
       "      <td>202.000000</td>\n",
       "      <td>202.000000</td>\n",
       "      <td>202.000000</td>\n",
       "      <td>202.000000</td>\n",
       "      <td>202.000000</td>\n",
       "      <td>202.000000</td>\n",
       "      <td>202.000000</td>\n",
       "      <td>202.000000</td>\n",
       "      <td>202.000000</td>\n",
       "    </tr>\n",
       "    <tr>\n",
       "      <th>mean</th>\n",
       "      <td>20.099010</td>\n",
       "      <td>0.856658</td>\n",
       "      <td>0.590223</td>\n",
       "      <td>5.876238</td>\n",
       "      <td>-9.141505</td>\n",
       "      <td>0.599010</td>\n",
       "      <td>0.079423</td>\n",
       "      <td>0.223405</td>\n",
       "      <td>0.195378</td>\n",
       "      <td>0.124246</td>\n",
       "      <td>0.800807</td>\n",
       "      <td>127.072312</td>\n",
       "      <td>243884.079208</td>\n",
       "      <td>3.995050</td>\n",
       "    </tr>\n",
       "    <tr>\n",
       "      <th>std</th>\n",
       "      <td>18.771475</td>\n",
       "      <td>0.039401</td>\n",
       "      <td>0.165310</td>\n",
       "      <td>3.567338</td>\n",
       "      <td>3.124353</td>\n",
       "      <td>0.491317</td>\n",
       "      <td>0.051836</td>\n",
       "      <td>0.236504</td>\n",
       "      <td>0.321728</td>\n",
       "      <td>0.080899</td>\n",
       "      <td>0.181031</td>\n",
       "      <td>1.420023</td>\n",
       "      <td>98236.882655</td>\n",
       "      <td>0.122069</td>\n",
       "    </tr>\n",
       "    <tr>\n",
       "      <th>min</th>\n",
       "      <td>0.000000</td>\n",
       "      <td>0.800000</td>\n",
       "      <td>0.082000</td>\n",
       "      <td>0.000000</td>\n",
       "      <td>-19.666000</td>\n",
       "      <td>0.000000</td>\n",
       "      <td>0.029300</td>\n",
       "      <td>0.000071</td>\n",
       "      <td>0.000000</td>\n",
       "      <td>0.020800</td>\n",
       "      <td>0.061100</td>\n",
       "      <td>125.002000</td>\n",
       "      <td>25674.000000</td>\n",
       "      <td>3.000000</td>\n",
       "    </tr>\n",
       "    <tr>\n",
       "      <th>25%</th>\n",
       "      <td>4.250000</td>\n",
       "      <td>0.823000</td>\n",
       "      <td>0.498250</td>\n",
       "      <td>3.000000</td>\n",
       "      <td>-10.832750</td>\n",
       "      <td>0.000000</td>\n",
       "      <td>0.045550</td>\n",
       "      <td>0.024900</td>\n",
       "      <td>0.000015</td>\n",
       "      <td>0.072050</td>\n",
       "      <td>0.713250</td>\n",
       "      <td>125.960500</td>\n",
       "      <td>178976.500000</td>\n",
       "      <td>4.000000</td>\n",
       "    </tr>\n",
       "    <tr>\n",
       "      <th>50%</th>\n",
       "      <td>14.000000</td>\n",
       "      <td>0.851500</td>\n",
       "      <td>0.594500</td>\n",
       "      <td>6.000000</td>\n",
       "      <td>-8.933500</td>\n",
       "      <td>1.000000</td>\n",
       "      <td>0.063250</td>\n",
       "      <td>0.134500</td>\n",
       "      <td>0.001535</td>\n",
       "      <td>0.101500</td>\n",
       "      <td>0.855500</td>\n",
       "      <td>127.012500</td>\n",
       "      <td>221453.000000</td>\n",
       "      <td>4.000000</td>\n",
       "    </tr>\n",
       "    <tr>\n",
       "      <th>75%</th>\n",
       "      <td>34.500000</td>\n",
       "      <td>0.885750</td>\n",
       "      <td>0.699000</td>\n",
       "      <td>9.000000</td>\n",
       "      <td>-6.972500</td>\n",
       "      <td>1.000000</td>\n",
       "      <td>0.093125</td>\n",
       "      <td>0.339250</td>\n",
       "      <td>0.286250</td>\n",
       "      <td>0.143750</td>\n",
       "      <td>0.942750</td>\n",
       "      <td>128.075250</td>\n",
       "      <td>280833.500000</td>\n",
       "      <td>4.000000</td>\n",
       "    </tr>\n",
       "    <tr>\n",
       "      <th>max</th>\n",
       "      <td>76.000000</td>\n",
       "      <td>0.961000</td>\n",
       "      <td>0.974000</td>\n",
       "      <td>11.000000</td>\n",
       "      <td>-1.976000</td>\n",
       "      <td>1.000000</td>\n",
       "      <td>0.320000</td>\n",
       "      <td>0.986000</td>\n",
       "      <td>0.967000</td>\n",
       "      <td>0.391000</td>\n",
       "      <td>0.987000</td>\n",
       "      <td>129.995000</td>\n",
       "      <td>612840.000000</td>\n",
       "      <td>5.000000</td>\n",
       "    </tr>\n",
       "  </tbody>\n",
       "</table>\n",
       "</div>"
      ],
      "text/plain": [
       "       popularity  danceability      energy         key    loudness  \\\n",
       "count  202.000000    202.000000  202.000000  202.000000  202.000000   \n",
       "mean    20.099010      0.856658    0.590223    5.876238   -9.141505   \n",
       "std     18.771475      0.039401    0.165310    3.567338    3.124353   \n",
       "min      0.000000      0.800000    0.082000    0.000000  -19.666000   \n",
       "25%      4.250000      0.823000    0.498250    3.000000  -10.832750   \n",
       "50%     14.000000      0.851500    0.594500    6.000000   -8.933500   \n",
       "75%     34.500000      0.885750    0.699000    9.000000   -6.972500   \n",
       "max     76.000000      0.961000    0.974000   11.000000   -1.976000   \n",
       "\n",
       "             mode  speechiness  acousticness  instrumentalness    liveness  \\\n",
       "count  202.000000   202.000000    202.000000        202.000000  202.000000   \n",
       "mean     0.599010     0.079423      0.223405          0.195378    0.124246   \n",
       "std      0.491317     0.051836      0.236504          0.321728    0.080899   \n",
       "min      0.000000     0.029300      0.000071          0.000000    0.020800   \n",
       "25%      0.000000     0.045550      0.024900          0.000015    0.072050   \n",
       "50%      1.000000     0.063250      0.134500          0.001535    0.101500   \n",
       "75%      1.000000     0.093125      0.339250          0.286250    0.143750   \n",
       "max      1.000000     0.320000      0.986000          0.967000    0.391000   \n",
       "\n",
       "          valence       tempo    duration_ms  time_signature  \n",
       "count  202.000000  202.000000     202.000000      202.000000  \n",
       "mean     0.800807  127.072312  243884.079208        3.995050  \n",
       "std      0.181031    1.420023   98236.882655        0.122069  \n",
       "min      0.061100  125.002000   25674.000000        3.000000  \n",
       "25%      0.713250  125.960500  178976.500000        4.000000  \n",
       "50%      0.855500  127.012500  221453.000000        4.000000  \n",
       "75%      0.942750  128.075250  280833.500000        4.000000  \n",
       "max      0.987000  129.995000  612840.000000        5.000000  "
      ]
     },
     "execution_count": 12,
     "metadata": {},
     "output_type": "execute_result"
    }
   ],
   "source": [
    "tracks_df = pd.DataFrame(tracks)\n",
    "audio_features_df = pd.DataFrame(audio_features)\n",
    "\n",
    "df = tracks_df.merge(audio_features_df, on='id')\n",
    "df = df.drop(columns=['analysis_url', 'track_href', 'type', 'uri'])\n",
    "df.describe()"
   ]
  },
  {
   "cell_type": "code",
   "execution_count": 15,
   "metadata": {},
   "outputs": [
    {
     "data": {
      "text/plain": [
       "<matplotlib.axes._subplots.AxesSubplot at 0x7f2194ee6880>"
      ]
     },
     "execution_count": 15,
     "metadata": {},
     "output_type": "execute_result"
    },
    {
     "data": {
      "image/png": "[encoded data removed]",
      "text/plain": [
       "<Figure size 432x288 with 1 Axes>"
      ]
     },
     "metadata": {
      "needs_background": "light"
     },
     "output_type": "display_data"
    }
   ],
   "source": [
    "df['valence'].plot.hist()"
   ]
  },
  {
   "cell_type": "code",
   "execution_count": 16,
   "metadata": {},
   "outputs": [
    {
     "data": {
      "text/html": [
       "<div>\n",
       "<style scoped>\n",
       "    .dataframe tbody tr th:only-of-type {\n",
       "        vertical-align: middle;\n",
       "    }\n",
       "\n",
       "    .dataframe tbody tr th {\n",
       "        vertical-align: top;\n",
       "    }\n",
       "\n",
       "    .dataframe thead th {\n",
       "        text-align: right;\n",
       "    }\n",
       "</style>\n",
       "<table border=\"1\" class=\"dataframe\">\n",
       "  <thead>\n",
       "    <tr style=\"text-align: right;\">\n",
       "      <th></th>\n",
       "      <th>id</th>\n",
       "      <th>name</th>\n",
       "      <th>artist_id</th>\n",
       "      <th>artist_name</th>\n",
       "      <th>popularity</th>\n",
       "      <th>danceability</th>\n",
       "      <th>energy</th>\n",
       "      <th>key</th>\n",
       "      <th>loudness</th>\n",
       "      <th>mode</th>\n",
       "      <th>speechiness</th>\n",
       "      <th>acousticness</th>\n",
       "      <th>instrumentalness</th>\n",
       "      <th>liveness</th>\n",
       "      <th>valence</th>\n",
       "      <th>tempo</th>\n",
       "      <th>duration_ms</th>\n",
       "      <th>time_signature</th>\n",
       "    </tr>\n",
       "  </thead>\n",
       "  <tbody>\n",
       "    <tr>\n",
       "      <th>76</th>\n",
       "      <td>4K8VrFYg7q992yodbqZamF</td>\n",
       "      <td>Hale Bopp - Maceo Plex Edit</td>\n",
       "      <td>5RZGHff3PE1rPUKOpDIqaO</td>\n",
       "      <td>Der Dritte Raum</td>\n",
       "      <td>36</td>\n",
       "      <td>0.806</td>\n",
       "      <td>0.974</td>\n",
       "      <td>4</td>\n",
       "      <td>-6.933</td>\n",
       "      <td>0</td>\n",
       "      <td>0.0457</td>\n",
       "      <td>0.02430</td>\n",
       "      <td>0.869</td>\n",
       "      <td>0.0927</td>\n",
       "      <td>0.1570</td>\n",
       "      <td>125.004</td>\n",
       "      <td>439000</td>\n",
       "      <td>4</td>\n",
       "    </tr>\n",
       "    <tr>\n",
       "      <th>88</th>\n",
       "      <td>3NTgbMDEQ8UOdi3nxQBcoh</td>\n",
       "      <td>Cum 2Geza - Original Mix</td>\n",
       "      <td>7IgApBf9ibPRfKv28sy7Dh</td>\n",
       "      <td>RareTwo Inc.</td>\n",
       "      <td>46</td>\n",
       "      <td>0.813</td>\n",
       "      <td>0.718</td>\n",
       "      <td>9</td>\n",
       "      <td>-7.452</td>\n",
       "      <td>0</td>\n",
       "      <td>0.0502</td>\n",
       "      <td>0.00171</td>\n",
       "      <td>0.549</td>\n",
       "      <td>0.1310</td>\n",
       "      <td>0.0611</td>\n",
       "      <td>126.001</td>\n",
       "      <td>411429</td>\n",
       "      <td>4</td>\n",
       "    </tr>\n",
       "  </tbody>\n",
       "</table>\n",
       "</div>"
      ],
      "text/plain": [
       "                        id                         name  \\\n",
       "76  4K8VrFYg7q992yodbqZamF  Hale Bopp - Maceo Plex Edit   \n",
       "88  3NTgbMDEQ8UOdi3nxQBcoh     Cum 2Geza - Original Mix   \n",
       "\n",
       "                 artist_id      artist_name  popularity  danceability  energy  \\\n",
       "76  5RZGHff3PE1rPUKOpDIqaO  Der Dritte Raum          36         0.806   0.974   \n",
       "88  7IgApBf9ibPRfKv28sy7Dh     RareTwo Inc.          46         0.813   0.718   \n",
       "\n",
       "    key  loudness  mode  speechiness  acousticness  instrumentalness  \\\n",
       "76    4    -6.933     0       0.0457       0.02430             0.869   \n",
       "88    9    -7.452     0       0.0502       0.00171             0.549   \n",
       "\n",
       "    liveness  valence    tempo  duration_ms  time_signature  \n",
       "76    0.0927   0.1570  125.004       439000               4  \n",
       "88    0.1310   0.0611  126.001       411429               4  "
      ]
     },
     "execution_count": 16,
     "metadata": {},
     "output_type": "execute_result"
    }
   ],
   "source": [
    "df[df['valence'] < 0.2]"
   ]
  },
  {
   "cell_type": "markdown",
   "metadata": {},
   "source": [
    "<img src=\"bpm_pace.png\" width=\"600\">"
   ]
  },
  {
   "cell_type": "code",
   "execution_count": 19,
   "metadata": {},
   "outputs": [
    {
     "data": {
      "text/plain": [
       "50"
      ]
     },
     "execution_count": 19,
     "metadata": {},
     "output_type": "execute_result"
    }
   ],
   "source": [
    "# set the BPM range\n",
    "tempo_min, tempo_max = 120, 130\n",
    "track_ids = list(df[(df['tempo'] >= tempo_min) & (df['tempo'] <= tempo_max) & (df['danceability'] >= 0.5)]['id'])\n",
    "len(track_ids)"
   ]
  },
  {
   "cell_type": "code",
   "execution_count": 20,
   "metadata": {},
   "outputs": [
    {
     "name": "stdout",
     "output_type": "stream",
     "text": [
      "Created new playlist with ID 1BfmdmBfylz9Xb9vo7FDNS\n"
     ]
    }
   ],
   "source": [
    "playlist_id, is_new = spotify.get_playlist_by_name(sp, \n",
    "        f\"Run Test BPM {tempo_min} - {tempo_max}\", \n",
    "        create_if_none=True)\n",
    "if playlist_id and is_new:\n",
    "    print(f\"Created new playlist with ID {playlist_id}\")\n",
    "elif playlist_id:\n",
    "    print(f\"Found existing playlist with ID {playlist_id}\")\n",
    "else:\n",
    "    print(\"Something went wrong :-(\")"
   ]
  },
  {
   "cell_type": "code",
   "execution_count": 21,
   "metadata": {},
   "outputs": [
    {
     "data": {
      "text/plain": [
       "50"
      ]
     },
     "execution_count": 21,
     "metadata": {},
     "output_type": "execute_result"
    }
   ],
   "source": [
    "num_tracks_added = spotify.add_tracks(sp, playlist_id, track_ids)\n",
    "num_tracks_added"
   ]
  },
  {
   "cell_type": "code",
   "execution_count": 7,
   "metadata": {},
   "outputs": [
    {
     "data": {
      "text/plain": [
       "<matplotlib.axes._subplots.AxesSubplot at 0x1183382d0>"
      ]
     },
     "execution_count": 7,
     "metadata": {},
     "output_type": "execute_result"
    },
    {
     "data": {
      "image/png": "[encoded data removed]",
      "text/plain": [
       "<Figure size 432x288 with 1 Axes>"
      ]
     },
     "metadata": {
      "needs_background": "light"
     },
     "output_type": "display_data"
    }
   ],
   "source": [
    "df['acousticness'].plot.hist()"
   ]
  },
  {
   "cell_type": "markdown",
   "metadata": {},
   "source": [
    "# Get all my public playlists"
   ]
  },
  {
   "cell_type": "code",
   "execution_count": 7,
   "metadata": {},
   "outputs": [
    {
     "data": {
      "text/plain": [
       "73"
      ]
     },
     "execution_count": 7,
     "metadata": {},
     "output_type": "execute_result"
    }
   ],
   "source": [
    "sp_response = sp.current_user_playlists()\n",
    "all_playlists = sp_response['items']\n",
    "while sp_response['next']:\n",
    "    sp_response = sp.next(sp_response)\n",
    "    all_playlists.extend(sp_response['items'])\n",
    "len(all_playlists)"
   ]
  },
  {
   "cell_type": "code",
   "execution_count": 8,
   "metadata": {},
   "outputs": [
    {
     "data": {
      "text/plain": [
       "49"
      ]
     },
     "execution_count": 8,
     "metadata": {},
     "output_type": "execute_result"
    }
   ],
   "source": [
    "own_playlists = list(filter(lambda l: l['owner']['id'] == user['id'], all_playlists))\n",
    "len(own_playlists)"
   ]
  },
  {
   "cell_type": "code",
   "execution_count": 9,
   "metadata": {},
   "outputs": [
    {
     "data": {
      "text/plain": [
       "49"
      ]
     },
     "execution_count": 9,
     "metadata": {},
     "output_type": "execute_result"
    }
   ],
   "source": [
    "own_playlists_trimmed = [{k: v for k, v in d.items() if k in ['id', 'name', 'public', 'tracks']} for d in own_playlists]\n",
    "len(own_playlists_trimmed)"
   ]
  },
  {
   "cell_type": "code",
   "execution_count": 10,
   "metadata": {},
   "outputs": [
    {
     "data": {
      "text/plain": [
       "17"
      ]
     },
     "execution_count": 10,
     "metadata": {},
     "output_type": "execute_result"
    }
   ],
   "source": [
    "public_playlists = list(filter(lambda l: (l['public'] == True), own_playlists_trimmed))\n",
    "len(public_playlists)"
   ]
  },
  {
   "cell_type": "code",
   "execution_count": 11,
   "metadata": {},
   "outputs": [
    {
     "data": {
      "text/plain": [
       "[{'id': '6u5RL72VpPaJfeLksVLE2Q',\n",
       "  'name': 'Mellow Jazz',\n",
       "  'public': True,\n",
       "  'tracks': {'href': 'https://api.spotify.com/v1/playlists/6u5RL72VpPaJfeLksVLE2Q/tracks',\n",
       "   'total': 712}},\n",
       " {'id': '7JYdgqlBBhiCqjpx2pVKwf',\n",
       "  'name': 'KJAH',\n",
       "  'public': True,\n",
       "  'tracks': {'href': 'https://api.spotify.com/v1/playlists/7JYdgqlBBhiCqjpx2pVKwf/tracks',\n",
       "   'total': 1610}},\n",
       " {'id': '4jdHBhEw9a9OBJ0CVbmpFX',\n",
       "  'name': 'Run',\n",
       "  'public': True,\n",
       "  'tracks': {'href': 'https://api.spotify.com/v1/playlists/4jdHBhEw9a9OBJ0CVbmpFX/tracks',\n",
       "   'total': 68}},\n",
       " {'id': '2MzQi9D9OtFuUsuOS8lwtS',\n",
       "  'name': 'Power Songs',\n",
       "  'public': True,\n",
       "  'tracks': {'href': 'https://api.spotify.com/v1/playlists/2MzQi9D9OtFuUsuOS8lwtS/tracks',\n",
       "   'total': 925}},\n",
       " {'id': '5ngdqzXvg3v6yakZ6oAcxv',\n",
       "  'name': 'Trojan Archives',\n",
       "  'public': True,\n",
       "  'tracks': {'href': 'https://api.spotify.com/v1/playlists/5ngdqzXvg3v6yakZ6oAcxv/tracks',\n",
       "   'total': 749}},\n",
       " {'id': '566s1zzyRtF4bzv9JfpnVY',\n",
       "  'name': 'Pop2000',\n",
       "  'public': True,\n",
       "  'tracks': {'href': 'https://api.spotify.com/v1/playlists/566s1zzyRtF4bzv9JfpnVY/tracks',\n",
       "   'total': 1163}},\n",
       " {'id': '6yCyQLKLPHmNAM1qfXxaT2',\n",
       "  'name': 'Phat Jazz',\n",
       "  'public': True,\n",
       "  'tracks': {'href': 'https://api.spotify.com/v1/playlists/6yCyQLKLPHmNAM1qfXxaT2/tracks',\n",
       "   'total': 144}},\n",
       " {'id': '7xpOH7WiLtpA1nKkPjuDuf',\n",
       "  'name': 'Jazz Lounge',\n",
       "  'public': True,\n",
       "  'tracks': {'href': 'https://api.spotify.com/v1/playlists/7xpOH7WiLtpA1nKkPjuDuf/tracks',\n",
       "   'total': 895}},\n",
       " {'id': '01PEgqXn5ZhC8z9a7HpVmG',\n",
       "  'name': 'Groovy Jazz',\n",
       "  'public': True,\n",
       "  'tracks': {'href': 'https://api.spotify.com/v1/playlists/01PEgqXn5ZhC8z9a7HpVmG/tracks',\n",
       "   'total': 253}},\n",
       " {'id': '31tFGldLHHeWvitXFG721v',\n",
       "  'name': 'Uptempo Jazz',\n",
       "  'public': True,\n",
       "  'tracks': {'href': 'https://api.spotify.com/v1/playlists/31tFGldLHHeWvitXFG721v/tracks',\n",
       "   'total': 41}},\n",
       " {'id': '489J1YM8xmRKwJ0KJCrDgM',\n",
       "  'name': 'Dinner Jazz',\n",
       "  'public': True,\n",
       "  'tracks': {'href': 'https://api.spotify.com/v1/playlists/489J1YM8xmRKwJ0KJCrDgM/tracks',\n",
       "   'total': 633}},\n",
       " {'id': '6llGZ072CW6nCfZnP4IRpI',\n",
       "  'name': 'Classic Jazz',\n",
       "  'public': True,\n",
       "  'tracks': {'href': 'https://api.spotify.com/v1/playlists/6llGZ072CW6nCfZnP4IRpI/tracks',\n",
       "   'total': 686}},\n",
       " {'id': '1npiimUFPnfOMfFKrwyc01',\n",
       "  'name': '5 Star Hard Bop Albums',\n",
       "  'public': True,\n",
       "  'tracks': {'href': 'https://api.spotify.com/v1/playlists/1npiimUFPnfOMfFKrwyc01/tracks',\n",
       "   'total': 534}},\n",
       " {'id': '1FUKz6E2K5ldoAd4wbG8Ew',\n",
       "  'name': 'Top hard bop tracks',\n",
       "  'public': True,\n",
       "  'tracks': {'href': 'https://api.spotify.com/v1/playlists/1FUKz6E2K5ldoAd4wbG8Ew/tracks',\n",
       "   'total': 88}},\n",
       " {'id': '69YjiqBUyv672XV0n1RQrv',\n",
       "  'name': 'Top bebop tracks',\n",
       "  'public': True,\n",
       "  'tracks': {'href': 'https://api.spotify.com/v1/playlists/69YjiqBUyv672XV0n1RQrv/tracks',\n",
       "   'total': 100}},\n",
       " {'id': '0Ou5HSpnMa1Sc9uZZjnOOa',\n",
       "  'name': 'The Vibe!',\n",
       "  'public': True,\n",
       "  'tracks': {'href': 'https://api.spotify.com/v1/playlists/0Ou5HSpnMa1Sc9uZZjnOOa/tracks',\n",
       "   'total': 123}},\n",
       " {'id': '3ELlsCnc7nAqbhFC53U2W8',\n",
       "  'name': 'Orhan',\n",
       "  'public': True,\n",
       "  'tracks': {'href': 'https://api.spotify.com/v1/playlists/3ELlsCnc7nAqbhFC53U2W8/tracks',\n",
       "   'total': 20}}]"
      ]
     },
     "execution_count": 11,
     "metadata": {},
     "output_type": "execute_result"
    }
   ],
   "source": [
    "public_playlists"
   ]
  },
  {
   "cell_type": "code",
   "execution_count": null,
   "metadata": {},
   "outputs": [],
   "source": []
  }
 ],
 "metadata": {
  "kernelspec": {
   "display_name": "Python 3",
   "language": "python",
   "name": "python3"
  },
  "language_info": {
   "codemirror_mode": {
    "name": "ipython",
    "version": 3
   },
   "file_extension": ".py",
   "mimetype": "text/x-python",
   "name": "python",
   "nbconvert_exporter": "python",
   "pygments_lexer": "ipython3",
   "version": "3.8.2"
  }
 },
 "nbformat": 4,
 "nbformat_minor": 4
}
