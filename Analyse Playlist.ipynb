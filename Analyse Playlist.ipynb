{
 "cells": [
  {
   "cell_type": "code",
   "execution_count": 1,
   "metadata": {},
   "outputs": [
    {
     "data": {
      "text/plain": [
       "'Mehmet Birgi'"
      ]
     },
     "execution_count": 1,
     "metadata": {},
     "output_type": "execute_result"
    }
   ],
   "source": [
    "import matplotlib.pyplot as plt\n",
    "import pandas as pd\n",
    "import numpy as np\n",
    "\n",
    "import spotify\n",
    "import utils\n",
    "\n",
    "sp = spotify.login(scope='playlist-modify-private')\n",
    "user = sp.current_user()\n",
    "username = user['id']\n",
    "displayName = user['display_name']\n",
    "displayName"
   ]
  },
  {
   "cell_type": "code",
   "execution_count": 3,
   "metadata": {},
   "outputs": [
    {
     "data": {
      "text/plain": [
       "'Run Test BPM 120 - 130'"
      ]
     },
     "execution_count": 3,
     "metadata": {},
     "output_type": "execute_result"
    }
   ],
   "source": [
    "playlist_id = 'spotify:playlist:1BfmdmBfylz9Xb9vo7FDNS'\n",
    "playlist = sp.user_playlist(username, playlist_id, fields=\"name, tracks, next\")\n",
    "playlist_name = playlist['name']\n",
    "playlist_name"
   ]
  },
  {
   "cell_type": "code",
   "execution_count": 4,
   "metadata": {},
   "outputs": [
    {
     "name": "stdout",
     "output_type": "stream",
     "text": [
      "42 tracks in playlist\n",
      "42 tracks in audio_features\n"
     ]
    }
   ],
   "source": [
    "tracks = []\n",
    "audio_features = []\n",
    "tracks_paging_object = playlist['tracks']\n",
    "while True:\n",
    "    track_id_list = []\n",
    "    for item in tracks_paging_object['items']:\n",
    "        track_result = item['track']\n",
    "        track = {\n",
    "            'id': track_result['id'],\n",
    "            'name': track_result['name'],\n",
    "            'artist_id': track_result['artists'][0]['id'],\n",
    "            'artist_name': track_result['artists'][0]['name'],\n",
    "            'popularity': track_result['popularity'],\n",
    "        }\n",
    "        tracks.append(track)\n",
    "        track_id_list.append(track['id'])\n",
    "    audio_features.extend(sp.audio_features(track_id_list))\n",
    "    if not tracks_paging_object['next']:\n",
    "        break\n",
    "    tracks_paging_object = sp.next(tracks_paging_object)\n",
    "print(len(tracks), \"tracks in playlist\")\n",
    "print(len(audio_features), \"tracks in audio_features\")"
   ]
  },
  {
   "cell_type": "code",
   "execution_count": 5,
   "metadata": {},
   "outputs": [
    {
     "data": {
      "text/html": [
       "<div>\n",
       "<style scoped>\n",
       "    .dataframe tbody tr th:only-of-type {\n",
       "        vertical-align: middle;\n",
       "    }\n",
       "\n",
       "    .dataframe tbody tr th {\n",
       "        vertical-align: top;\n",
       "    }\n",
       "\n",
       "    .dataframe thead th {\n",
       "        text-align: right;\n",
       "    }\n",
       "</style>\n",
       "<table border=\"1\" class=\"dataframe\">\n",
       "  <thead>\n",
       "    <tr style=\"text-align: right;\">\n",
       "      <th></th>\n",
       "      <th>popularity</th>\n",
       "      <th>danceability</th>\n",
       "      <th>energy</th>\n",
       "      <th>key</th>\n",
       "      <th>loudness</th>\n",
       "      <th>mode</th>\n",
       "      <th>speechiness</th>\n",
       "      <th>acousticness</th>\n",
       "      <th>instrumentalness</th>\n",
       "      <th>liveness</th>\n",
       "      <th>valence</th>\n",
       "      <th>tempo</th>\n",
       "      <th>duration_ms</th>\n",
       "      <th>time_signature</th>\n",
       "    </tr>\n",
       "  </thead>\n",
       "  <tbody>\n",
       "    <tr>\n",
       "      <th>count</th>\n",
       "      <td>42.000000</td>\n",
       "      <td>42.000000</td>\n",
       "      <td>42.000000</td>\n",
       "      <td>42.000000</td>\n",
       "      <td>42.000000</td>\n",
       "      <td>42.000000</td>\n",
       "      <td>42.000000</td>\n",
       "      <td>42.000000</td>\n",
       "      <td>42.000000</td>\n",
       "      <td>42.000000</td>\n",
       "      <td>42.000000</td>\n",
       "      <td>42.000000</td>\n",
       "      <td>42.000000</td>\n",
       "      <td>42.000000</td>\n",
       "    </tr>\n",
       "    <tr>\n",
       "      <th>mean</th>\n",
       "      <td>21.880952</td>\n",
       "      <td>0.737000</td>\n",
       "      <td>0.602190</td>\n",
       "      <td>4.928571</td>\n",
       "      <td>-9.582476</td>\n",
       "      <td>0.428571</td>\n",
       "      <td>0.061698</td>\n",
       "      <td>0.291231</td>\n",
       "      <td>0.277214</td>\n",
       "      <td>0.142698</td>\n",
       "      <td>0.697205</td>\n",
       "      <td>123.010167</td>\n",
       "      <td>256820.571429</td>\n",
       "      <td>3.952381</td>\n",
       "    </tr>\n",
       "    <tr>\n",
       "      <th>std</th>\n",
       "      <td>17.281320</td>\n",
       "      <td>0.088119</td>\n",
       "      <td>0.169317</td>\n",
       "      <td>3.853366</td>\n",
       "      <td>2.718523</td>\n",
       "      <td>0.500870</td>\n",
       "      <td>0.041043</td>\n",
       "      <td>0.263179</td>\n",
       "      <td>0.347025</td>\n",
       "      <td>0.087738</td>\n",
       "      <td>0.236300</td>\n",
       "      <td>2.619257</td>\n",
       "      <td>106475.831618</td>\n",
       "      <td>0.215540</td>\n",
       "    </tr>\n",
       "    <tr>\n",
       "      <th>min</th>\n",
       "      <td>0.000000</td>\n",
       "      <td>0.525000</td>\n",
       "      <td>0.192000</td>\n",
       "      <td>0.000000</td>\n",
       "      <td>-17.429000</td>\n",
       "      <td>0.000000</td>\n",
       "      <td>0.028700</td>\n",
       "      <td>0.000575</td>\n",
       "      <td>0.000000</td>\n",
       "      <td>0.041400</td>\n",
       "      <td>0.036600</td>\n",
       "      <td>120.007000</td>\n",
       "      <td>34307.000000</td>\n",
       "      <td>3.000000</td>\n",
       "    </tr>\n",
       "    <tr>\n",
       "      <th>25%</th>\n",
       "      <td>6.250000</td>\n",
       "      <td>0.670750</td>\n",
       "      <td>0.510500</td>\n",
       "      <td>1.000000</td>\n",
       "      <td>-11.469000</td>\n",
       "      <td>0.000000</td>\n",
       "      <td>0.040975</td>\n",
       "      <td>0.054200</td>\n",
       "      <td>0.000447</td>\n",
       "      <td>0.090950</td>\n",
       "      <td>0.534750</td>\n",
       "      <td>120.998250</td>\n",
       "      <td>201293.500000</td>\n",
       "      <td>4.000000</td>\n",
       "    </tr>\n",
       "    <tr>\n",
       "      <th>50%</th>\n",
       "      <td>17.000000</td>\n",
       "      <td>0.743000</td>\n",
       "      <td>0.620500</td>\n",
       "      <td>5.000000</td>\n",
       "      <td>-9.576000</td>\n",
       "      <td>0.000000</td>\n",
       "      <td>0.046500</td>\n",
       "      <td>0.243500</td>\n",
       "      <td>0.048100</td>\n",
       "      <td>0.110000</td>\n",
       "      <td>0.778000</td>\n",
       "      <td>122.191500</td>\n",
       "      <td>232087.500000</td>\n",
       "      <td>4.000000</td>\n",
       "    </tr>\n",
       "    <tr>\n",
       "      <th>75%</th>\n",
       "      <td>34.000000</td>\n",
       "      <td>0.793250</td>\n",
       "      <td>0.718250</td>\n",
       "      <td>7.750000</td>\n",
       "      <td>-7.450250</td>\n",
       "      <td>1.000000</td>\n",
       "      <td>0.062275</td>\n",
       "      <td>0.472750</td>\n",
       "      <td>0.509250</td>\n",
       "      <td>0.162250</td>\n",
       "      <td>0.879000</td>\n",
       "      <td>124.473000</td>\n",
       "      <td>290677.000000</td>\n",
       "      <td>4.000000</td>\n",
       "    </tr>\n",
       "    <tr>\n",
       "      <th>max</th>\n",
       "      <td>60.000000</td>\n",
       "      <td>0.947000</td>\n",
       "      <td>0.882000</td>\n",
       "      <td>11.000000</td>\n",
       "      <td>-5.542000</td>\n",
       "      <td>1.000000</td>\n",
       "      <td>0.211000</td>\n",
       "      <td>0.810000</td>\n",
       "      <td>0.911000</td>\n",
       "      <td>0.410000</td>\n",
       "      <td>0.979000</td>\n",
       "      <td>129.995000</td>\n",
       "      <td>697751.000000</td>\n",
       "      <td>4.000000</td>\n",
       "    </tr>\n",
       "  </tbody>\n",
       "</table>\n",
       "</div>"
      ],
      "text/plain": [
       "       popularity  danceability     energy        key   loudness       mode  \\\n",
       "count   42.000000     42.000000  42.000000  42.000000  42.000000  42.000000   \n",
       "mean    21.880952      0.737000   0.602190   4.928571  -9.582476   0.428571   \n",
       "std     17.281320      0.088119   0.169317   3.853366   2.718523   0.500870   \n",
       "min      0.000000      0.525000   0.192000   0.000000 -17.429000   0.000000   \n",
       "25%      6.250000      0.670750   0.510500   1.000000 -11.469000   0.000000   \n",
       "50%     17.000000      0.743000   0.620500   5.000000  -9.576000   0.000000   \n",
       "75%     34.000000      0.793250   0.718250   7.750000  -7.450250   1.000000   \n",
       "max     60.000000      0.947000   0.882000  11.000000  -5.542000   1.000000   \n",
       "\n",
       "       speechiness  acousticness  instrumentalness   liveness    valence  \\\n",
       "count    42.000000     42.000000         42.000000  42.000000  42.000000   \n",
       "mean      0.061698      0.291231          0.277214   0.142698   0.697205   \n",
       "std       0.041043      0.263179          0.347025   0.087738   0.236300   \n",
       "min       0.028700      0.000575          0.000000   0.041400   0.036600   \n",
       "25%       0.040975      0.054200          0.000447   0.090950   0.534750   \n",
       "50%       0.046500      0.243500          0.048100   0.110000   0.778000   \n",
       "75%       0.062275      0.472750          0.509250   0.162250   0.879000   \n",
       "max       0.211000      0.810000          0.911000   0.410000   0.979000   \n",
       "\n",
       "            tempo    duration_ms  time_signature  \n",
       "count   42.000000      42.000000       42.000000  \n",
       "mean   123.010167  256820.571429        3.952381  \n",
       "std      2.619257  106475.831618        0.215540  \n",
       "min    120.007000   34307.000000        3.000000  \n",
       "25%    120.998250  201293.500000        4.000000  \n",
       "50%    122.191500  232087.500000        4.000000  \n",
       "75%    124.473000  290677.000000        4.000000  \n",
       "max    129.995000  697751.000000        4.000000  "
      ]
     },
     "execution_count": 5,
     "metadata": {},
     "output_type": "execute_result"
    }
   ],
   "source": [
    "tracks_df = pd.DataFrame(tracks)\n",
    "audio_features_df = pd.DataFrame(audio_features)\n",
    "\n",
    "df = tracks_df.merge(audio_features_df, on='id')\n",
    "df = df.drop(columns=['analysis_url', 'track_href', 'type', 'uri'])\n",
    "df.describe()"
   ]
  },
  {
   "cell_type": "code",
   "execution_count": 6,
   "metadata": {},
   "outputs": [
    {
     "data": {
      "text/plain": [
       "<matplotlib.axes._subplots.AxesSubplot at 0x11841df50>"
      ]
     },
     "execution_count": 6,
     "metadata": {},
     "output_type": "execute_result"
    },
    {
     "data": {
      "image/png": "[encoded data removed]",
      "text/plain": [
       "<Figure size 432x288 with 1 Axes>"
      ]
     },
     "metadata": {
      "needs_background": "light"
     },
     "output_type": "display_data"
    }
   ],
   "source": [
    "df['tempo'].plot.hist()"
   ]
  },
  {
   "cell_type": "markdown",
   "metadata": {},
   "source": [
    "<img src=\"bpm_pace.png\" width=\"600\">"
   ]
  },
  {
   "cell_type": "code",
   "execution_count": 19,
   "metadata": {},
   "outputs": [
    {
     "data": {
      "text/plain": [
       "50"
      ]
     },
     "execution_count": 19,
     "metadata": {},
     "output_type": "execute_result"
    }
   ],
   "source": [
    "# set the BPM range\n",
    "tempo_min, tempo_max = 120, 130\n",
    "track_ids = list(df[(df['tempo'] >= tempo_min) & (df['tempo'] <= tempo_max) & (df['danceability'] >= 0.5)]['id'])\n",
    "len(track_ids)"
   ]
  },
  {
   "cell_type": "code",
   "execution_count": 20,
   "metadata": {},
   "outputs": [
    {
     "name": "stdout",
     "output_type": "stream",
     "text": [
      "Created new playlist with ID 1BfmdmBfylz9Xb9vo7FDNS\n"
     ]
    }
   ],
   "source": [
    "playlist_id, is_new = spotify.get_playlist_by_name(sp, \n",
    "        f\"Run Test BPM {tempo_min} - {tempo_max}\", \n",
    "        create_if_none=True)\n",
    "if playlist_id and is_new:\n",
    "    print(f\"Created new playlist with ID {playlist_id}\")\n",
    "elif playlist_id:\n",
    "    print(f\"Found existing playlist with ID {playlist_id}\")\n",
    "else:\n",
    "    print(\"Something went wrong :-(\")"
   ]
  },
  {
   "cell_type": "code",
   "execution_count": 21,
   "metadata": {},
   "outputs": [
    {
     "data": {
      "text/plain": [
       "50"
      ]
     },
     "execution_count": 21,
     "metadata": {},
     "output_type": "execute_result"
    }
   ],
   "source": [
    "num_tracks_added = spotify.add_tracks(sp, playlist_id, track_ids)\n",
    "num_tracks_added"
   ]
  },
  {
   "cell_type": "code",
   "execution_count": 7,
   "metadata": {},
   "outputs": [
    {
     "data": {
      "text/plain": [
       "<matplotlib.axes._subplots.AxesSubplot at 0x1183382d0>"
      ]
     },
     "execution_count": 7,
     "metadata": {},
     "output_type": "execute_result"
    },
    {
     "data": {
      "image/png": "[encoded data removed]",
      "text/plain": [
       "<Figure size 432x288 with 1 Axes>"
      ]
     },
     "metadata": {
      "needs_background": "light"
     },
     "output_type": "display_data"
    }
   ],
   "source": [
    "df['acousticness'].plot.hist()"
   ]
  },
  {
   "cell_type": "markdown",
   "metadata": {},
   "source": [
    "# Get all my public playlists"
   ]
  },
  {
   "cell_type": "code",
   "execution_count": 7,
   "metadata": {},
   "outputs": [
    {
     "data": {
      "text/plain": [
       "73"
      ]
     },
     "execution_count": 7,
     "metadata": {},
     "output_type": "execute_result"
    }
   ],
   "source": [
    "sp_response = sp.current_user_playlists()\n",
    "all_playlists = sp_response['items']\n",
    "while sp_response['next']:\n",
    "    sp_response = sp.next(sp_response)\n",
    "    all_playlists.extend(sp_response['items'])\n",
    "len(all_playlists)"
   ]
  },
  {
   "cell_type": "code",
   "execution_count": 8,
   "metadata": {},
   "outputs": [
    {
     "data": {
      "text/plain": [
       "49"
      ]
     },
     "execution_count": 8,
     "metadata": {},
     "output_type": "execute_result"
    }
   ],
   "source": [
    "own_playlists = list(filter(lambda l: l['owner']['id'] == user['id'], all_playlists))\n",
    "len(own_playlists)"
   ]
  },
  {
   "cell_type": "code",
   "execution_count": 9,
   "metadata": {},
   "outputs": [
    {
     "data": {
      "text/plain": [
       "49"
      ]
     },
     "execution_count": 9,
     "metadata": {},
     "output_type": "execute_result"
    }
   ],
   "source": [
    "own_playlists_trimmed = [{k: v for k, v in d.items() if k in ['id', 'name', 'public', 'tracks']} for d in own_playlists]\n",
    "len(own_playlists_trimmed)"
   ]
  },
  {
   "cell_type": "code",
   "execution_count": 10,
   "metadata": {},
   "outputs": [
    {
     "data": {
      "text/plain": [
       "17"
      ]
     },
     "execution_count": 10,
     "metadata": {},
     "output_type": "execute_result"
    }
   ],
   "source": [
    "public_playlists = list(filter(lambda l: (l['public'] == True), own_playlists_trimmed))\n",
    "len(public_playlists)"
   ]
  },
  {
   "cell_type": "code",
   "execution_count": 11,
   "metadata": {},
   "outputs": [
    {
     "data": {
      "text/plain": [
       "[{'id': '6u5RL72VpPaJfeLksVLE2Q',\n",
       "  'name': 'Mellow Jazz',\n",
       "  'public': True,\n",
       "  'tracks': {'href': 'https://api.spotify.com/v1/playlists/6u5RL72VpPaJfeLksVLE2Q/tracks',\n",
       "   'total': 712}},\n",
       " {'id': '7JYdgqlBBhiCqjpx2pVKwf',\n",
       "  'name': 'KJAH',\n",
       "  'public': True,\n",
       "  'tracks': {'href': 'https://api.spotify.com/v1/playlists/7JYdgqlBBhiCqjpx2pVKwf/tracks',\n",
       "   'total': 1610}},\n",
       " {'id': '4jdHBhEw9a9OBJ0CVbmpFX',\n",
       "  'name': 'Run',\n",
       "  'public': True,\n",
       "  'tracks': {'href': 'https://api.spotify.com/v1/playlists/4jdHBhEw9a9OBJ0CVbmpFX/tracks',\n",
       "   'total': 68}},\n",
       " {'id': '2MzQi9D9OtFuUsuOS8lwtS',\n",
       "  'name': 'Power Songs',\n",
       "  'public': True,\n",
       "  'tracks': {'href': 'https://api.spotify.com/v1/playlists/2MzQi9D9OtFuUsuOS8lwtS/tracks',\n",
       "   'total': 925}},\n",
       " {'id': '5ngdqzXvg3v6yakZ6oAcxv',\n",
       "  'name': 'Trojan Archives',\n",
       "  'public': True,\n",
       "  'tracks': {'href': 'https://api.spotify.com/v1/playlists/5ngdqzXvg3v6yakZ6oAcxv/tracks',\n",
       "   'total': 749}},\n",
       " {'id': '566s1zzyRtF4bzv9JfpnVY',\n",
       "  'name': 'Pop2000',\n",
       "  'public': True,\n",
       "  'tracks': {'href': 'https://api.spotify.com/v1/playlists/566s1zzyRtF4bzv9JfpnVY/tracks',\n",
       "   'total': 1163}},\n",
       " {'id': '6yCyQLKLPHmNAM1qfXxaT2',\n",
       "  'name': 'Phat Jazz',\n",
       "  'public': True,\n",
       "  'tracks': {'href': 'https://api.spotify.com/v1/playlists/6yCyQLKLPHmNAM1qfXxaT2/tracks',\n",
       "   'total': 144}},\n",
       " {'id': '7xpOH7WiLtpA1nKkPjuDuf',\n",
       "  'name': 'Jazz Lounge',\n",
       "  'public': True,\n",
       "  'tracks': {'href': 'https://api.spotify.com/v1/playlists/7xpOH7WiLtpA1nKkPjuDuf/tracks',\n",
       "   'total': 895}},\n",
       " {'id': '01PEgqXn5ZhC8z9a7HpVmG',\n",
       "  'name': 'Groovy Jazz',\n",
       "  'public': True,\n",
       "  'tracks': {'href': 'https://api.spotify.com/v1/playlists/01PEgqXn5ZhC8z9a7HpVmG/tracks',\n",
       "   'total': 253}},\n",
       " {'id': '31tFGldLHHeWvitXFG721v',\n",
       "  'name': 'Uptempo Jazz',\n",
       "  'public': True,\n",
       "  'tracks': {'href': 'https://api.spotify.com/v1/playlists/31tFGldLHHeWvitXFG721v/tracks',\n",
       "   'total': 41}},\n",
       " {'id': '489J1YM8xmRKwJ0KJCrDgM',\n",
       "  'name': 'Dinner Jazz',\n",
       "  'public': True,\n",
       "  'tracks': {'href': 'https://api.spotify.com/v1/playlists/489J1YM8xmRKwJ0KJCrDgM/tracks',\n",
       "   'total': 633}},\n",
       " {'id': '6llGZ072CW6nCfZnP4IRpI',\n",
       "  'name': 'Classic Jazz',\n",
       "  'public': True,\n",
       "  'tracks': {'href': 'https://api.spotify.com/v1/playlists/6llGZ072CW6nCfZnP4IRpI/tracks',\n",
       "   'total': 686}},\n",
       " {'id': '1npiimUFPnfOMfFKrwyc01',\n",
       "  'name': '5 Star Hard Bop Albums',\n",
       "  'public': True,\n",
       "  'tracks': {'href': 'https://api.spotify.com/v1/playlists/1npiimUFPnfOMfFKrwyc01/tracks',\n",
       "   'total': 534}},\n",
       " {'id': '1FUKz6E2K5ldoAd4wbG8Ew',\n",
       "  'name': 'Top hard bop tracks',\n",
       "  'public': True,\n",
       "  'tracks': {'href': 'https://api.spotify.com/v1/playlists/1FUKz6E2K5ldoAd4wbG8Ew/tracks',\n",
       "   'total': 88}},\n",
       " {'id': '69YjiqBUyv672XV0n1RQrv',\n",
       "  'name': 'Top bebop tracks',\n",
       "  'public': True,\n",
       "  'tracks': {'href': 'https://api.spotify.com/v1/playlists/69YjiqBUyv672XV0n1RQrv/tracks',\n",
       "   'total': 100}},\n",
       " {'id': '0Ou5HSpnMa1Sc9uZZjnOOa',\n",
       "  'name': 'The Vibe!',\n",
       "  'public': True,\n",
       "  'tracks': {'href': 'https://api.spotify.com/v1/playlists/0Ou5HSpnMa1Sc9uZZjnOOa/tracks',\n",
       "   'total': 123}},\n",
       " {'id': '3ELlsCnc7nAqbhFC53U2W8',\n",
       "  'name': 'Orhan',\n",
       "  'public': True,\n",
       "  'tracks': {'href': 'https://api.spotify.com/v1/playlists/3ELlsCnc7nAqbhFC53U2W8/tracks',\n",
       "   'total': 20}}]"
      ]
     },
     "execution_count": 11,
     "metadata": {},
     "output_type": "execute_result"
    }
   ],
   "source": [
    "public_playlists"
   ]
  },
  {
   "cell_type": "code",
   "execution_count": null,
   "metadata": {},
   "outputs": [],
   "source": []
  }
 ],
 "metadata": {
  "kernelspec": {
   "display_name": "Python 3",
   "language": "python",
   "name": "python3"
  },
  "language_info": {
   "codemirror_mode": {
    "name": "ipython",
    "version": 3
   },
   "file_extension": ".py",
   "mimetype": "text/x-python",
   "name": "python",
   "nbconvert_exporter": "python",
   "pygments_lexer": "ipython3",
   "version": "3.7.6"
  }
 },
 "nbformat": 4,
 "nbformat_minor": 2
}
