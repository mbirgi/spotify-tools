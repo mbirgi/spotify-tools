{
 "cells": [
  {
   "cell_type": "markdown",
   "metadata": {},
   "source": [
    "### Scrapes songs from Open Broadcast Radio"
   ]
  },
  {
   "cell_type": "code",
   "execution_count": 150,
   "metadata": {},
   "outputs": [],
   "source": [
    "import pprint\n",
    "import requests\n",
    "from bs4 import BeautifulSoup"
   ]
  },
  {
   "cell_type": "markdown",
   "metadata": {},
   "source": [
    "#### either scrape a single playlist:"
   ]
  },
  {
   "cell_type": "code",
   "execution_count": 151,
   "metadata": {},
   "outputs": [
    {
     "data": {
      "text/plain": [
       "{'series': 'Cool Session #20',\n",
       " 'author': 'blundetto',\n",
       " 'tracks': [{'title': 'Chanting', 'artist': 'Jim Nastic'},\n",
       "  {'title': 'Let Bygones Be Bygones', 'artist': 'Snoop Dogg'},\n",
       "  {'title': 'No Hands', 'artist': 'Joy Crookes'},\n",
       "  {'title': 'Bacon Fat', 'artist': 'Andre Williams'},\n",
       "  {'title': 'Trouble So Hard', 'artist': 'Vera Hall'},\n",
       "  {'title': 'What A Man', 'artist': 'Linda Lyndell'},\n",
       "  {'title': 'STATION-ID - Whisper', 'artist': 'Roland Widmer'},\n",
       "  {'title': \"Here's What's Left\", 'artist': 'RJD2'},\n",
       "  {'title': 'One More Night', 'artist': 'Michael Kiwanuka'},\n",
       "  {'title': \"Smokey Joe's Cafe\", 'artist': 'The Robins'},\n",
       "  {'title': 'Morning Sex', 'artist': 'Ralph Castelli'},\n",
       "  {'title': 'Hey Brother (Do Unto Others)', 'artist': 'The Family Daptone'},\n",
       "  {'title': 'STATION-ID - Anda fragend', 'artist': 'Roland Widmer'},\n",
       "  {'title': 'Facile', 'artist': 'Toma'},\n",
       "  {'title': '12.00 - 13.00 PO... pfeifferduettmx', 'artist': 'Roland Widmer'},\n",
       "  {'title': 'Teach Me How To ...riginal Version)',\n",
       "   'artist': 'Cali Swag District'},\n",
       "  {'title': 'Love is the Key', 'artist': 'Isaiah Sharkey'},\n",
       "  {'title': 'STATION-ID - Fro', 'artist': 'Roland Widmer'},\n",
       "  {'title': 'Évelyne (B.O.F. \"Slogan\")', 'artist': 'Serge Gainsbourg'},\n",
       "  {'title': 'Berimbau-Consolação', 'artist': 'Vinicius de Moraes'},\n",
       "  {'title': 'Sunny', 'artist': 'Biig Piig'},\n",
       "  {'title': 'Fire Burning', 'artist': 'Bob Andy'},\n",
       "  {'title': 'STATION-ID - Whisper', 'artist': 'Roland Widmer'},\n",
       "  {'title': 'S.L.Y', 'artist': 'Leisure'},\n",
       "  {'title': \"I'm Aware Of What You Want\", 'artist': 'Willie West'}]}"
      ]
     },
     "execution_count": 151,
     "metadata": {},
     "output_type": "execute_result"
    }
   ],
   "source": [
    "URL = \"https://www.openbroadcast.org/content/playlists/cool-session-20/\"\n",
    "response = requests.get(URL)\n",
    "soup = BeautifulSoup(response.content, 'html.parser')\n",
    "\n",
    "playlist = {}\n",
    "for node in soup.find('dl', class_='dl-horizontal main').children:\n",
    "    try:\n",
    "        text = node.text.strip()\n",
    "    except:\n",
    "        continue\n",
    "    if node.name == 'dt' and text in ['Series:', 'Author:']:\n",
    "        key = text[:-1].lower()\n",
    "        value = node.next_sibling.next_sibling.text.strip()\n",
    "        playlist[key] = value\n",
    "\n",
    "track_list = soup.find_all('div', class_='list_body_item c2')\n",
    "tracks = []\n",
    "for track in track_list:\n",
    "    title = track.li.a.contents[0].strip()\n",
    "    artist = track.find_all('li')[1].a.text.strip()\n",
    "    tracks.append({'title': title, 'artist': artist})\n",
    "playlist['tracks'] = tracks\n",
    "playlist"
   ]
  },
  {
   "cell_type": "code",
   "execution_count": 152,
   "metadata": {},
   "outputs": [],
   "source": [
    "import json\n",
    "with open('openbroadcast.json', 'w', encoding='utf-8') as f:\n",
    "    json.dump(playlist, f, ensure_ascii=False, indent=4)"
   ]
  },
  {
   "cell_type": "markdown",
   "metadata": {},
   "source": [
    "#### or scrape a series of playlists:"
   ]
  },
  {
   "cell_type": "code",
   "execution_count": 172,
   "metadata": {},
   "outputs": [
    {
     "name": "stdout",
     "output_type": "stream",
     "text": [
      "scraping page #1\n",
      "scraping page #2\n",
      "scraping page #3\n",
      "scraping page #4\n",
      "scraping page #5\n",
      "scraping page #6\n",
      "scraping page #7\n",
      "scraping page #8\n",
      "scraping page #9\n",
      "scraping page #10\n",
      "scraping page #11\n",
      "scraping page #12\n",
      "scraping page #13\n",
      "scraping page #14\n",
      "scraping page #15\n",
      "scraping page #16\n",
      "scraping page #17\n",
      "scraping page #18\n",
      "scraping page #19\n",
      "scraping page #20\n",
      "scraping page #21\n",
      "scraping page #22\n",
      "scraping page #23\n",
      "scraping page #24\n",
      "scraping page #25\n",
      "scraping page #26\n",
      "finished: <Response [404]>\n"
     ]
    }
   ],
   "source": [
    "base_url = \"https://www.openbroadcast.org/content/playlists/\"\n",
    "prefix = \"cool-session-\"\n",
    "tracks = []\n",
    "index = 1\n",
    "while True:\n",
    "    URL = base_url + prefix + str(index)\n",
    "    response = requests.get(URL)\n",
    "    if response.status_code == 200:\n",
    "        print(f\"scraping page #{index}\")\n",
    "        index += 1\n",
    "    else:\n",
    "        print(f\"finished: {response}\")\n",
    "        break\n",
    "    soup = BeautifulSoup(response.content, 'html.parser')\n",
    "    page_items = soup.find_all('div', class_='list_body_item c2')\n",
    "    for item in page_items:\n",
    "        title = item.li.a.contents[0].strip()\n",
    "        artist = item.find_all('li')[1].a.text.strip()\n",
    "        tracks.append({'title': title, 'artist': artist})"
   ]
  },
  {
   "cell_type": "code",
   "execution_count": 173,
   "metadata": {},
   "outputs": [
    {
     "data": {
      "text/plain": [
       "989"
      ]
     },
     "execution_count": 173,
     "metadata": {},
     "output_type": "execute_result"
    }
   ],
   "source": [
    "len(tracks)"
   ]
  },
  {
   "cell_type": "code",
   "execution_count": 175,
   "metadata": {},
   "outputs": [],
   "source": [
    "playlist = {'series': \"Cool Sessions\", 'author': \"blundetto\", 'tracks': tracks}"
   ]
  },
  {
   "cell_type": "code",
   "execution_count": 176,
   "metadata": {},
   "outputs": [],
   "source": [
    "import json\n",
    "import os\n",
    "dir = 'scrapes'\n",
    "if not os.path.exists(dir):\n",
    "    os.mkdir(dir)\n",
    "with open(os.path.join('scrapes', 'openbroadcast-cool_sessions.json'), 'w', encoding='utf-8') as f:\n",
    "    json.dump(playlist, f, ensure_ascii=False, indent=4)"
   ]
  }
 ],
 "metadata": {
  "kernelspec": {
   "display_name": "Python 3",
   "language": "python",
   "name": "python3"
  },
  "language_info": {
   "codemirror_mode": {
    "name": "ipython",
    "version": 3
   },
   "file_extension": ".py",
   "mimetype": "text/x-python",
   "name": "python",
   "nbconvert_exporter": "python",
   "pygments_lexer": "ipython3",
   "version": "3.7.6"
  }
 },
 "nbformat": 4,
 "nbformat_minor": 4
}
