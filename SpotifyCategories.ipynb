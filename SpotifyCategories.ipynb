{
 "cells": [
  {
   "cell_type": "code",
   "execution_count": 1,
   "metadata": {},
   "outputs": [
    {
     "data": {
      "text/plain": [
       "'Mehmet Birgi'"
      ]
     },
     "execution_count": 1,
     "metadata": {},
     "output_type": "execute_result"
    }
   ],
   "source": [
    "import spotify\n",
    "import utils\n",
    "\n",
    "sp = spotify.login(scope='playlist-modify-private')\n",
    "user = sp.current_user()\n",
    "username = user['id']\n",
    "displayName = user['display_name']\n",
    "displayName"
   ]
  },
  {
   "cell_type": "code",
   "execution_count": 2,
   "metadata": {},
   "outputs": [
    {
     "name": "stdout",
     "output_type": "stream",
     "text": [
      "37 categories found\n"
     ]
    }
   ],
   "source": [
    "# get all categories \n",
    "results = sp.categories(country='CH')['categories']\n",
    "categories = results['items']\n",
    "while results['next']:\n",
    "    results = sp.next(results)['categories']\n",
    "    categories.extend(results['items'])\n",
    "print(f\"{len(categories)} categories found\")"
   ]
  },
  {
   "cell_type": "code",
   "execution_count": 3,
   "metadata": {},
   "outputs": [
    {
     "data": {
      "text/plain": [
       "[('toplists', 'Top Lists'),\n",
       " ('at_home', 'At Home'),\n",
       " ('hiphop', 'Hip-Hop'),\n",
       " ('pop', 'Pop'),\n",
       " ('mood', 'Mood'),\n",
       " ('french_variety', 'French Pop'),\n",
       " ('party', 'Party'),\n",
       " ('edm_dance', 'Electronic/Dance'),\n",
       " ('rock', 'Rock'),\n",
       " ('chill', 'Chill'),\n",
       " ('wellness', 'Wellness'),\n",
       " ('workout', 'Workout'),\n",
       " ('indie_alt', 'Indie'),\n",
       " ('decades', 'Decades'),\n",
       " ('focus', 'Focus'),\n",
       " ('rnb', 'R&B'),\n",
       " ('thirdparty', 'Tastemakers'),\n",
       " ('sleep', 'Sleep'),\n",
       " ('latin', 'Latin'),\n",
       " ('jazz', 'Jazz'),\n",
       " ('classical', 'Classical'),\n",
       " ('audiobooks', 'Audiobooks'),\n",
       " ('country', 'Country'),\n",
       " ('romance', 'Romance'),\n",
       " ('dinner', 'Cooking & Dining'),\n",
       " ('family', 'Kids & Family'),\n",
       " ('metal', 'Metal'),\n",
       " ('roots', 'Folk & Acoustic'),\n",
       " ('popculture', 'Trending'),\n",
       " ('gaming', 'Gaming'),\n",
       " ('travel', 'Travel'),\n",
       " ('soul', 'Soul'),\n",
       " ('punk', 'Punk'),\n",
       " ('reggae', 'Reggae'),\n",
       " ('blues', 'Blues'),\n",
       " ('funk', 'Funk'),\n",
       " ('arab', 'Arab')]"
      ]
     },
     "execution_count": 3,
     "metadata": {},
     "output_type": "execute_result"
    }
   ],
   "source": [
    "[(ctg['id'], ctg['name']) for ctg in categories]"
   ]
  },
  {
   "cell_type": "code",
   "execution_count": 4,
   "metadata": {},
   "outputs": [],
   "source": [
    "selected_category_ids = [\n",
    "#     'edm_dance',\n",
    "#     'rock',\n",
    "#     'chill',\n",
    "#     'roots',\n",
    "    'soul',\n",
    "#     'rnb',\n",
    "    'reggae',\n",
    "    'blues',\n",
    "    'funk',\n",
    "]"
   ]
  },
  {
   "cell_type": "code",
   "execution_count": 5,
   "metadata": {},
   "outputs": [
    {
     "name": "stdout",
     "output_type": "stream",
     "text": [
      "added 20 playlists for category soul\n",
      "added 5 playlists for category soul\n",
      "added 14 playlists for category reggae\n",
      "added 20 playlists for category blues\n",
      "added 13 playlists for category funk\n"
     ]
    },
    {
     "data": {
      "text/plain": [
       "72"
      ]
     },
     "execution_count": 5,
     "metadata": {},
     "output_type": "execute_result"
    }
   ],
   "source": [
    "playlists = []\n",
    "for cat_id in selected_category_ids:\n",
    "    results = sp.category_playlists(cat_id)['playlists']\n",
    "    newpls = [{'category': cat_id, 'name': pl['name'], 'id': pl['id']} for pl in results['items']]\n",
    "    playlists.extend(newpls)\n",
    "    print(f\"added {len(newpls)} playlists for category {cat_id}\")\n",
    "    while results['next']:\n",
    "        results = sp.next(results)['playlists']\n",
    "        newpls = [{'category': cat_id, 'name': pl['name'], 'id': pl['id']} for pl in results['items']]\n",
    "        playlists.extend(newpls)\n",
    "        print(f\"added {len(newpls)} playlists for category {cat_id}\")\n",
    "len(playlists)"
   ]
  },
  {
   "cell_type": "code",
   "execution_count": 6,
   "metadata": {},
   "outputs": [
    {
     "data": {
      "text/plain": [
       "{'category': 'soul', 'name': 'Sound Of Motown', 'id': '37i9dQZF1DWYC7CaxNgoCg'}"
      ]
     },
     "execution_count": 6,
     "metadata": {},
     "output_type": "execute_result"
    }
   ],
   "source": [
    "playlists[1]"
   ]
  },
  {
   "cell_type": "code",
   "execution_count": 7,
   "metadata": {},
   "outputs": [
    {
     "data": {
      "text/plain": [
       "5411"
      ]
     },
     "execution_count": 7,
     "metadata": {},
     "output_type": "execute_result"
    }
   ],
   "source": [
    "tracks = []\n",
    "for playlist in playlists:\n",
    "    results = sp.playlist(playlist['id'])['tracks']\n",
    "    for item in results['items']:\n",
    "        if item['track']:\n",
    "            tracks.append({\n",
    "                'id': item['track']['id'],\n",
    "                'name': item['track']['name'],\n",
    "                'artists': [{'id': artist['id'], 'name': artist['name']} for artist in item['track']['artists']],\n",
    "                'playlist': playlist\n",
    "            })\n",
    "    while results['next']:\n",
    "        results = sp.next(results)\n",
    "        for item in results['items']:\n",
    "            if item['track']:\n",
    "                tracks.append({\n",
    "                    'id': item['track']['id'],\n",
    "                    'name': item['track']['name'],\n",
    "                    'artists': [{'id': artist['id'], 'name': artist['name']} for artist in item['track']['artists']],\n",
    "                    'playlist': playlist\n",
    "                })\n",
    "len(tracks)"
   ]
  },
  {
   "cell_type": "code",
   "execution_count": 8,
   "metadata": {},
   "outputs": [
    {
     "data": {
      "text/plain": [
       "{'id': '37j56IWzpplKE5zrlQRmxc',\n",
       " 'name': 'I Heard It Through The Grapevine',\n",
       " 'artists': [{'id': '3koiLjNrgRTNbOwViDipeA', 'name': 'Marvin Gaye'}],\n",
       " 'playlist': {'category': 'soul',\n",
       "  'name': 'Motown Soul Number Ones',\n",
       "  'id': '37i9dQZF1DX8xV1CEmgc1h'}}"
      ]
     },
     "execution_count": 8,
     "metadata": {},
     "output_type": "execute_result"
    }
   ],
   "source": [
    "tracks[0]"
   ]
  },
  {
   "cell_type": "code",
   "execution_count": 9,
   "metadata": {},
   "outputs": [
    {
     "data": {
      "text/plain": [
       "4751"
      ]
     },
     "execution_count": 9,
     "metadata": {},
     "output_type": "execute_result"
    }
   ],
   "source": [
    "# dedupe tracks\n",
    "unique_tracks = []\n",
    "track_ids = set()\n",
    "for index, track in enumerate(tracks):\n",
    "    if track['id'] not in track_ids:\n",
    "        unique_tracks.append(track)\n",
    "        track_ids.add(track['id'])\n",
    "len(unique_tracks)"
   ]
  },
  {
   "cell_type": "code",
   "execution_count": 11,
   "metadata": {
    "scrolled": true
   },
   "outputs": [
    {
     "data": {
      "text/html": [
       "<div>\n",
       "<style scoped>\n",
       "    .dataframe tbody tr th:only-of-type {\n",
       "        vertical-align: middle;\n",
       "    }\n",
       "\n",
       "    .dataframe tbody tr th {\n",
       "        vertical-align: top;\n",
       "    }\n",
       "\n",
       "    .dataframe thead th {\n",
       "        text-align: right;\n",
       "    }\n",
       "</style>\n",
       "<table border=\"1\" class=\"dataframe\">\n",
       "  <thead>\n",
       "    <tr style=\"text-align: right;\">\n",
       "      <th></th>\n",
       "      <th>danceability</th>\n",
       "      <th>energy</th>\n",
       "      <th>key</th>\n",
       "      <th>mode</th>\n",
       "      <th>speechiness</th>\n",
       "      <th>acousticness</th>\n",
       "      <th>instrumentalness</th>\n",
       "      <th>liveness</th>\n",
       "      <th>valence</th>\n",
       "      <th>tempo</th>\n",
       "      <th>id</th>\n",
       "      <th>duration_ms</th>\n",
       "      <th>time_signature</th>\n",
       "    </tr>\n",
       "  </thead>\n",
       "  <tbody>\n",
       "    <tr>\n",
       "      <th>0</th>\n",
       "      <td>0.498</td>\n",
       "      <td>0.634</td>\n",
       "      <td>8</td>\n",
       "      <td>1</td>\n",
       "      <td>0.2140</td>\n",
       "      <td>0.5110</td>\n",
       "      <td>0.002150</td>\n",
       "      <td>0.0850</td>\n",
       "      <td>0.252</td>\n",
       "      <td>130.865</td>\n",
       "      <td>13vTvs5XNIsG2jbP0MZEv6</td>\n",
       "      <td>177772</td>\n",
       "      <td>4</td>\n",
       "    </tr>\n",
       "    <tr>\n",
       "      <th>1</th>\n",
       "      <td>0.573</td>\n",
       "      <td>0.427</td>\n",
       "      <td>8</td>\n",
       "      <td>0</td>\n",
       "      <td>0.0397</td>\n",
       "      <td>0.5070</td>\n",
       "      <td>0.023600</td>\n",
       "      <td>0.1840</td>\n",
       "      <td>0.239</td>\n",
       "      <td>143.956</td>\n",
       "      <td>0awxfMcESmYucafK7d6CjL</td>\n",
       "      <td>178040</td>\n",
       "      <td>4</td>\n",
       "    </tr>\n",
       "    <tr>\n",
       "      <th>2</th>\n",
       "      <td>0.719</td>\n",
       "      <td>0.547</td>\n",
       "      <td>10</td>\n",
       "      <td>1</td>\n",
       "      <td>0.0362</td>\n",
       "      <td>0.0679</td>\n",
       "      <td>0.000003</td>\n",
       "      <td>0.2290</td>\n",
       "      <td>0.554</td>\n",
       "      <td>121.724</td>\n",
       "      <td>1ip1ULxxvAzaqH3VqKObdu</td>\n",
       "      <td>316000</td>\n",
       "      <td>4</td>\n",
       "    </tr>\n",
       "    <tr>\n",
       "      <th>3</th>\n",
       "      <td>0.419</td>\n",
       "      <td>0.200</td>\n",
       "      <td>4</td>\n",
       "      <td>0</td>\n",
       "      <td>0.1060</td>\n",
       "      <td>0.8680</td>\n",
       "      <td>0.827000</td>\n",
       "      <td>0.1450</td>\n",
       "      <td>0.480</td>\n",
       "      <td>88.730</td>\n",
       "      <td>6cqW0uVvurfrB83AlPGQA8</td>\n",
       "      <td>184189</td>\n",
       "      <td>4</td>\n",
       "    </tr>\n",
       "    <tr>\n",
       "      <th>4</th>\n",
       "      <td>0.719</td>\n",
       "      <td>0.645</td>\n",
       "      <td>0</td>\n",
       "      <td>1</td>\n",
       "      <td>0.0387</td>\n",
       "      <td>0.2510</td>\n",
       "      <td>0.000004</td>\n",
       "      <td>0.2730</td>\n",
       "      <td>0.961</td>\n",
       "      <td>113.965</td>\n",
       "      <td>0qOkHfSClduvkvGk6fCu8l</td>\n",
       "      <td>281200</td>\n",
       "      <td>4</td>\n",
       "    </tr>\n",
       "    <tr>\n",
       "      <th>...</th>\n",
       "      <td>...</td>\n",
       "      <td>...</td>\n",
       "      <td>...</td>\n",
       "      <td>...</td>\n",
       "      <td>...</td>\n",
       "      <td>...</td>\n",
       "      <td>...</td>\n",
       "      <td>...</td>\n",
       "      <td>...</td>\n",
       "      <td>...</td>\n",
       "      <td>...</td>\n",
       "      <td>...</td>\n",
       "      <td>...</td>\n",
       "    </tr>\n",
       "    <tr>\n",
       "      <th>4746</th>\n",
       "      <td>0.786</td>\n",
       "      <td>0.598</td>\n",
       "      <td>7</td>\n",
       "      <td>1</td>\n",
       "      <td>0.1910</td>\n",
       "      <td>0.3290</td>\n",
       "      <td>0.000026</td>\n",
       "      <td>0.0612</td>\n",
       "      <td>0.882</td>\n",
       "      <td>147.225</td>\n",
       "      <td>6jNKJ3tW2MOApL3cYMSj4L</td>\n",
       "      <td>154253</td>\n",
       "      <td>4</td>\n",
       "    </tr>\n",
       "    <tr>\n",
       "      <th>4747</th>\n",
       "      <td>0.652</td>\n",
       "      <td>0.328</td>\n",
       "      <td>11</td>\n",
       "      <td>0</td>\n",
       "      <td>0.0538</td>\n",
       "      <td>0.3270</td>\n",
       "      <td>0.000000</td>\n",
       "      <td>0.1100</td>\n",
       "      <td>0.177</td>\n",
       "      <td>83.225</td>\n",
       "      <td>72mNADtQDzlS3svnwuTRqh</td>\n",
       "      <td>209649</td>\n",
       "      <td>4</td>\n",
       "    </tr>\n",
       "    <tr>\n",
       "      <th>4748</th>\n",
       "      <td>0.257</td>\n",
       "      <td>0.669</td>\n",
       "      <td>7</td>\n",
       "      <td>1</td>\n",
       "      <td>0.1030</td>\n",
       "      <td>0.1970</td>\n",
       "      <td>0.049100</td>\n",
       "      <td>0.6160</td>\n",
       "      <td>0.393</td>\n",
       "      <td>183.927</td>\n",
       "      <td>0QpLq6RybVWoVvhmC1PCeW</td>\n",
       "      <td>497133</td>\n",
       "      <td>3</td>\n",
       "    </tr>\n",
       "    <tr>\n",
       "      <th>4749</th>\n",
       "      <td>0.787</td>\n",
       "      <td>0.815</td>\n",
       "      <td>2</td>\n",
       "      <td>1</td>\n",
       "      <td>0.0512</td>\n",
       "      <td>0.1580</td>\n",
       "      <td>0.000000</td>\n",
       "      <td>0.3930</td>\n",
       "      <td>0.959</td>\n",
       "      <td>119.878</td>\n",
       "      <td>4y9iH8fG2E3sdM4ccUEmHx</td>\n",
       "      <td>209173</td>\n",
       "      <td>4</td>\n",
       "    </tr>\n",
       "    <tr>\n",
       "      <th>4750</th>\n",
       "      <td>0.776</td>\n",
       "      <td>0.936</td>\n",
       "      <td>1</td>\n",
       "      <td>1</td>\n",
       "      <td>0.0549</td>\n",
       "      <td>0.5080</td>\n",
       "      <td>0.887000</td>\n",
       "      <td>0.1180</td>\n",
       "      <td>0.908</td>\n",
       "      <td>109.541</td>\n",
       "      <td>4UoYpPXNqZR2Y9yH8wSmu2</td>\n",
       "      <td>370680</td>\n",
       "      <td>4</td>\n",
       "    </tr>\n",
       "  </tbody>\n",
       "</table>\n",
       "<p>4751 rows × 13 columns</p>\n",
       "</div>"
      ],
      "text/plain": [
       "      danceability  energy  key  mode  speechiness  acousticness  \\\n",
       "0            0.498   0.634    8     1       0.2140        0.5110   \n",
       "1            0.573   0.427    8     0       0.0397        0.5070   \n",
       "2            0.719   0.547   10     1       0.0362        0.0679   \n",
       "3            0.419   0.200    4     0       0.1060        0.8680   \n",
       "4            0.719   0.645    0     1       0.0387        0.2510   \n",
       "...            ...     ...  ...   ...          ...           ...   \n",
       "4746         0.786   0.598    7     1       0.1910        0.3290   \n",
       "4747         0.652   0.328   11     0       0.0538        0.3270   \n",
       "4748         0.257   0.669    7     1       0.1030        0.1970   \n",
       "4749         0.787   0.815    2     1       0.0512        0.1580   \n",
       "4750         0.776   0.936    1     1       0.0549        0.5080   \n",
       "\n",
       "      instrumentalness  liveness  valence    tempo                      id  \\\n",
       "0             0.002150    0.0850    0.252  130.865  13vTvs5XNIsG2jbP0MZEv6   \n",
       "1             0.023600    0.1840    0.239  143.956  0awxfMcESmYucafK7d6CjL   \n",
       "2             0.000003    0.2290    0.554  121.724  1ip1ULxxvAzaqH3VqKObdu   \n",
       "3             0.827000    0.1450    0.480   88.730  6cqW0uVvurfrB83AlPGQA8   \n",
       "4             0.000004    0.2730    0.961  113.965  0qOkHfSClduvkvGk6fCu8l   \n",
       "...                ...       ...      ...      ...                     ...   \n",
       "4746          0.000026    0.0612    0.882  147.225  6jNKJ3tW2MOApL3cYMSj4L   \n",
       "4747          0.000000    0.1100    0.177   83.225  72mNADtQDzlS3svnwuTRqh   \n",
       "4748          0.049100    0.6160    0.393  183.927  0QpLq6RybVWoVvhmC1PCeW   \n",
       "4749          0.000000    0.3930    0.959  119.878  4y9iH8fG2E3sdM4ccUEmHx   \n",
       "4750          0.887000    0.1180    0.908  109.541  4UoYpPXNqZR2Y9yH8wSmu2   \n",
       "\n",
       "      duration_ms  time_signature  \n",
       "0          177772               4  \n",
       "1          178040               4  \n",
       "2          316000               4  \n",
       "3          184189               4  \n",
       "4          281200               4  \n",
       "...           ...             ...  \n",
       "4746       154253               4  \n",
       "4747       209649               4  \n",
       "4748       497133               3  \n",
       "4749       209173               4  \n",
       "4750       370680               4  \n",
       "\n",
       "[4751 rows x 13 columns]"
      ]
     },
     "execution_count": 11,
     "metadata": {},
     "output_type": "execute_result"
    }
   ],
   "source": [
    "import pandas as pd\n",
    "# pd.set_option('display.max_rows', 10)\n",
    "df_audio_features = pd.DataFrame(spotify.get_audio_features_for_tracks(sp, list(track_ids))).drop(\n",
    "    ['track_href', 'analysis_url', 'type', 'uri', 'loudness'], axis=1)\n",
    "df_audio_features"
   ]
  },
  {
   "cell_type": "code",
   "execution_count": 12,
   "metadata": {},
   "outputs": [],
   "source": [
    "# save tracks\n",
    "import json\n",
    "import os\n",
    "folder = 'data'\n",
    "filename = 'spotify_workout_tracks.json'\n",
    "if not os.path.exists(folder):\n",
    "    os.mkdir(folder)\n",
    "with open(os.path.join(folder, filename), 'w', encoding='utf-8') as f:\n",
    "    df_audio_features.to_json(path_or_buf=f, orient='records', indent=4)"
   ]
  },
  {
   "cell_type": "markdown",
   "metadata": {},
   "source": [
    "##### read the file"
   ]
  },
  {
   "cell_type": "code",
   "execution_count": 13,
   "metadata": {},
   "outputs": [
    {
     "data": {
      "text/plain": [
       "4751"
      ]
     },
     "execution_count": 13,
     "metadata": {},
     "output_type": "execute_result"
    }
   ],
   "source": [
    "import json\n",
    "import os\n",
    "folder = 'data'\n",
    "filename = 'spotify_workout_tracks.json'\n",
    "with open(os.path.join(folder, filename), 'r', encoding='utf-8') as f:\n",
    "    tracks = json.load(f)\n",
    "len(tracks)"
   ]
  },
  {
   "cell_type": "markdown",
   "metadata": {},
   "source": [
    "##### select the suitable tracks:"
   ]
  },
  {
   "cell_type": "code",
   "execution_count": 14,
   "metadata": {},
   "outputs": [
    {
     "data": {
      "text/plain": [
       "54"
      ]
     },
     "execution_count": 14,
     "metadata": {},
     "output_type": "execute_result"
    }
   ],
   "source": [
    "tempo_min, tempo_max = 125, 130\n",
    "track_ids = list(df_audio_features[\n",
    "    (df_audio_features['tempo'] >= tempo_min) & \n",
    "    (df_audio_features['tempo'] <= tempo_max) & \n",
    "    (df_audio_features['danceability'] >= 0.8) &\n",
    "    (df_audio_features['liveness'] <= 0.4) &\n",
    "    (df_audio_features['speechiness'] <= 0.33)\n",
    "]['id'])\n",
    "len(track_ids)"
   ]
  },
  {
   "cell_type": "code",
   "execution_count": 15,
   "metadata": {},
   "outputs": [
    {
     "name": "stdout",
     "output_type": "stream",
     "text": [
      "Created new playlist with ID 6xhP8EcsyzlLdWz9tJ8EZo\n"
     ]
    }
   ],
   "source": [
    "playlist_id, is_new = spotify.get_playlist_by_name(sp, \n",
    "        f\"Run Test BPM {tempo_min} - {tempo_max} (Spotify Categories)\", \n",
    "        create_if_none=True)\n",
    "if playlist_id and is_new:\n",
    "    print(f\"Created new playlist with ID {playlist_id}\")\n",
    "elif playlist_id:\n",
    "    print(f\"Found existing playlist with ID {playlist_id}\")\n",
    "else:\n",
    "    print(\"Something went wrong :-(\")"
   ]
  },
  {
   "cell_type": "code",
   "execution_count": 16,
   "metadata": {},
   "outputs": [
    {
     "name": "stdout",
     "output_type": "stream",
     "text": [
      "Playlist has 0 existing tracks\n",
      "Skipping duplicates: True\n",
      "54 tracks to be added\n",
      "54 tracks added\n",
      "OK\n"
     ]
    }
   ],
   "source": [
    "# add tracks to playlist\n",
    "spotify.add_tracks(sp, playlist_id, track_ids, skip_duplicates=True)"
   ]
  },
  {
   "cell_type": "code",
   "execution_count": 17,
   "metadata": {},
   "outputs": [
    {
     "data": {
      "text/plain": [
       "<matplotlib.axes._subplots.AxesSubplot at 0x7f706b3af8e0>"
      ]
     },
     "execution_count": 17,
     "metadata": {},
     "output_type": "execute_result"
    },
    {
     "data": {
      "image/png": "[encoded data removed]",
      "text/plain": [
       "<Figure size 432x288 with 1 Axes>"
      ]
     },
     "metadata": {
      "needs_background": "light"
     },
     "output_type": "display_data"
    }
   ],
   "source": [
    "max_ids = 50\n",
    "tracks_audio_features = []\n",
    "for i in range(0, len(track_ids), max_ids):\n",
    "    results = sp.audio_features(track_ids[i:i+max_ids])\n",
    "    tracks_audio_features.extend(results)\n",
    "len(tracks_audio_features)\n",
    "df_audio_features = pd.DataFrame(tracks_audio_features)\n",
    "df_audio_features['tempo'].plot.hist()"
   ]
  },
  {
   "cell_type": "code",
   "execution_count": null,
   "metadata": {},
   "outputs": [],
   "source": []
  }
 ],
 "metadata": {
  "kernelspec": {
   "display_name": "Python 3",
   "language": "python",
   "name": "python3"
  },
  "language_info": {
   "codemirror_mode": {
    "name": "ipython",
    "version": 3
   },
   "file_extension": ".py",
   "mimetype": "text/x-python",
   "name": "python",
   "nbconvert_exporter": "python",
   "pygments_lexer": "ipython3",
   "version": "3.8.2"
  }
 },
 "nbformat": 4,
 "nbformat_minor": 4
}
