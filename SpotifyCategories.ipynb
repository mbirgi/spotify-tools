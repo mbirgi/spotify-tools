{
 "cells": [
  {
   "cell_type": "code",
   "execution_count": 1,
   "metadata": {},
   "outputs": [
    {
     "data": {
      "text/plain": [
       "'Mehmet Birgi'"
      ]
     },
     "execution_count": 1,
     "metadata": {},
     "output_type": "execute_result"
    }
   ],
   "source": [
    "import spotify\n",
    "import utils\n",
    "\n",
    "sp = spotify.login(scope='playlist-modify-private')\n",
    "user = sp.current_user()\n",
    "username = user['id']\n",
    "displayName = user['display_name']\n",
    "displayName"
   ]
  },
  {
   "cell_type": "code",
   "execution_count": 2,
   "metadata": {},
   "outputs": [
    {
     "name": "stdout",
     "output_type": "stream",
     "text": [
      "37 categories found\n"
     ]
    }
   ],
   "source": [
    "# get all categories \n",
    "results = sp.categories(country='CH')['categories']\n",
    "categories = results['items']\n",
    "while results['next']:\n",
    "    results = sp.next(results)['categories']\n",
    "    categories.extend(results['items'])\n",
    "print(f\"{len(categories)} categories found\")"
   ]
  },
  {
   "cell_type": "code",
   "execution_count": 3,
   "metadata": {},
   "outputs": [
    {
     "data": {
      "text/plain": [
       "[('toplists', 'Top Lists'),\n",
       " ('at_home', 'At Home'),\n",
       " ('hiphop', 'Hip-Hop'),\n",
       " ('pop', 'Pop'),\n",
       " ('mood', 'Mood'),\n",
       " ('french_variety', 'French Pop'),\n",
       " ('party', 'Party'),\n",
       " ('edm_dance', 'Electronic/Dance'),\n",
       " ('rock', 'Rock'),\n",
       " ('chill', 'Chill'),\n",
       " ('wellness', 'Wellness'),\n",
       " ('workout', 'Workout'),\n",
       " ('indie_alt', 'Indie'),\n",
       " ('decades', 'Decades'),\n",
       " ('focus', 'Focus'),\n",
       " ('rnb', 'R&B'),\n",
       " ('thirdparty', 'Tastemakers'),\n",
       " ('sleep', 'Sleep'),\n",
       " ('latin', 'Latin'),\n",
       " ('jazz', 'Jazz'),\n",
       " ('classical', 'Classical'),\n",
       " ('audiobooks', 'Audiobooks'),\n",
       " ('country', 'Country'),\n",
       " ('romance', 'Romance'),\n",
       " ('dinner', 'Cooking & Dining'),\n",
       " ('family', 'Kids & Family'),\n",
       " ('metal', 'Metal'),\n",
       " ('roots', 'Folk & Acoustic'),\n",
       " ('popculture', 'Trending'),\n",
       " ('gaming', 'Gaming'),\n",
       " ('travel', 'Travel'),\n",
       " ('soul', 'Soul'),\n",
       " ('punk', 'Punk'),\n",
       " ('reggae', 'Reggae'),\n",
       " ('blues', 'Blues'),\n",
       " ('funk', 'Funk'),\n",
       " ('arab', 'Arab')]"
      ]
     },
     "execution_count": 3,
     "metadata": {},
     "output_type": "execute_result"
    }
   ],
   "source": [
    "[(ctg['id'], ctg['name']) for ctg in categories]"
   ]
  },
  {
   "cell_type": "code",
   "execution_count": 4,
   "metadata": {},
   "outputs": [],
   "source": [
    "selected_category_ids = [\n",
    "    'edm_dance',\n",
    "    'rock',\n",
    "    'indie_alt',\n",
    "    'latin',\n",
    "    'jazz',\n",
    "    'soul',\n",
    "    'country',\n",
    "    'reggae',\n",
    "    'blues',\n",
    "    'funk',\n",
    "]"
   ]
  },
  {
   "cell_type": "code",
   "execution_count": 12,
   "metadata": {},
   "outputs": [
    {
     "name": "stdout",
     "output_type": "stream",
     "text": [
      "added 20 playlists for category edm_dance\n",
      "added 20 playlists for category edm_dance\n",
      "added 20 playlists for category edm_dance\n",
      "added 6 playlists for category edm_dance\n",
      "added 20 playlists for category rock\n",
      "added 20 playlists for category rock\n",
      "added 20 playlists for category rock\n",
      "added 6 playlists for category rock\n",
      "added 20 playlists for category indie_alt\n",
      "added 19 playlists for category indie_alt\n",
      "added 20 playlists for category latin\n",
      "added 20 playlists for category latin\n",
      "added 20 playlists for category latin\n",
      "added 19 playlists for category latin\n",
      "added 20 playlists for category jazz\n",
      "added 8 playlists for category jazz\n",
      "added 20 playlists for category soul\n",
      "added 5 playlists for category soul\n",
      "added 20 playlists for category country\n",
      "added 20 playlists for category country\n",
      "added 7 playlists for category country\n",
      "added 20 playlists for category reggae\n",
      "added 20 playlists for category blues\n",
      "added 13 playlists for category funk\n",
      "403\n",
      "403\n"
     ]
    }
   ],
   "source": [
    "playlists = []\n",
    "for cat_id in selected_category_ids:\n",
    "    results = sp.category_playlists(cat_id)['playlists']\n",
    "    newpls = [{'category': cat_id, 'name': pl['name'], 'id': pl['id']} for pl in results['items']]\n",
    "    playlists.extend(newpls)\n",
    "    print(f\"added {len(newpls)} playlists for category {cat_id}\")\n",
    "    while results['next']:\n",
    "        results = sp.next(results)['playlists']\n",
    "        newpls = [{'category': cat_id, 'name': pl['name'], 'id': pl['id']} for pl in results['items']]\n",
    "        playlists.extend(newpls)\n",
    "        print(f\"added {len(newpls)} playlists for category {cat_id}\")\n",
    "# dedupe list\n",
    "print(len(playlists))\n",
    "playlists = [dict(t) for t in {tuple(d.items()) for d in playlists}]\n",
    "print(len(playlists))"
   ]
  },
  {
   "cell_type": "code",
   "execution_count": 13,
   "metadata": {},
   "outputs": [
    {
     "data": {
      "text/plain": [
       "{'category': 'country', 'name': 'Wild Country', 'id': '37i9dQZF1DX5mB2C8gBeUM'}"
      ]
     },
     "execution_count": 13,
     "metadata": {},
     "output_type": "execute_result"
    }
   ],
   "source": [
    "playlists[1]"
   ]
  },
  {
   "cell_type": "code",
   "execution_count": 16,
   "metadata": {},
   "outputs": [
    {
     "data": {
      "text/html": [
       "<div><span class=\"Text-label\" style=\"display:inline-block; overflow:hidden; white-space:nowrap; text-overflow:ellipsis; min-width:0; max-width:15ex; vertical-align:middle; text-align:right\"></span>\n",
       "<progress style=\"width:60ex\" max=\"403\" value=\"403\" class=\"Progress-main\"/></progress>\n",
       "<span class=\"Progress-label\"><strong>100%</strong></span>\n",
       "<span class=\"Iteration-label\">400/403</span>\n",
       "<span class=\"Time-label\">[00:53<00:00, 0.13s/it]</span></div>"
      ],
      "text/plain": [
       "\u001b[A\u001b[2K\r",
       " [████████████████████████████████████████████████████████████] 403/403 [00:53<00:00, 0.13s/it]"
      ]
     },
     "metadata": {},
     "output_type": "display_data"
    },
    {
     "data": {
      "text/plain": [
       "31372"
      ]
     },
     "execution_count": 16,
     "metadata": {},
     "output_type": "execute_result"
    }
   ],
   "source": [
    "import ipypb\n",
    "tracks = []\n",
    "for playlist in ipypb.track(playlists):\n",
    "    results = sp.playlist(playlist['id'])['tracks']\n",
    "    for item in results['items']:\n",
    "        if item['track']:\n",
    "            tracks.append({\n",
    "                'id': item['track']['id'],\n",
    "                'name': item['track']['name'],\n",
    "                'artists': [{'id': artist['id'], 'name': artist['name']} for artist in item['track']['artists']],\n",
    "                'playlist': playlist\n",
    "            })\n",
    "    while results['next']:\n",
    "        results = sp.next(results)\n",
    "        for item in results['items']:\n",
    "            if item['track']:\n",
    "                tracks.append({\n",
    "                    'id': item['track']['id'],\n",
    "                    'name': item['track']['name'],\n",
    "                    'artists': [{'id': artist['id'], 'name': artist['name']} for artist in item['track']['artists']],\n",
    "                    'playlist': playlist\n",
    "                })\n",
    "len(tracks)"
   ]
  },
  {
   "cell_type": "code",
   "execution_count": 17,
   "metadata": {},
   "outputs": [
    {
     "data": {
      "text/plain": [
       "{'id': '7zwwvrJAWGjfc9wFD3bVzZ',\n",
       " 'name': 'Cupid De Locke - Remastered 2012',\n",
       " 'artists': [{'id': '40Yq4vzPs9VNUrIBG5Jr2i',\n",
       "   'name': 'The Smashing Pumpkins'}],\n",
       " 'playlist': {'category': 'rock',\n",
       "  'name': 'Rock Love Songs',\n",
       "  'id': '37i9dQZF1DX7Z7kYpKKGTc'}}"
      ]
     },
     "execution_count": 17,
     "metadata": {},
     "output_type": "execute_result"
    }
   ],
   "source": [
    "tracks[0]"
   ]
  },
  {
   "cell_type": "code",
   "execution_count": 18,
   "metadata": {},
   "outputs": [
    {
     "data": {
      "text/plain": [
       "26268"
      ]
     },
     "execution_count": 18,
     "metadata": {},
     "output_type": "execute_result"
    }
   ],
   "source": [
    "# dedupe tracks\n",
    "unique_tracks = []\n",
    "track_ids = set()\n",
    "for index, track in enumerate(tracks):\n",
    "    if track['id'] not in track_ids:\n",
    "        unique_tracks.append(track)\n",
    "        track_ids.add(track['id'])\n",
    "len(unique_tracks)"
   ]
  },
  {
   "cell_type": "code",
   "execution_count": 21,
   "metadata": {
    "scrolled": true
   },
   "outputs": [
    {
     "data": {
      "text/html": [
       "<div><span class=\"Text-label\" style=\"display:inline-block; overflow:hidden; white-space:nowrap; text-overflow:ellipsis; min-width:0; max-width:15ex; vertical-align:middle; text-align:right\"></span>\n",
       "<progress style=\"width:60ex\" max=\"526\" value=\"526\" class=\"Progress-main\"/></progress>\n",
       "<span class=\"Progress-label\"><strong>100%</strong></span>\n",
       "<span class=\"Iteration-label\">520/526</span>\n",
       "<span class=\"Time-label\">[00:49<00:00, 0.09s/it]</span></div>"
      ],
      "text/plain": [
       "\u001b[A\u001b[2K\r",
       " [████████████████████████████████████████████████████████████] 526/526 [00:49<00:00, 0.09s/it]"
      ]
     },
     "metadata": {},
     "output_type": "display_data"
    }
   ],
   "source": [
    "# get audio features\n",
    "batch_size = 50\n",
    "features = []\n",
    "track_ids = list(track_ids)\n",
    "for i in ipypb.track(range(0, len(track_ids), batch_size)):\n",
    "    results = sp.audio_features(track_ids[i:i+batch_size])\n",
    "    features.extend(results)"
   ]
  },
  {
   "cell_type": "code",
   "execution_count": 22,
   "metadata": {
    "scrolled": true
   },
   "outputs": [
    {
     "data": {
      "text/html": [
       "<div>\n",
       "<style scoped>\n",
       "    .dataframe tbody tr th:only-of-type {\n",
       "        vertical-align: middle;\n",
       "    }\n",
       "\n",
       "    .dataframe tbody tr th {\n",
       "        vertical-align: top;\n",
       "    }\n",
       "\n",
       "    .dataframe thead th {\n",
       "        text-align: right;\n",
       "    }\n",
       "</style>\n",
       "<table border=\"1\" class=\"dataframe\">\n",
       "  <thead>\n",
       "    <tr style=\"text-align: right;\">\n",
       "      <th></th>\n",
       "      <th>danceability</th>\n",
       "      <th>energy</th>\n",
       "      <th>key</th>\n",
       "      <th>mode</th>\n",
       "      <th>speechiness</th>\n",
       "      <th>acousticness</th>\n",
       "      <th>instrumentalness</th>\n",
       "      <th>liveness</th>\n",
       "      <th>valence</th>\n",
       "      <th>tempo</th>\n",
       "      <th>id</th>\n",
       "      <th>duration_ms</th>\n",
       "      <th>time_signature</th>\n",
       "    </tr>\n",
       "  </thead>\n",
       "  <tbody>\n",
       "    <tr>\n",
       "      <th>0</th>\n",
       "      <td>0.505</td>\n",
       "      <td>0.911</td>\n",
       "      <td>10</td>\n",
       "      <td>0</td>\n",
       "      <td>0.0624</td>\n",
       "      <td>0.031500</td>\n",
       "      <td>0.000018</td>\n",
       "      <td>0.0745</td>\n",
       "      <td>0.281</td>\n",
       "      <td>81.978</td>\n",
       "      <td>3lCfyDeaEYxEvJSnhv1ek3</td>\n",
       "      <td>236283</td>\n",
       "      <td>4</td>\n",
       "    </tr>\n",
       "    <tr>\n",
       "      <th>1</th>\n",
       "      <td>0.615</td>\n",
       "      <td>0.969</td>\n",
       "      <td>5</td>\n",
       "      <td>1</td>\n",
       "      <td>0.0383</td>\n",
       "      <td>0.348000</td>\n",
       "      <td>0.000002</td>\n",
       "      <td>0.1350</td>\n",
       "      <td>0.950</td>\n",
       "      <td>174.927</td>\n",
       "      <td>0j8PJyGPOaLJZyWIxw5MjN</td>\n",
       "      <td>360784</td>\n",
       "      <td>4</td>\n",
       "    </tr>\n",
       "    <tr>\n",
       "      <th>2</th>\n",
       "      <td>0.307</td>\n",
       "      <td>0.635</td>\n",
       "      <td>7</td>\n",
       "      <td>1</td>\n",
       "      <td>0.0339</td>\n",
       "      <td>0.015500</td>\n",
       "      <td>0.004860</td>\n",
       "      <td>0.3660</td>\n",
       "      <td>0.305</td>\n",
       "      <td>166.978</td>\n",
       "      <td>2IZZqH4K02UIYg5EohpNHF</td>\n",
       "      <td>306427</td>\n",
       "      <td>4</td>\n",
       "    </tr>\n",
       "    <tr>\n",
       "      <th>3</th>\n",
       "      <td>0.779</td>\n",
       "      <td>0.794</td>\n",
       "      <td>9</td>\n",
       "      <td>1</td>\n",
       "      <td>0.0360</td>\n",
       "      <td>0.339000</td>\n",
       "      <td>0.000002</td>\n",
       "      <td>0.1350</td>\n",
       "      <td>0.725</td>\n",
       "      <td>129.073</td>\n",
       "      <td>3VwFVdzHS7kEC0XKswiWA9</td>\n",
       "      <td>236253</td>\n",
       "      <td>4</td>\n",
       "    </tr>\n",
       "    <tr>\n",
       "      <th>4</th>\n",
       "      <td>0.186</td>\n",
       "      <td>0.546</td>\n",
       "      <td>2</td>\n",
       "      <td>1</td>\n",
       "      <td>0.0373</td>\n",
       "      <td>0.451000</td>\n",
       "      <td>0.000000</td>\n",
       "      <td>0.2010</td>\n",
       "      <td>0.533</td>\n",
       "      <td>177.526</td>\n",
       "      <td>6QZfj7u76JcewmSARFVUmr</td>\n",
       "      <td>152453</td>\n",
       "      <td>3</td>\n",
       "    </tr>\n",
       "    <tr>\n",
       "      <th>...</th>\n",
       "      <td>...</td>\n",
       "      <td>...</td>\n",
       "      <td>...</td>\n",
       "      <td>...</td>\n",
       "      <td>...</td>\n",
       "      <td>...</td>\n",
       "      <td>...</td>\n",
       "      <td>...</td>\n",
       "      <td>...</td>\n",
       "      <td>...</td>\n",
       "      <td>...</td>\n",
       "      <td>...</td>\n",
       "      <td>...</td>\n",
       "    </tr>\n",
       "    <tr>\n",
       "      <th>26263</th>\n",
       "      <td>0.623</td>\n",
       "      <td>0.747</td>\n",
       "      <td>0</td>\n",
       "      <td>1</td>\n",
       "      <td>0.0261</td>\n",
       "      <td>0.130000</td>\n",
       "      <td>0.419000</td>\n",
       "      <td>0.1060</td>\n",
       "      <td>0.398</td>\n",
       "      <td>109.963</td>\n",
       "      <td>2OvQx1RIx6Ymys51lH87xJ</td>\n",
       "      <td>270028</td>\n",
       "      <td>4</td>\n",
       "    </tr>\n",
       "    <tr>\n",
       "      <th>26264</th>\n",
       "      <td>0.509</td>\n",
       "      <td>0.405</td>\n",
       "      <td>2</td>\n",
       "      <td>0</td>\n",
       "      <td>0.0360</td>\n",
       "      <td>0.319000</td>\n",
       "      <td>0.005900</td>\n",
       "      <td>0.1230</td>\n",
       "      <td>0.274</td>\n",
       "      <td>141.509</td>\n",
       "      <td>3waUNDqqEcv8GFLr6w3YNz</td>\n",
       "      <td>215947</td>\n",
       "      <td>3</td>\n",
       "    </tr>\n",
       "    <tr>\n",
       "      <th>26265</th>\n",
       "      <td>0.521</td>\n",
       "      <td>0.888</td>\n",
       "      <td>4</td>\n",
       "      <td>0</td>\n",
       "      <td>0.0443</td>\n",
       "      <td>0.002470</td>\n",
       "      <td>0.001080</td>\n",
       "      <td>0.1150</td>\n",
       "      <td>0.115</td>\n",
       "      <td>125.986</td>\n",
       "      <td>0NA3qmF7whDKExwYa6V7WD</td>\n",
       "      <td>220476</td>\n",
       "      <td>4</td>\n",
       "    </tr>\n",
       "    <tr>\n",
       "      <th>26266</th>\n",
       "      <td>0.294</td>\n",
       "      <td>0.970</td>\n",
       "      <td>4</td>\n",
       "      <td>1</td>\n",
       "      <td>0.2650</td>\n",
       "      <td>0.000706</td>\n",
       "      <td>0.000000</td>\n",
       "      <td>0.1230</td>\n",
       "      <td>0.144</td>\n",
       "      <td>166.475</td>\n",
       "      <td>4KliQFRlvNKnlVYzMMbSMq</td>\n",
       "      <td>234707</td>\n",
       "      <td>4</td>\n",
       "    </tr>\n",
       "    <tr>\n",
       "      <th>26267</th>\n",
       "      <td>0.781</td>\n",
       "      <td>0.385</td>\n",
       "      <td>10</td>\n",
       "      <td>0</td>\n",
       "      <td>0.0789</td>\n",
       "      <td>0.010100</td>\n",
       "      <td>0.587000</td>\n",
       "      <td>0.1660</td>\n",
       "      <td>0.842</td>\n",
       "      <td>105.812</td>\n",
       "      <td>6EV7iIhdW9VBjphqZNGSfM</td>\n",
       "      <td>240743</td>\n",
       "      <td>4</td>\n",
       "    </tr>\n",
       "  </tbody>\n",
       "</table>\n",
       "<p>26268 rows × 13 columns</p>\n",
       "</div>"
      ],
      "text/plain": [
       "       danceability  energy  key  mode  speechiness  acousticness  \\\n",
       "0             0.505   0.911   10     0       0.0624      0.031500   \n",
       "1             0.615   0.969    5     1       0.0383      0.348000   \n",
       "2             0.307   0.635    7     1       0.0339      0.015500   \n",
       "3             0.779   0.794    9     1       0.0360      0.339000   \n",
       "4             0.186   0.546    2     1       0.0373      0.451000   \n",
       "...             ...     ...  ...   ...          ...           ...   \n",
       "26263         0.623   0.747    0     1       0.0261      0.130000   \n",
       "26264         0.509   0.405    2     0       0.0360      0.319000   \n",
       "26265         0.521   0.888    4     0       0.0443      0.002470   \n",
       "26266         0.294   0.970    4     1       0.2650      0.000706   \n",
       "26267         0.781   0.385   10     0       0.0789      0.010100   \n",
       "\n",
       "       instrumentalness  liveness  valence    tempo                      id  \\\n",
       "0              0.000018    0.0745    0.281   81.978  3lCfyDeaEYxEvJSnhv1ek3   \n",
       "1              0.000002    0.1350    0.950  174.927  0j8PJyGPOaLJZyWIxw5MjN   \n",
       "2              0.004860    0.3660    0.305  166.978  2IZZqH4K02UIYg5EohpNHF   \n",
       "3              0.000002    0.1350    0.725  129.073  3VwFVdzHS7kEC0XKswiWA9   \n",
       "4              0.000000    0.2010    0.533  177.526  6QZfj7u76JcewmSARFVUmr   \n",
       "...                 ...       ...      ...      ...                     ...   \n",
       "26263          0.419000    0.1060    0.398  109.963  2OvQx1RIx6Ymys51lH87xJ   \n",
       "26264          0.005900    0.1230    0.274  141.509  3waUNDqqEcv8GFLr6w3YNz   \n",
       "26265          0.001080    0.1150    0.115  125.986  0NA3qmF7whDKExwYa6V7WD   \n",
       "26266          0.000000    0.1230    0.144  166.475  4KliQFRlvNKnlVYzMMbSMq   \n",
       "26267          0.587000    0.1660    0.842  105.812  6EV7iIhdW9VBjphqZNGSfM   \n",
       "\n",
       "       duration_ms  time_signature  \n",
       "0           236283               4  \n",
       "1           360784               4  \n",
       "2           306427               4  \n",
       "3           236253               4  \n",
       "4           152453               3  \n",
       "...            ...             ...  \n",
       "26263       270028               4  \n",
       "26264       215947               3  \n",
       "26265       220476               4  \n",
       "26266       234707               4  \n",
       "26267       240743               4  \n",
       "\n",
       "[26268 rows x 13 columns]"
      ]
     },
     "execution_count": 22,
     "metadata": {},
     "output_type": "execute_result"
    }
   ],
   "source": [
    "import pandas as pd\n",
    "df_audio_features = pd.DataFrame(features).drop(\n",
    "    ['track_href', 'analysis_url', 'type', 'uri', 'loudness'], axis=1)\n",
    "df_audio_features"
   ]
  },
  {
   "cell_type": "code",
   "execution_count": 23,
   "metadata": {},
   "outputs": [],
   "source": [
    "# save tracks\n",
    "import json\n",
    "import os\n",
    "folder = 'data'\n",
    "filename = 'spotify_selected_categories_tracks.json'\n",
    "if not os.path.exists(folder):\n",
    "    os.mkdir(folder)\n",
    "with open(os.path.join(folder, filename), 'w', encoding='utf-8') as f:\n",
    "    df_audio_features.to_json(path_or_buf=f, orient='records', indent=4)"
   ]
  },
  {
   "cell_type": "markdown",
   "metadata": {},
   "source": [
    "##### read the file"
   ]
  },
  {
   "cell_type": "code",
   "execution_count": 24,
   "metadata": {},
   "outputs": [
    {
     "data": {
      "text/plain": [
       "26268"
      ]
     },
     "execution_count": 24,
     "metadata": {},
     "output_type": "execute_result"
    }
   ],
   "source": [
    "import json\n",
    "import os\n",
    "folder = 'data'\n",
    "filename = 'spotify_selected_categories_tracks.json'\n",
    "with open(os.path.join(folder, filename), 'r', encoding='utf-8') as f:\n",
    "    tracks = json.load(f)\n",
    "len(tracks)"
   ]
  },
  {
   "cell_type": "markdown",
   "metadata": {},
   "source": [
    "##### select the suitable tracks:"
   ]
  },
  {
   "cell_type": "code",
   "execution_count": 46,
   "metadata": {},
   "outputs": [
    {
     "data": {
      "text/plain": [
       "125"
      ]
     },
     "execution_count": 46,
     "metadata": {},
     "output_type": "execute_result"
    }
   ],
   "source": [
    "tempo_min, tempo_max = 110, 115\n",
    "track_ids = list(df_audio_features[\n",
    "    (df_audio_features['tempo'] >= tempo_min) & \n",
    "    (df_audio_features['tempo'] <= tempo_max) & \n",
    "    (df_audio_features['danceability'] >= 0.85) &\n",
    "    (df_audio_features['liveness'] <= 0.4) &\n",
    "    (df_audio_features['speechiness'] <= 0.33)\n",
    "]['id'])\n",
    "len(track_ids)"
   ]
  },
  {
   "cell_type": "code",
   "execution_count": 47,
   "metadata": {},
   "outputs": [
    {
     "name": "stdout",
     "output_type": "stream",
     "text": [
      "Created new playlist with ID 3PZfQ2NkbDDTEFjjnNMqmZ\n"
     ]
    }
   ],
   "source": [
    "playlist_id, is_new = spotify.get_playlist_by_name(sp, \n",
    "        f\"BPM {tempo_min} - {tempo_max} (Spotify Categories)\", \n",
    "        create_if_none=True)\n",
    "if playlist_id and is_new:\n",
    "    print(f\"Created new playlist with ID {playlist_id}\")\n",
    "elif playlist_id:\n",
    "    print(f\"Found existing playlist with ID {playlist_id}\")\n",
    "else:\n",
    "    print(\"Something went wrong :-(\")"
   ]
  },
  {
   "cell_type": "code",
   "execution_count": 48,
   "metadata": {},
   "outputs": [],
   "source": [
    "sp.user_playlist_change_details(user['id'], playlist_id, public=False,\n",
    "                                description=f\"Categories: {selected_category_ids}\")"
   ]
  },
  {
   "cell_type": "code",
   "execution_count": 49,
   "metadata": {},
   "outputs": [],
   "source": [
    "# add tracks to playlist\n",
    "spotify.add_tracks(sp, playlist_id, track_ids, skip_duplicates=True)"
   ]
  },
  {
   "cell_type": "code",
   "execution_count": null,
   "metadata": {},
   "outputs": [],
   "source": []
  },
  {
   "cell_type": "code",
   "execution_count": 17,
   "metadata": {},
   "outputs": [
    {
     "data": {
      "text/plain": [
       "<matplotlib.axes._subplots.AxesSubplot at 0x7f706b3af8e0>"
      ]
     },
     "execution_count": 17,
     "metadata": {},
     "output_type": "execute_result"
    },
    {
     "data": {
      "image/png": "[encoded data removed]",
      "text/plain": [
       "<Figure size 432x288 with 1 Axes>"
      ]
     },
     "metadata": {
      "needs_background": "light"
     },
     "output_type": "display_data"
    }
   ],
   "source": [
    "max_ids = 50\n",
    "tracks_audio_features = []\n",
    "for i in range(0, len(track_ids), max_ids):\n",
    "    results = sp.audio_features(track_ids[i:i+max_ids])\n",
    "    tracks_audio_features.extend(results)\n",
    "len(tracks_audio_features)\n",
    "df_audio_features = pd.DataFrame(tracks_audio_features)\n",
    "df_audio_features['tempo'].plot.hist()"
   ]
  },
  {
   "cell_type": "code",
   "execution_count": null,
   "metadata": {},
   "outputs": [],
   "source": []
  }
 ],
 "metadata": {
  "kernelspec": {
   "display_name": "Python 3",
   "language": "python",
   "name": "python3"
  },
  "language_info": {
   "codemirror_mode": {
    "name": "ipython",
    "version": 3
   },
   "file_extension": ".py",
   "mimetype": "text/x-python",
   "name": "python",
   "nbconvert_exporter": "python",
   "pygments_lexer": "ipython3",
   "version": "3.7.6"
  }
 },
 "nbformat": 4,
 "nbformat_minor": 4
}
