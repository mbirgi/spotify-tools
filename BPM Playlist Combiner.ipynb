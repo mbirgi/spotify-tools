{
 "cells": [
  {
   "cell_type": "code",
   "execution_count": 1,
   "metadata": {},
   "outputs": [
    {
     "data": {
      "text/plain": [
       "'Mehmet Birgi'"
      ]
     },
     "execution_count": 1,
     "metadata": {},
     "output_type": "execute_result"
    }
   ],
   "source": [
    "import matplotlib.pyplot as plt\n",
    "import pandas as pd\n",
    "\n",
    "import spotify\n",
    "import utils\n",
    "\n",
    "sp = spotify.login(scope='playlist-modify-private')\n",
    "user = sp.current_user()\n",
    "username = user['id']\n",
    "displayName = user['display_name']\n",
    "displayName"
   ]
  },
  {
   "cell_type": "code",
   "execution_count": 2,
   "metadata": {},
   "outputs": [
    {
     "data": {
      "text/plain": [
       "105"
      ]
     },
     "execution_count": 2,
     "metadata": {},
     "output_type": "execute_result"
    }
   ],
   "source": [
    "# get all my playlists \n",
    "response = sp.current_user_playlists()\n",
    "all_playlists = response['items']\n",
    "while response['next']:\n",
    "    response = sp.next(response)\n",
    "    all_playlists.extend(response['items'])\n",
    "len(all_playlists)"
   ]
  },
  {
   "cell_type": "code",
   "execution_count": 3,
   "metadata": {},
   "outputs": [],
   "source": [
    "# save the playlists as a list of dictionaries\n",
    "import json\n",
    "import os\n",
    "folder = 'data'\n",
    "filename = 'all_my_playlists.json'\n",
    "if not os.path.exists(folder):\n",
    "    os.mkdir(folder)\n",
    "with open(os.path.join(folder, filename), 'w', encoding='utf-8') as f:\n",
    "    json.dump(all_playlists, f, ensure_ascii=False, indent=4)"
   ]
  },
  {
   "cell_type": "code",
   "execution_count": 4,
   "metadata": {},
   "outputs": [
    {
     "data": {
      "text/plain": [
       "39144"
      ]
     },
     "execution_count": 4,
     "metadata": {},
     "output_type": "execute_result"
    }
   ],
   "source": [
    "# extract all tracks from playlists\n",
    "playlist_ids = [playlist['id'] for playlist in all_playlists]\n",
    "all_playlist_tracks = [item['track'] for item in spotify.get_tracks_in_playlists(sp, playlist_ids)]\n",
    "len(all_playlist_tracks)"
   ]
  },
  {
   "cell_type": "code",
   "execution_count": 5,
   "metadata": {},
   "outputs": [
    {
     "data": {
      "text/plain": [
       "39144"
      ]
     },
     "execution_count": 5,
     "metadata": {},
     "output_type": "execute_result"
    }
   ],
   "source": [
    "# extract the pertinent information\n",
    "all_tracks = []\n",
    "for track in all_playlist_tracks:\n",
    "    name = track['name']\n",
    "    artists = [{'name': artist['name'], 'id': artist['id']} for artist in track['artists']]\n",
    "    track_id = track['id']\n",
    "    duration_ms = track['duration_ms']\n",
    "    all_tracks.append({\n",
    "        'name': name,\n",
    "        'artists': artists,\n",
    "        'id': track_id,\n",
    "        'duration_ms': duration_ms\n",
    "    })\n",
    "len(all_tracks)"
   ]
  },
  {
   "cell_type": "code",
   "execution_count": 6,
   "metadata": {},
   "outputs": [],
   "source": [
    "# save the tracks\n",
    "import json\n",
    "import os\n",
    "folder = 'data'\n",
    "filename = 'all_my_playlist_tracks.json'\n",
    "if not os.path.exists(folder):\n",
    "    os.mkdir(folder)\n",
    "with open(os.path.join(folder, filename), 'w', encoding='utf-8') as f:\n",
    "    json.dump(all_tracks, f, ensure_ascii=False, indent=4)"
   ]
  },
  {
   "cell_type": "code",
   "execution_count": 7,
   "metadata": {},
   "outputs": [
    {
     "data": {
      "text/plain": [
       "39307"
      ]
     },
     "execution_count": 7,
     "metadata": {},
     "output_type": "execute_result"
    }
   ],
   "source": [
    "# get all 'liked' tracks and add them to the tally\n",
    "results = sp.current_user_saved_tracks(limit=50)\n",
    "saved_tracks = results['items']\n",
    "while results['next']:\n",
    "    results = sp.next(results)\n",
    "    saved_tracks.extend(results['items'])\n",
    "for item in saved_tracks:\n",
    "    name = item['track']['name']\n",
    "    artists = [{'name': artist['name'], 'id': artist['id']} for artist in item['track']['artists']]\n",
    "    track_id = item['track']['id']\n",
    "    duration_ms = item['track']['duration_ms']\n",
    "    all_tracks.append({\n",
    "        'name': name,\n",
    "        'artists': artists,\n",
    "        'id': track_id,\n",
    "        'duration_ms': duration_ms\n",
    "    })\n",
    "len(all_tracks)"
   ]
  },
  {
   "cell_type": "code",
   "execution_count": 8,
   "metadata": {},
   "outputs": [
    {
     "data": {
      "text/plain": [
       "{'name': 'Candlelight',\n",
       " 'artists': [{'name': 'Donald Harrison', 'id': '53pHwg1sjhqGk726JnJHYb'},\n",
       "  {'name': 'Ron Carter', 'id': '4wnzivx3OQ3vjrySAdTdJP'},\n",
       "  {'name': 'Billy Cobham', 'id': '0IwfuIL3gUJxjzUqY3wJ3j'}],\n",
       " 'id': '0YvppvxUQYXPNFF00iYLxz',\n",
       " 'duration_ms': 393293}"
      ]
     },
     "execution_count": 8,
     "metadata": {},
     "output_type": "execute_result"
    }
   ],
   "source": [
    "all_tracks[14458]"
   ]
  },
  {
   "cell_type": "code",
   "execution_count": 9,
   "metadata": {},
   "outputs": [],
   "source": [
    "# get saved album tracks and add them to the tally\n",
    "results = sp.current_user_saved_albums(limit=50)\n",
    "saved_albums = results['items']\n",
    "while results['next']:\n",
    "    results = sp.next(results)\n",
    "    saved_albums.extend(results['items'])\n",
    "len(saved_albums)\n",
    "saved_album_tracks = []\n",
    "for album in saved_albums:\n",
    "    results = sp.album_tracks(album['album']['id'])\n",
    "    album_tracks = results['items']\n",
    "    while results['next']:\n",
    "        results = sp.next(results)\n",
    "        album_tracks.extend(results['items'])\n",
    "    saved_album_tracks.extend(album_tracks)\n",
    "album_tracks = []\n",
    "for track in saved_album_tracks:\n",
    "    name = track['name']\n",
    "    artists = [{'name': artist['name'], 'id': artist['id']} for artist in track['artists']]\n",
    "    track_id = track['id']\n",
    "    duration_ms = track['duration_ms']\n",
    "    album_tracks.append({\n",
    "        'name': name,\n",
    "        'artists': artists,\n",
    "        'id': track_id,\n",
    "        'duration_ms': duration_ms\n",
    "    })\n",
    "all_tracks.extend(album_tracks)"
   ]
  },
  {
   "cell_type": "code",
   "execution_count": 10,
   "metadata": {},
   "outputs": [
    {
     "data": {
      "text/plain": [
       "49079"
      ]
     },
     "execution_count": 10,
     "metadata": {},
     "output_type": "execute_result"
    }
   ],
   "source": [
    "len(all_tracks)"
   ]
  },
  {
   "cell_type": "code",
   "execution_count": 11,
   "metadata": {},
   "outputs": [],
   "source": [
    "# save tracks for later\n",
    "import json\n",
    "import os\n",
    "folder = 'data'\n",
    "filename = 'all_my_tracks.json'\n",
    "if not os.path.exists(folder):\n",
    "    os.mkdir(folder)\n",
    "with open(os.path.join(folder, filename), 'w', encoding='utf-8') as f:\n",
    "    json.dump(all_tracks, f, ensure_ascii=False, indent=4)"
   ]
  },
  {
   "cell_type": "code",
   "execution_count": 12,
   "metadata": {},
   "outputs": [],
   "source": [
    "# read the tracks\n",
    "import json\n",
    "import os\n",
    "folder = 'data'\n",
    "filename = 'all_my_tracks.json'\n",
    "with open(os.path.join(folder, filename), 'r', encoding='utf-8') as f:\n",
    "    all_tracks = json.load(f)"
   ]
  },
  {
   "cell_type": "code",
   "execution_count": 13,
   "metadata": {},
   "outputs": [
    {
     "data": {
      "text/plain": [
       "49079"
      ]
     },
     "execution_count": 13,
     "metadata": {},
     "output_type": "execute_result"
    }
   ],
   "source": [
    "len(all_tracks)"
   ]
  },
  {
   "cell_type": "code",
   "execution_count": 14,
   "metadata": {},
   "outputs": [],
   "source": [
    "# get audio features\n",
    "all_track_ids = [track['id'] for track in all_tracks]\n",
    "audio_features = spotify.get_audio_features_for_tracks(sp, all_track_ids)"
   ]
  },
  {
   "cell_type": "code",
   "execution_count": 15,
   "metadata": {},
   "outputs": [
    {
     "data": {
      "text/plain": [
       "[{'danceability': 0.838,\n",
       "  'energy': 0.764,\n",
       "  'key': 7,\n",
       "  'loudness': -5.076,\n",
       "  'mode': 0,\n",
       "  'speechiness': 0.0586,\n",
       "  'acousticness': 0.0862,\n",
       "  'instrumentalness': 0.000122,\n",
       "  'liveness': 0.0906,\n",
       "  'valence': 0.924,\n",
       "  'tempo': 133.592,\n",
       "  'type': 'audio_features',\n",
       "  'id': '023lag1AgeOf7YChojecRu',\n",
       "  'uri': 'spotify:track:023lag1AgeOf7YChojecRu',\n",
       "  'track_href': 'https://api.spotify.com/v1/tracks/023lag1AgeOf7YChojecRu',\n",
       "  'analysis_url': 'https://api.spotify.com/v1/audio-analysis/023lag1AgeOf7YChojecRu',\n",
       "  'duration_ms': 161240,\n",
       "  'time_signature': 4},\n",
       " {'danceability': 0.79,\n",
       "  'energy': 0.614,\n",
       "  'key': 11,\n",
       "  'loudness': -15.281,\n",
       "  'mode': 1,\n",
       "  'speechiness': 0.0942,\n",
       "  'acousticness': 0.174,\n",
       "  'instrumentalness': 0.497,\n",
       "  'liveness': 0.155,\n",
       "  'valence': 0.387,\n",
       "  'tempo': 111.01,\n",
       "  'type': 'audio_features',\n",
       "  'id': '33eZMP1iybo3VBrJJeMwob',\n",
       "  'uri': 'spotify:track:33eZMP1iybo3VBrJJeMwob',\n",
       "  'track_href': 'https://api.spotify.com/v1/tracks/33eZMP1iybo3VBrJJeMwob',\n",
       "  'analysis_url': 'https://api.spotify.com/v1/audio-analysis/33eZMP1iybo3VBrJJeMwob',\n",
       "  'duration_ms': 367567,\n",
       "  'time_signature': 4}]"
      ]
     },
     "execution_count": 15,
     "metadata": {},
     "output_type": "execute_result"
    }
   ],
   "source": [
    "audio_features[:2]"
   ]
  },
  {
   "cell_type": "code",
   "execution_count": 16,
   "metadata": {},
   "outputs": [
    {
     "data": {
      "text/plain": [
       "49079"
      ]
     },
     "execution_count": 16,
     "metadata": {},
     "output_type": "execute_result"
    }
   ],
   "source": [
    "len(audio_features)"
   ]
  },
  {
   "cell_type": "code",
   "execution_count": 17,
   "metadata": {},
   "outputs": [],
   "source": [
    "# save tracks for later\n",
    "import json\n",
    "import os\n",
    "folder = 'data'\n",
    "filename = 'all_my_tracks_audio_features.json'\n",
    "if not os.path.exists(folder):\n",
    "    os.mkdir(folder)\n",
    "with open(os.path.join(folder, filename), 'w', encoding='utf-8') as f:\n",
    "    json.dump(audio_features, f, ensure_ascii=False, indent=4)"
   ]
  },
  {
   "cell_type": "code",
   "execution_count": 18,
   "metadata": {},
   "outputs": [
    {
     "data": {
      "text/plain": [
       "49079"
      ]
     },
     "execution_count": 18,
     "metadata": {},
     "output_type": "execute_result"
    }
   ],
   "source": [
    "len(audio_features)"
   ]
  },
  {
   "cell_type": "code",
   "execution_count": 19,
   "metadata": {},
   "outputs": [
    {
     "data": {
      "text/plain": [
       "['danceability',\n",
       " 'energy',\n",
       " 'key',\n",
       " 'loudness',\n",
       " 'mode',\n",
       " 'speechiness',\n",
       " 'acousticness',\n",
       " 'instrumentalness',\n",
       " 'liveness',\n",
       " 'valence',\n",
       " 'tempo',\n",
       " 'type',\n",
       " 'id',\n",
       " 'uri',\n",
       " 'track_href',\n",
       " 'analysis_url',\n",
       " 'duration_ms',\n",
       " 'time_signature']"
      ]
     },
     "execution_count": 19,
     "metadata": {},
     "output_type": "execute_result"
    }
   ],
   "source": [
    "list(audio_features[0].keys())"
   ]
  },
  {
   "cell_type": "code",
   "execution_count": 22,
   "metadata": {},
   "outputs": [
    {
     "data": {
      "text/plain": [
       "49073"
      ]
     },
     "execution_count": 22,
     "metadata": {},
     "output_type": "execute_result"
    }
   ],
   "source": [
    "# check for invalid records\n",
    "audio_features = [track for track in audio_features if track is not None]\n",
    "len(audio_features)"
   ]
  },
  {
   "cell_type": "code",
   "execution_count": 23,
   "metadata": {},
   "outputs": [],
   "source": [
    "df_audio_features = pd.DataFrame(audio_features).drop(columns=['type', 'uri', 'track_href', 'analysis_url'])"
   ]
  },
  {
   "cell_type": "code",
   "execution_count": 24,
   "metadata": {},
   "outputs": [
    {
     "data": {
      "text/html": [
       "<div>\n",
       "<style scoped>\n",
       "    .dataframe tbody tr th:only-of-type {\n",
       "        vertical-align: middle;\n",
       "    }\n",
       "\n",
       "    .dataframe tbody tr th {\n",
       "        vertical-align: top;\n",
       "    }\n",
       "\n",
       "    .dataframe thead th {\n",
       "        text-align: right;\n",
       "    }\n",
       "</style>\n",
       "<table border=\"1\" class=\"dataframe\">\n",
       "  <thead>\n",
       "    <tr style=\"text-align: right;\">\n",
       "      <th></th>\n",
       "      <th>danceability</th>\n",
       "      <th>energy</th>\n",
       "      <th>key</th>\n",
       "      <th>loudness</th>\n",
       "      <th>mode</th>\n",
       "      <th>speechiness</th>\n",
       "      <th>acousticness</th>\n",
       "      <th>instrumentalness</th>\n",
       "      <th>liveness</th>\n",
       "      <th>valence</th>\n",
       "      <th>tempo</th>\n",
       "      <th>id</th>\n",
       "      <th>duration_ms</th>\n",
       "      <th>time_signature</th>\n",
       "    </tr>\n",
       "  </thead>\n",
       "  <tbody>\n",
       "    <tr>\n",
       "      <th>0</th>\n",
       "      <td>0.838</td>\n",
       "      <td>0.764</td>\n",
       "      <td>7</td>\n",
       "      <td>-5.076</td>\n",
       "      <td>0</td>\n",
       "      <td>0.0586</td>\n",
       "      <td>0.0862</td>\n",
       "      <td>0.000122</td>\n",
       "      <td>0.0906</td>\n",
       "      <td>0.9240</td>\n",
       "      <td>133.592</td>\n",
       "      <td>023lag1AgeOf7YChojecRu</td>\n",
       "      <td>161240</td>\n",
       "      <td>4</td>\n",
       "    </tr>\n",
       "    <tr>\n",
       "      <th>1</th>\n",
       "      <td>0.790</td>\n",
       "      <td>0.614</td>\n",
       "      <td>11</td>\n",
       "      <td>-15.281</td>\n",
       "      <td>1</td>\n",
       "      <td>0.0942</td>\n",
       "      <td>0.1740</td>\n",
       "      <td>0.497000</td>\n",
       "      <td>0.1550</td>\n",
       "      <td>0.3870</td>\n",
       "      <td>111.010</td>\n",
       "      <td>33eZMP1iybo3VBrJJeMwob</td>\n",
       "      <td>367567</td>\n",
       "      <td>4</td>\n",
       "    </tr>\n",
       "    <tr>\n",
       "      <th>2</th>\n",
       "      <td>0.909</td>\n",
       "      <td>0.407</td>\n",
       "      <td>6</td>\n",
       "      <td>-8.258</td>\n",
       "      <td>0</td>\n",
       "      <td>0.0669</td>\n",
       "      <td>0.1850</td>\n",
       "      <td>0.000000</td>\n",
       "      <td>0.0757</td>\n",
       "      <td>0.5080</td>\n",
       "      <td>109.983</td>\n",
       "      <td>6N3KdEz4JPwHp6kfMdy1i9</td>\n",
       "      <td>187704</td>\n",
       "      <td>4</td>\n",
       "    </tr>\n",
       "    <tr>\n",
       "      <th>3</th>\n",
       "      <td>0.212</td>\n",
       "      <td>0.376</td>\n",
       "      <td>1</td>\n",
       "      <td>-34.734</td>\n",
       "      <td>1</td>\n",
       "      <td>0.0523</td>\n",
       "      <td>0.9660</td>\n",
       "      <td>0.645000</td>\n",
       "      <td>0.1100</td>\n",
       "      <td>0.0686</td>\n",
       "      <td>74.809</td>\n",
       "      <td>42o4C7nCvWDzZlwzojupL9</td>\n",
       "      <td>122328</td>\n",
       "      <td>3</td>\n",
       "    </tr>\n",
       "    <tr>\n",
       "      <th>4</th>\n",
       "      <td>0.579</td>\n",
       "      <td>0.661</td>\n",
       "      <td>0</td>\n",
       "      <td>-7.775</td>\n",
       "      <td>0</td>\n",
       "      <td>0.0357</td>\n",
       "      <td>0.0190</td>\n",
       "      <td>0.002160</td>\n",
       "      <td>0.1030</td>\n",
       "      <td>0.2050</td>\n",
       "      <td>134.036</td>\n",
       "      <td>2Qg0jbBO58hytXlhpaSeeB</td>\n",
       "      <td>173880</td>\n",
       "      <td>4</td>\n",
       "    </tr>\n",
       "    <tr>\n",
       "      <th>...</th>\n",
       "      <td>...</td>\n",
       "      <td>...</td>\n",
       "      <td>...</td>\n",
       "      <td>...</td>\n",
       "      <td>...</td>\n",
       "      <td>...</td>\n",
       "      <td>...</td>\n",
       "      <td>...</td>\n",
       "      <td>...</td>\n",
       "      <td>...</td>\n",
       "      <td>...</td>\n",
       "      <td>...</td>\n",
       "      <td>...</td>\n",
       "      <td>...</td>\n",
       "    </tr>\n",
       "    <tr>\n",
       "      <th>49068</th>\n",
       "      <td>0.474</td>\n",
       "      <td>0.575</td>\n",
       "      <td>5</td>\n",
       "      <td>-9.952</td>\n",
       "      <td>1</td>\n",
       "      <td>0.0980</td>\n",
       "      <td>0.1750</td>\n",
       "      <td>0.000000</td>\n",
       "      <td>0.1880</td>\n",
       "      <td>0.7730</td>\n",
       "      <td>184.832</td>\n",
       "      <td>5EPJ4Vg1AkcOcLi0c6xWMG</td>\n",
       "      <td>239640</td>\n",
       "      <td>4</td>\n",
       "    </tr>\n",
       "    <tr>\n",
       "      <th>49069</th>\n",
       "      <td>0.749</td>\n",
       "      <td>0.439</td>\n",
       "      <td>9</td>\n",
       "      <td>-14.898</td>\n",
       "      <td>1</td>\n",
       "      <td>0.0289</td>\n",
       "      <td>0.6490</td>\n",
       "      <td>0.113000</td>\n",
       "      <td>0.0875</td>\n",
       "      <td>0.5750</td>\n",
       "      <td>123.203</td>\n",
       "      <td>4mpnyBVLtkRpvDVodedXeQ</td>\n",
       "      <td>222107</td>\n",
       "      <td>4</td>\n",
       "    </tr>\n",
       "    <tr>\n",
       "      <th>49070</th>\n",
       "      <td>0.487</td>\n",
       "      <td>0.138</td>\n",
       "      <td>0</td>\n",
       "      <td>-10.839</td>\n",
       "      <td>1</td>\n",
       "      <td>0.0379</td>\n",
       "      <td>0.7490</td>\n",
       "      <td>0.000028</td>\n",
       "      <td>0.1060</td>\n",
       "      <td>0.2330</td>\n",
       "      <td>121.062</td>\n",
       "      <td>1mkLqKwhZYU9z7CZQSaxW3</td>\n",
       "      <td>214000</td>\n",
       "      <td>4</td>\n",
       "    </tr>\n",
       "    <tr>\n",
       "      <th>49071</th>\n",
       "      <td>0.688</td>\n",
       "      <td>0.886</td>\n",
       "      <td>2</td>\n",
       "      <td>-11.154</td>\n",
       "      <td>1</td>\n",
       "      <td>0.0607</td>\n",
       "      <td>0.2820</td>\n",
       "      <td>0.002290</td>\n",
       "      <td>0.1620</td>\n",
       "      <td>0.5980</td>\n",
       "      <td>136.482</td>\n",
       "      <td>6FUMP0fyzWqhA3O64ap4o4</td>\n",
       "      <td>196933</td>\n",
       "      <td>4</td>\n",
       "    </tr>\n",
       "    <tr>\n",
       "      <th>49072</th>\n",
       "      <td>0.614</td>\n",
       "      <td>0.518</td>\n",
       "      <td>10</td>\n",
       "      <td>-11.202</td>\n",
       "      <td>1</td>\n",
       "      <td>0.1850</td>\n",
       "      <td>0.3570</td>\n",
       "      <td>0.000002</td>\n",
       "      <td>0.5710</td>\n",
       "      <td>0.8750</td>\n",
       "      <td>116.160</td>\n",
       "      <td>3PMcBrDbT8LCUjlNPx7Gp3</td>\n",
       "      <td>114200</td>\n",
       "      <td>4</td>\n",
       "    </tr>\n",
       "  </tbody>\n",
       "</table>\n",
       "<p>49073 rows × 14 columns</p>\n",
       "</div>"
      ],
      "text/plain": [
       "       danceability  energy  key  loudness  mode  speechiness  acousticness  \\\n",
       "0             0.838   0.764    7    -5.076     0       0.0586        0.0862   \n",
       "1             0.790   0.614   11   -15.281     1       0.0942        0.1740   \n",
       "2             0.909   0.407    6    -8.258     0       0.0669        0.1850   \n",
       "3             0.212   0.376    1   -34.734     1       0.0523        0.9660   \n",
       "4             0.579   0.661    0    -7.775     0       0.0357        0.0190   \n",
       "...             ...     ...  ...       ...   ...          ...           ...   \n",
       "49068         0.474   0.575    5    -9.952     1       0.0980        0.1750   \n",
       "49069         0.749   0.439    9   -14.898     1       0.0289        0.6490   \n",
       "49070         0.487   0.138    0   -10.839     1       0.0379        0.7490   \n",
       "49071         0.688   0.886    2   -11.154     1       0.0607        0.2820   \n",
       "49072         0.614   0.518   10   -11.202     1       0.1850        0.3570   \n",
       "\n",
       "       instrumentalness  liveness  valence    tempo                      id  \\\n",
       "0              0.000122    0.0906   0.9240  133.592  023lag1AgeOf7YChojecRu   \n",
       "1              0.497000    0.1550   0.3870  111.010  33eZMP1iybo3VBrJJeMwob   \n",
       "2              0.000000    0.0757   0.5080  109.983  6N3KdEz4JPwHp6kfMdy1i9   \n",
       "3              0.645000    0.1100   0.0686   74.809  42o4C7nCvWDzZlwzojupL9   \n",
       "4              0.002160    0.1030   0.2050  134.036  2Qg0jbBO58hytXlhpaSeeB   \n",
       "...                 ...       ...      ...      ...                     ...   \n",
       "49068          0.000000    0.1880   0.7730  184.832  5EPJ4Vg1AkcOcLi0c6xWMG   \n",
       "49069          0.113000    0.0875   0.5750  123.203  4mpnyBVLtkRpvDVodedXeQ   \n",
       "49070          0.000028    0.1060   0.2330  121.062  1mkLqKwhZYU9z7CZQSaxW3   \n",
       "49071          0.002290    0.1620   0.5980  136.482  6FUMP0fyzWqhA3O64ap4o4   \n",
       "49072          0.000002    0.5710   0.8750  116.160  3PMcBrDbT8LCUjlNPx7Gp3   \n",
       "\n",
       "       duration_ms  time_signature  \n",
       "0           161240               4  \n",
       "1           367567               4  \n",
       "2           187704               4  \n",
       "3           122328               3  \n",
       "4           173880               4  \n",
       "...            ...             ...  \n",
       "49068       239640               4  \n",
       "49069       222107               4  \n",
       "49070       214000               4  \n",
       "49071       196933               4  \n",
       "49072       114200               4  \n",
       "\n",
       "[49073 rows x 14 columns]"
      ]
     },
     "execution_count": 24,
     "metadata": {},
     "output_type": "execute_result"
    }
   ],
   "source": [
    "df_audio_features"
   ]
  },
  {
   "cell_type": "markdown",
   "metadata": {},
   "source": [
    "##### select the suitable tracks:"
   ]
  },
  {
   "cell_type": "code",
   "execution_count": 40,
   "metadata": {},
   "outputs": [
    {
     "data": {
      "text/plain": [
       "129"
      ]
     },
     "execution_count": 40,
     "metadata": {},
     "output_type": "execute_result"
    }
   ],
   "source": [
    "tempo_min, tempo_max = 135, 140\n",
    "track_ids = set(df_audio_features[\n",
    "    (df_audio_features['tempo'] >= tempo_min) & \n",
    "    (df_audio_features['tempo'] <= tempo_max) & \n",
    "    (df_audio_features['danceability'] >= 0.8) &\n",
    "    (df_audio_features['liveness'] <= 0.4) &\n",
    "    (df_audio_features['speechiness'] <= 0.33)\n",
    "]['id'])\n",
    "len(track_ids)"
   ]
  },
  {
   "cell_type": "code",
   "execution_count": 41,
   "metadata": {},
   "outputs": [
    {
     "name": "stdout",
     "output_type": "stream",
     "text": [
      "Created new playlist with ID 17EMIHwiUWgULJUBlqBCU6\n"
     ]
    }
   ],
   "source": [
    "playlist_id, is_new = spotify.get_playlist_by_name(sp, \n",
    "        f\"BPM {tempo_min} - {tempo_max} All Tracks\", \n",
    "        create_if_none=True)\n",
    "if playlist_id and is_new:\n",
    "    print(f\"Created new playlist with ID {playlist_id}\")\n",
    "elif playlist_id:\n",
    "    print(f\"Found existing playlist with ID {playlist_id}\")\n",
    "else:\n",
    "    print(\"Something went wrong :-(\")"
   ]
  },
  {
   "cell_type": "code",
   "execution_count": 42,
   "metadata": {},
   "outputs": [],
   "source": [
    "spotify.add_tracks(sp, playlist_id, track_ids)"
   ]
  },
  {
   "cell_type": "code",
   "execution_count": null,
   "metadata": {},
   "outputs": [],
   "source": []
  },
  {
   "cell_type": "code",
   "execution_count": null,
   "metadata": {},
   "outputs": [],
   "source": []
  },
  {
   "cell_type": "code",
   "execution_count": 63,
   "metadata": {},
   "outputs": [
    {
     "data": {
      "text/plain": [
       "<matplotlib.axes._subplots.AxesSubplot at 0x12202d490>"
      ]
     },
     "execution_count": 63,
     "metadata": {},
     "output_type": "execute_result"
    },
    {
     "data": {
      "image/png": "[encoded data removed]",
      "text/plain": [
       "<Figure size 432x288 with 1 Axes>"
      ]
     },
     "metadata": {
      "needs_background": "light"
     },
     "output_type": "display_data"
    }
   ],
   "source": [
    "max_ids = 50\n",
    "tracks_audio_features = []\n",
    "track_ids = list(track_ids)\n",
    "for i in range(0, len(track_ids), max_ids):\n",
    "    results = sp.audio_features(track_ids[i:i+max_ids])\n",
    "    tracks_audio_features.extend(results)\n",
    "len(tracks_audio_features)\n",
    "df_audio_features = pd.DataFrame(tracks_audio_features)\n",
    "df_audio_features['tempo'].plot.hist()"
   ]
  }
 ],
 "metadata": {
  "kernelspec": {
   "display_name": "Python 3",
   "language": "python",
   "name": "python3"
  },
  "language_info": {
   "codemirror_mode": {
    "name": "ipython",
    "version": 3
   },
   "file_extension": ".py",
   "mimetype": "text/x-python",
   "name": "python",
   "nbconvert_exporter": "python",
   "pygments_lexer": "ipython3",
   "version": "3.7.6"
  }
 },
 "nbformat": 4,
 "nbformat_minor": 4
}
