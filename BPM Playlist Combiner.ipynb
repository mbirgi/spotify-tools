{
 "cells": [
  {
   "cell_type": "code",
   "execution_count": 4,
   "metadata": {},
   "outputs": [
    {
     "data": {
      "text/plain": [
       "'Mehmet Birgi'"
      ]
     },
     "execution_count": 4,
     "metadata": {},
     "output_type": "execute_result"
    }
   ],
   "source": [
    "import matplotlib.pyplot as plt\n",
    "import pandas as pd\n",
    "\n",
    "import spotify\n",
    "import utils\n",
    "\n",
    "sp = spotify.login(scope='playlist-modify-private')\n",
    "user = sp.current_user()\n",
    "username = user['id']\n",
    "displayName = user['display_name']\n",
    "displayName"
   ]
  },
  {
   "cell_type": "code",
   "execution_count": 2,
   "metadata": {},
   "outputs": [
    {
     "data": {
      "text/plain": [
       "90"
      ]
     },
     "execution_count": 2,
     "metadata": {},
     "output_type": "execute_result"
    }
   ],
   "source": [
    "# get all my playlists \n",
    "response = sp.current_user_playlists()\n",
    "all_playlists = response['items']\n",
    "while response['next']:\n",
    "    response = sp.next(response)\n",
    "    all_playlists.extend(response['items'])\n",
    "len(all_playlists)"
   ]
  },
  {
   "cell_type": "code",
   "execution_count": 3,
   "metadata": {},
   "outputs": [],
   "source": [
    "# save the playlists as a list of dictionaries\n",
    "import json\n",
    "import os\n",
    "folder = 'data'\n",
    "filename = 'all_my_playlists.json'\n",
    "if not os.path.exists(folder):\n",
    "    os.mkdir(folder)\n",
    "with open(os.path.join(folder, filename), 'w', encoding='utf-8') as f:\n",
    "    json.dump(all_playlists, f, ensure_ascii=False, indent=4)"
   ]
  },
  {
   "cell_type": "code",
   "execution_count": 4,
   "metadata": {},
   "outputs": [
    {
     "data": {
      "text/plain": [
       "14990"
      ]
     },
     "execution_count": 4,
     "metadata": {},
     "output_type": "execute_result"
    }
   ],
   "source": [
    "# extract all tracks from playlists\n",
    "playlist_ids = [playlist['id'] for playlist in all_playlists]\n",
    "all_playlist_tracks = [item['track'] for item in spotify.get_tracks_in_playlists(sp, playlist_ids)]\n",
    "len(all_playlist_tracks)"
   ]
  },
  {
   "cell_type": "code",
   "execution_count": 5,
   "metadata": {},
   "outputs": [
    {
     "data": {
      "text/plain": [
       "14990"
      ]
     },
     "execution_count": 5,
     "metadata": {},
     "output_type": "execute_result"
    }
   ],
   "source": [
    "# extract the pertinent information\n",
    "all_tracks = []\n",
    "for track in all_playlist_tracks:\n",
    "    name = track['name']\n",
    "    artists = [{'name': artist['name'], 'id': artist['id']} for artist in track['artists']]\n",
    "    track_id = track['id']\n",
    "    duration_ms = track['duration_ms']\n",
    "    all_tracks.append({\n",
    "        'name': name,\n",
    "        'artists': artists,\n",
    "        'id': track_id,\n",
    "        'duration_ms': duration_ms\n",
    "    })\n",
    "len(all_tracks)"
   ]
  },
  {
   "cell_type": "code",
   "execution_count": 6,
   "metadata": {},
   "outputs": [],
   "source": [
    "# save the tracks\n",
    "import json\n",
    "import os\n",
    "folder = 'data'\n",
    "filename = 'all_my_playlist_tracks.json'\n",
    "if not os.path.exists(folder):\n",
    "    os.mkdir(folder)\n",
    "with open(os.path.join(folder, filename), 'w', encoding='utf-8') as f:\n",
    "    json.dump(all_tracks, f, ensure_ascii=False, indent=4)"
   ]
  },
  {
   "cell_type": "code",
   "execution_count": 7,
   "metadata": {},
   "outputs": [
    {
     "data": {
      "text/plain": [
       "15151"
      ]
     },
     "execution_count": 7,
     "metadata": {},
     "output_type": "execute_result"
    }
   ],
   "source": [
    "# get all 'liked' tracks and add them to the tally\n",
    "results = sp.current_user_saved_tracks(limit=50)\n",
    "saved_tracks = results['items']\n",
    "while results['next']:\n",
    "    results = sp.next(results)\n",
    "    saved_tracks.extend(results['items'])\n",
    "for item in saved_tracks:\n",
    "    name = item['track']['name']\n",
    "    artists = [{'name': artist['name'], 'id': artist['id']} for artist in item['track']['artists']]\n",
    "    track_id = item['track']['id']\n",
    "    duration_ms = item['track']['duration_ms']\n",
    "    all_tracks.append({\n",
    "        'name': name,\n",
    "        'artists': artists,\n",
    "        'id': track_id,\n",
    "        'duration_ms': duration_ms\n",
    "    })\n",
    "len(all_tracks)"
   ]
  },
  {
   "cell_type": "code",
   "execution_count": 36,
   "metadata": {},
   "outputs": [
    {
     "data": {
      "text/plain": [
       "{'name': '(Man Oh Man) I Want To Go Back',\n",
       " 'artists': [{'name': 'The Impressions', 'id': '1b1N51wmSK0ckxFAMPSSHO'}],\n",
       " 'id': '2AZgCOwFyIk6d7JH591VoR',\n",
       " 'duration_ms': 185866}"
      ]
     },
     "execution_count": 36,
     "metadata": {},
     "output_type": "execute_result"
    }
   ],
   "source": [
    "all_tracks[14458]"
   ]
  },
  {
   "cell_type": "code",
   "execution_count": 46,
   "metadata": {},
   "outputs": [
    {
     "name": "stdout",
     "output_type": "stream",
     "text": [
      "...\n",
      "...\n",
      "...\n",
      "...\n",
      "...\n",
      "...\n",
      "...\n",
      "...\n",
      "...\n",
      "...\n",
      "...\n",
      "...\n",
      "...\n",
      "...\n"
     ]
    },
    {
     "data": {
      "text/plain": [
       "743"
      ]
     },
     "execution_count": 46,
     "metadata": {},
     "output_type": "execute_result"
    }
   ],
   "source": [
    "# get saved album tracks and add them to the tally\n",
    "results = sp.current_user_saved_albums(limit=50)\n",
    "saved_albums = results['items']\n",
    "while results['next']:\n",
    "    results = sp.next(results)\n",
    "    saved_albums.extend(results['items'])\n",
    "len(saved_albums)\n",
    "saved_album_tracks = []\n",
    "for album in saved_albums:\n",
    "    results = sp.album_tracks(album['album']['id'])\n",
    "    album_tracks = results['items']\n",
    "    while results['next']:\n",
    "        results = sp.next(results)\n",
    "        album_tracks.extend(results['items'])\n",
    "    saved_album_tracks.extend(album_tracks)\n",
    "album_tracks = []\n",
    "for track in saved_album_tracks:\n",
    "    name = track['name']\n",
    "    artists = [{'name': artist['name'], 'id': artist['id']} for artist in track['artists']]\n",
    "    track_id = track['id']\n",
    "    duration_ms = track['duration_ms']\n",
    "    album_tracks.append({\n",
    "        'name': name,\n",
    "        'artists': artists,\n",
    "        'id': track_id,\n",
    "        'duration_ms': duration_ms\n",
    "    })\n",
    "all_tracks.extend(album_tracks)"
   ]
  },
  {
   "cell_type": "code",
   "execution_count": 59,
   "metadata": {},
   "outputs": [
    {
     "data": {
      "text/plain": [
       "24228"
      ]
     },
     "execution_count": 59,
     "metadata": {},
     "output_type": "execute_result"
    }
   ],
   "source": [
    "len(all_tracks)"
   ]
  },
  {
   "cell_type": "code",
   "execution_count": 60,
   "metadata": {},
   "outputs": [],
   "source": [
    "# save tracks for later\n",
    "import json\n",
    "import os\n",
    "folder = 'data'\n",
    "filename = 'all_my_tracks.json'\n",
    "if not os.path.exists(folder):\n",
    "    os.mkdir(folder)\n",
    "with open(os.path.join(folder, filename), 'w', encoding='utf-8') as f:\n",
    "    json.dump(all_tracks, f, ensure_ascii=False, indent=4)"
   ]
  },
  {
   "cell_type": "code",
   "execution_count": 1,
   "metadata": {},
   "outputs": [],
   "source": [
    "# read the tracks\n",
    "import json\n",
    "import os\n",
    "folder = 'data'\n",
    "filename = 'all_my_tracks.json'\n",
    "with open(os.path.join(folder, filename), 'r', encoding='utf-8') as f:\n",
    "    all_tracks = json.load(f)"
   ]
  },
  {
   "cell_type": "code",
   "execution_count": 2,
   "metadata": {},
   "outputs": [
    {
     "data": {
      "text/plain": [
       "24228"
      ]
     },
     "execution_count": 2,
     "metadata": {},
     "output_type": "execute_result"
    }
   ],
   "source": [
    "len(all_tracks)"
   ]
  },
  {
   "cell_type": "code",
   "execution_count": 5,
   "metadata": {},
   "outputs": [],
   "source": [
    "# get audio features\n",
    "all_track_ids = [track['id'] for track in all_tracks]\n",
    "audio_features = spotify.get_audio_features_for_tracks(sp, all_track_ids)"
   ]
  },
  {
   "cell_type": "code",
   "execution_count": 6,
   "metadata": {},
   "outputs": [
    {
     "data": {
      "text/plain": [
       "[{'danceability': 0.805,\n",
       "  'energy': 0.596,\n",
       "  'key': 2,\n",
       "  'loudness': -8.204,\n",
       "  'mode': 1,\n",
       "  'speechiness': 0.211,\n",
       "  'acousticness': 0.28,\n",
       "  'instrumentalness': 0.00016,\n",
       "  'liveness': 0.146,\n",
       "  'valence': 0.663,\n",
       "  'tempo': 97.053,\n",
       "  'type': 'audio_features',\n",
       "  'id': '7DT6KqAWW8fHJfWuHddxPt',\n",
       "  'uri': 'spotify:track:7DT6KqAWW8fHJfWuHddxPt',\n",
       "  'track_href': 'https://api.spotify.com/v1/tracks/7DT6KqAWW8fHJfWuHddxPt',\n",
       "  'analysis_url': 'https://api.spotify.com/v1/audio-analysis/7DT6KqAWW8fHJfWuHddxPt',\n",
       "  'duration_ms': 182773,\n",
       "  'time_signature': 4},\n",
       " {'danceability': 0.724,\n",
       "  'energy': 0.902,\n",
       "  'key': 9,\n",
       "  'loudness': -5.62,\n",
       "  'mode': 0,\n",
       "  'speechiness': 0.153,\n",
       "  'acousticness': 0.176,\n",
       "  'instrumentalness': 0.000208,\n",
       "  'liveness': 0.104,\n",
       "  'valence': 0.735,\n",
       "  'tempo': 122.435,\n",
       "  'type': 'audio_features',\n",
       "  'id': '6izZJJsAFod5XAivYYtf9r',\n",
       "  'uri': 'spotify:track:6izZJJsAFod5XAivYYtf9r',\n",
       "  'track_href': 'https://api.spotify.com/v1/tracks/6izZJJsAFod5XAivYYtf9r',\n",
       "  'analysis_url': 'https://api.spotify.com/v1/audio-analysis/6izZJJsAFod5XAivYYtf9r',\n",
       "  'duration_ms': 186800,\n",
       "  'time_signature': 4}]"
      ]
     },
     "execution_count": 6,
     "metadata": {},
     "output_type": "execute_result"
    }
   ],
   "source": [
    "audio_features[:2]"
   ]
  },
  {
   "cell_type": "code",
   "execution_count": 7,
   "metadata": {},
   "outputs": [
    {
     "data": {
      "text/plain": [
       "24228"
      ]
     },
     "execution_count": 7,
     "metadata": {},
     "output_type": "execute_result"
    }
   ],
   "source": [
    "len(audio_features)"
   ]
  },
  {
   "cell_type": "code",
   "execution_count": 8,
   "metadata": {},
   "outputs": [],
   "source": [
    "# save tracks for later\n",
    "import json\n",
    "import os\n",
    "folder = 'data'\n",
    "filename = 'all_my_tracks_audio_features.json'\n",
    "if not os.path.exists(folder):\n",
    "    os.mkdir(folder)\n",
    "with open(os.path.join(folder, filename), 'w', encoding='utf-8') as f:\n",
    "    json.dump(audio_features, f, ensure_ascii=False, indent=4)"
   ]
  },
  {
   "cell_type": "code",
   "execution_count": 9,
   "metadata": {},
   "outputs": [
    {
     "data": {
      "text/plain": [
       "24228"
      ]
     },
     "execution_count": 9,
     "metadata": {},
     "output_type": "execute_result"
    }
   ],
   "source": [
    "len(audio_features)"
   ]
  },
  {
   "cell_type": "code",
   "execution_count": 10,
   "metadata": {},
   "outputs": [
    {
     "data": {
      "text/plain": [
       "['danceability',\n",
       " 'energy',\n",
       " 'key',\n",
       " 'loudness',\n",
       " 'mode',\n",
       " 'speechiness',\n",
       " 'acousticness',\n",
       " 'instrumentalness',\n",
       " 'liveness',\n",
       " 'valence',\n",
       " 'tempo',\n",
       " 'type',\n",
       " 'id',\n",
       " 'uri',\n",
       " 'track_href',\n",
       " 'analysis_url',\n",
       " 'duration_ms',\n",
       " 'time_signature']"
      ]
     },
     "execution_count": 10,
     "metadata": {},
     "output_type": "execute_result"
    }
   ],
   "source": [
    "list(audio_features[0].keys())"
   ]
  },
  {
   "cell_type": "code",
   "execution_count": 14,
   "metadata": {},
   "outputs": [
    {
     "data": {
      "text/plain": [
       "[{'danceability': 0.798,\n",
       "  'energy': 0.119,\n",
       "  'key': 0,\n",
       "  'loudness': -13.838,\n",
       "  'mode': 0,\n",
       "  'speechiness': 0.0551,\n",
       "  'acousticness': 0.631,\n",
       "  'instrumentalness': 0.743,\n",
       "  'liveness': 0.125,\n",
       "  'valence': 0.46,\n",
       "  'tempo': 88.019,\n",
       "  'type': 'audio_features',\n",
       "  'id': '1SHW5GLmrJ3PbR5Cbip24V',\n",
       "  'uri': 'spotify:track:1SHW5GLmrJ3PbR5Cbip24V',\n",
       "  'track_href': 'https://api.spotify.com/v1/tracks/1SHW5GLmrJ3PbR5Cbip24V',\n",
       "  'analysis_url': 'https://api.spotify.com/v1/audio-analysis/1SHW5GLmrJ3PbR5Cbip24V',\n",
       "  'duration_ms': 198858,\n",
       "  'time_signature': 4},\n",
       " None]"
      ]
     },
     "execution_count": 14,
     "metadata": {},
     "output_type": "execute_result"
    }
   ],
   "source": [
    "audio_features[2354:2356]"
   ]
  },
  {
   "cell_type": "code",
   "execution_count": 15,
   "metadata": {},
   "outputs": [],
   "source": [
    "audio_features.pop(2355)  # for some reason, this element is invalid"
   ]
  },
  {
   "cell_type": "code",
   "execution_count": 16,
   "metadata": {},
   "outputs": [],
   "source": [
    "df_audio_features = pd.DataFrame(audio_features).drop(columns=['type', 'uri', 'track_href', 'analysis_url'])"
   ]
  },
  {
   "cell_type": "code",
   "execution_count": 17,
   "metadata": {},
   "outputs": [
    {
     "data": {
      "text/html": [
       "<div>\n",
       "<style scoped>\n",
       "    .dataframe tbody tr th:only-of-type {\n",
       "        vertical-align: middle;\n",
       "    }\n",
       "\n",
       "    .dataframe tbody tr th {\n",
       "        vertical-align: top;\n",
       "    }\n",
       "\n",
       "    .dataframe thead th {\n",
       "        text-align: right;\n",
       "    }\n",
       "</style>\n",
       "<table border=\"1\" class=\"dataframe\">\n",
       "  <thead>\n",
       "    <tr style=\"text-align: right;\">\n",
       "      <th></th>\n",
       "      <th>danceability</th>\n",
       "      <th>energy</th>\n",
       "      <th>key</th>\n",
       "      <th>loudness</th>\n",
       "      <th>mode</th>\n",
       "      <th>speechiness</th>\n",
       "      <th>acousticness</th>\n",
       "      <th>instrumentalness</th>\n",
       "      <th>liveness</th>\n",
       "      <th>valence</th>\n",
       "      <th>tempo</th>\n",
       "      <th>id</th>\n",
       "      <th>duration_ms</th>\n",
       "      <th>time_signature</th>\n",
       "    </tr>\n",
       "  </thead>\n",
       "  <tbody>\n",
       "    <tr>\n",
       "      <th>0</th>\n",
       "      <td>0.805</td>\n",
       "      <td>0.596</td>\n",
       "      <td>2</td>\n",
       "      <td>-8.204</td>\n",
       "      <td>1</td>\n",
       "      <td>0.2110</td>\n",
       "      <td>0.2800</td>\n",
       "      <td>0.000160</td>\n",
       "      <td>0.146</td>\n",
       "      <td>0.663</td>\n",
       "      <td>97.053</td>\n",
       "      <td>7DT6KqAWW8fHJfWuHddxPt</td>\n",
       "      <td>182773</td>\n",
       "      <td>4</td>\n",
       "    </tr>\n",
       "    <tr>\n",
       "      <th>1</th>\n",
       "      <td>0.724</td>\n",
       "      <td>0.902</td>\n",
       "      <td>9</td>\n",
       "      <td>-5.620</td>\n",
       "      <td>0</td>\n",
       "      <td>0.1530</td>\n",
       "      <td>0.1760</td>\n",
       "      <td>0.000208</td>\n",
       "      <td>0.104</td>\n",
       "      <td>0.735</td>\n",
       "      <td>122.435</td>\n",
       "      <td>6izZJJsAFod5XAivYYtf9r</td>\n",
       "      <td>186800</td>\n",
       "      <td>4</td>\n",
       "    </tr>\n",
       "    <tr>\n",
       "      <th>2</th>\n",
       "      <td>0.604</td>\n",
       "      <td>0.716</td>\n",
       "      <td>6</td>\n",
       "      <td>-6.772</td>\n",
       "      <td>0</td>\n",
       "      <td>0.1310</td>\n",
       "      <td>0.3310</td>\n",
       "      <td>0.000169</td>\n",
       "      <td>0.295</td>\n",
       "      <td>0.655</td>\n",
       "      <td>134.169</td>\n",
       "      <td>5rMw53xSX8BvYiZPRVQ8he</td>\n",
       "      <td>359093</td>\n",
       "      <td>4</td>\n",
       "    </tr>\n",
       "    <tr>\n",
       "      <th>3</th>\n",
       "      <td>0.372</td>\n",
       "      <td>0.892</td>\n",
       "      <td>5</td>\n",
       "      <td>-9.444</td>\n",
       "      <td>1</td>\n",
       "      <td>0.1170</td>\n",
       "      <td>0.0943</td>\n",
       "      <td>0.000107</td>\n",
       "      <td>0.358</td>\n",
       "      <td>0.573</td>\n",
       "      <td>165.185</td>\n",
       "      <td>5AU95bRMkW5QKaBSEUjnJo</td>\n",
       "      <td>207160</td>\n",
       "      <td>4</td>\n",
       "    </tr>\n",
       "    <tr>\n",
       "      <th>4</th>\n",
       "      <td>0.815</td>\n",
       "      <td>0.468</td>\n",
       "      <td>7</td>\n",
       "      <td>-10.458</td>\n",
       "      <td>1</td>\n",
       "      <td>0.2420</td>\n",
       "      <td>0.1260</td>\n",
       "      <td>0.502000</td>\n",
       "      <td>0.266</td>\n",
       "      <td>0.803</td>\n",
       "      <td>138.375</td>\n",
       "      <td>5LwcW7X6wZAHMnMuztJWem</td>\n",
       "      <td>186333</td>\n",
       "      <td>4</td>\n",
       "    </tr>\n",
       "    <tr>\n",
       "      <th>...</th>\n",
       "      <td>...</td>\n",
       "      <td>...</td>\n",
       "      <td>...</td>\n",
       "      <td>...</td>\n",
       "      <td>...</td>\n",
       "      <td>...</td>\n",
       "      <td>...</td>\n",
       "      <td>...</td>\n",
       "      <td>...</td>\n",
       "      <td>...</td>\n",
       "      <td>...</td>\n",
       "      <td>...</td>\n",
       "      <td>...</td>\n",
       "      <td>...</td>\n",
       "    </tr>\n",
       "    <tr>\n",
       "      <th>24222</th>\n",
       "      <td>0.553</td>\n",
       "      <td>0.713</td>\n",
       "      <td>5</td>\n",
       "      <td>-7.439</td>\n",
       "      <td>0</td>\n",
       "      <td>0.0547</td>\n",
       "      <td>0.7180</td>\n",
       "      <td>0.048100</td>\n",
       "      <td>0.298</td>\n",
       "      <td>0.919</td>\n",
       "      <td>122.472</td>\n",
       "      <td>2luQt6tGMTuN2gtDkLW5d9</td>\n",
       "      <td>154133</td>\n",
       "      <td>4</td>\n",
       "    </tr>\n",
       "    <tr>\n",
       "      <th>24223</th>\n",
       "      <td>0.401</td>\n",
       "      <td>0.534</td>\n",
       "      <td>7</td>\n",
       "      <td>-6.718</td>\n",
       "      <td>0</td>\n",
       "      <td>0.0575</td>\n",
       "      <td>0.8580</td>\n",
       "      <td>0.006420</td>\n",
       "      <td>0.514</td>\n",
       "      <td>0.644</td>\n",
       "      <td>176.344</td>\n",
       "      <td>72olRIwfBeJnXnDaaHLfDd</td>\n",
       "      <td>183773</td>\n",
       "      <td>4</td>\n",
       "    </tr>\n",
       "    <tr>\n",
       "      <th>24224</th>\n",
       "      <td>0.686</td>\n",
       "      <td>0.645</td>\n",
       "      <td>7</td>\n",
       "      <td>-7.316</td>\n",
       "      <td>0</td>\n",
       "      <td>0.1380</td>\n",
       "      <td>0.8490</td>\n",
       "      <td>0.050000</td>\n",
       "      <td>0.109</td>\n",
       "      <td>0.783</td>\n",
       "      <td>109.492</td>\n",
       "      <td>4kYyPN0Wdtn0UYfwtAQpjs</td>\n",
       "      <td>188427</td>\n",
       "      <td>4</td>\n",
       "    </tr>\n",
       "    <tr>\n",
       "      <th>24225</th>\n",
       "      <td>0.361</td>\n",
       "      <td>0.523</td>\n",
       "      <td>5</td>\n",
       "      <td>-7.349</td>\n",
       "      <td>1</td>\n",
       "      <td>0.0505</td>\n",
       "      <td>0.8930</td>\n",
       "      <td>0.057900</td>\n",
       "      <td>0.422</td>\n",
       "      <td>0.823</td>\n",
       "      <td>185.980</td>\n",
       "      <td>6dGgfasP5f2MHsuL64CZxC</td>\n",
       "      <td>198893</td>\n",
       "      <td>4</td>\n",
       "    </tr>\n",
       "    <tr>\n",
       "      <th>24226</th>\n",
       "      <td>0.673</td>\n",
       "      <td>0.673</td>\n",
       "      <td>7</td>\n",
       "      <td>-7.779</td>\n",
       "      <td>0</td>\n",
       "      <td>0.1350</td>\n",
       "      <td>0.9070</td>\n",
       "      <td>0.355000</td>\n",
       "      <td>0.221</td>\n",
       "      <td>0.916</td>\n",
       "      <td>118.794</td>\n",
       "      <td>0q49w5NQlxz5WaUq6AaEoa</td>\n",
       "      <td>173360</td>\n",
       "      <td>4</td>\n",
       "    </tr>\n",
       "  </tbody>\n",
       "</table>\n",
       "<p>24227 rows × 14 columns</p>\n",
       "</div>"
      ],
      "text/plain": [
       "       danceability  energy  key  loudness  mode  speechiness  acousticness  \\\n",
       "0             0.805   0.596    2    -8.204     1       0.2110        0.2800   \n",
       "1             0.724   0.902    9    -5.620     0       0.1530        0.1760   \n",
       "2             0.604   0.716    6    -6.772     0       0.1310        0.3310   \n",
       "3             0.372   0.892    5    -9.444     1       0.1170        0.0943   \n",
       "4             0.815   0.468    7   -10.458     1       0.2420        0.1260   \n",
       "...             ...     ...  ...       ...   ...          ...           ...   \n",
       "24222         0.553   0.713    5    -7.439     0       0.0547        0.7180   \n",
       "24223         0.401   0.534    7    -6.718     0       0.0575        0.8580   \n",
       "24224         0.686   0.645    7    -7.316     0       0.1380        0.8490   \n",
       "24225         0.361   0.523    5    -7.349     1       0.0505        0.8930   \n",
       "24226         0.673   0.673    7    -7.779     0       0.1350        0.9070   \n",
       "\n",
       "       instrumentalness  liveness  valence    tempo                      id  \\\n",
       "0              0.000160     0.146    0.663   97.053  7DT6KqAWW8fHJfWuHddxPt   \n",
       "1              0.000208     0.104    0.735  122.435  6izZJJsAFod5XAivYYtf9r   \n",
       "2              0.000169     0.295    0.655  134.169  5rMw53xSX8BvYiZPRVQ8he   \n",
       "3              0.000107     0.358    0.573  165.185  5AU95bRMkW5QKaBSEUjnJo   \n",
       "4              0.502000     0.266    0.803  138.375  5LwcW7X6wZAHMnMuztJWem   \n",
       "...                 ...       ...      ...      ...                     ...   \n",
       "24222          0.048100     0.298    0.919  122.472  2luQt6tGMTuN2gtDkLW5d9   \n",
       "24223          0.006420     0.514    0.644  176.344  72olRIwfBeJnXnDaaHLfDd   \n",
       "24224          0.050000     0.109    0.783  109.492  4kYyPN0Wdtn0UYfwtAQpjs   \n",
       "24225          0.057900     0.422    0.823  185.980  6dGgfasP5f2MHsuL64CZxC   \n",
       "24226          0.355000     0.221    0.916  118.794  0q49w5NQlxz5WaUq6AaEoa   \n",
       "\n",
       "       duration_ms  time_signature  \n",
       "0           182773               4  \n",
       "1           186800               4  \n",
       "2           359093               4  \n",
       "3           207160               4  \n",
       "4           186333               4  \n",
       "...            ...             ...  \n",
       "24222       154133               4  \n",
       "24223       183773               4  \n",
       "24224       188427               4  \n",
       "24225       198893               4  \n",
       "24226       173360               4  \n",
       "\n",
       "[24227 rows x 14 columns]"
      ]
     },
     "execution_count": 17,
     "metadata": {},
     "output_type": "execute_result"
    }
   ],
   "source": [
    "df_audio_features"
   ]
  },
  {
   "cell_type": "markdown",
   "metadata": {},
   "source": [
    "##### select the suitable tracks:"
   ]
  },
  {
   "cell_type": "code",
   "execution_count": 24,
   "metadata": {},
   "outputs": [
    {
     "data": {
      "text/plain": [
       "195"
      ]
     },
     "execution_count": 24,
     "metadata": {},
     "output_type": "execute_result"
    }
   ],
   "source": [
    "tempo_min, tempo_max = 120, 125\n",
    "track_ids = set(df_audio_features[\n",
    "    (df_audio_features['tempo'] >= tempo_min) & \n",
    "    (df_audio_features['tempo'] <= tempo_max) & \n",
    "    (df_audio_features['danceability'] >= 0.8) &\n",
    "    (df_audio_features['liveness'] <= 0.4) &\n",
    "    (df_audio_features['speechiness'] <= 0.33)\n",
    "]['id'])\n",
    "len(track_ids)"
   ]
  },
  {
   "cell_type": "code",
   "execution_count": 25,
   "metadata": {},
   "outputs": [
    {
     "name": "stdout",
     "output_type": "stream",
     "text": [
      "Created new playlist with ID 60JIf3zVtsb6lJQkWt6Bhq\n"
     ]
    }
   ],
   "source": [
    "playlist_id, is_new = spotify.get_playlist_by_name(sp, \n",
    "        f\"BPM {tempo_min} - {tempo_max} All Tracks\", \n",
    "        create_if_none=True)\n",
    "if playlist_id and is_new:\n",
    "    print(f\"Created new playlist with ID {playlist_id}\")\n",
    "elif playlist_id:\n",
    "    print(f\"Found existing playlist with ID {playlist_id}\")\n",
    "else:\n",
    "    print(\"Something went wrong :-(\")"
   ]
  },
  {
   "cell_type": "code",
   "execution_count": 26,
   "metadata": {},
   "outputs": [
    {
     "name": "stdout",
     "output_type": "stream",
     "text": [
      "Playlist has 0 existing tracks\n",
      "Skipping duplicates: True\n",
      "195 tracks to be added\n",
      "100 tracks added\n",
      "95 tracks added\n",
      "OK\n"
     ]
    }
   ],
   "source": [
    "spotify.add_tracks(sp, playlist_id, track_ids)"
   ]
  },
  {
   "cell_type": "code",
   "execution_count": null,
   "metadata": {},
   "outputs": [],
   "source": []
  },
  {
   "cell_type": "code",
   "execution_count": null,
   "metadata": {},
   "outputs": [],
   "source": []
  },
  {
   "cell_type": "code",
   "execution_count": 63,
   "metadata": {},
   "outputs": [
    {
     "data": {
      "text/plain": [
       "<matplotlib.axes._subplots.AxesSubplot at 0x12202d490>"
      ]
     },
     "execution_count": 63,
     "metadata": {},
     "output_type": "execute_result"
    },
    {
     "data": {
      "image/png": "[encoded data removed]",
      "text/plain": [
       "<Figure size 432x288 with 1 Axes>"
      ]
     },
     "metadata": {
      "needs_background": "light"
     },
     "output_type": "display_data"
    }
   ],
   "source": [
    "max_ids = 50\n",
    "tracks_audio_features = []\n",
    "track_ids = list(track_ids)\n",
    "for i in range(0, len(track_ids), max_ids):\n",
    "    results = sp.audio_features(track_ids[i:i+max_ids])\n",
    "    tracks_audio_features.extend(results)\n",
    "len(tracks_audio_features)\n",
    "df_audio_features = pd.DataFrame(tracks_audio_features)\n",
    "df_audio_features['tempo'].plot.hist()"
   ]
  }
 ],
 "metadata": {
  "kernelspec": {
   "display_name": "Python 3",
   "language": "python",
   "name": "python3"
  },
  "language_info": {
   "codemirror_mode": {
    "name": "ipython",
    "version": 3
   },
   "file_extension": ".py",
   "mimetype": "text/x-python",
   "name": "python",
   "nbconvert_exporter": "python",
   "pygments_lexer": "ipython3",
   "version": "3.7.6"
  }
 },
 "nbformat": 4,
 "nbformat_minor": 4
}
