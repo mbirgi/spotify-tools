{
 "cells": [
  {
   "cell_type": "markdown",
   "metadata": {},
   "source": [
    "# Takes data scraped from Swiss Jazz Radio and saves it to a playlist on Spotify"
   ]
  },
  {
   "cell_type": "markdown",
   "metadata": {},
   "source": [
    "First, read the CSV file:"
   ]
  },
  {
   "cell_type": "code",
   "execution_count": 1,
   "metadata": {},
   "outputs": [
    {
     "data": {
      "text/html": [
       "<div>\n",
       "<style scoped>\n",
       "    .dataframe tbody tr th:only-of-type {\n",
       "        vertical-align: middle;\n",
       "    }\n",
       "\n",
       "    .dataframe tbody tr th {\n",
       "        vertical-align: top;\n",
       "    }\n",
       "\n",
       "    .dataframe thead th {\n",
       "        text-align: right;\n",
       "    }\n",
       "</style>\n",
       "<table border=\"1\" class=\"dataframe\">\n",
       "  <thead>\n",
       "    <tr style=\"text-align: right;\">\n",
       "      <th></th>\n",
       "      <th>Title</th>\n",
       "      <th>Artist</th>\n",
       "      <th>Spotify ID</th>\n",
       "    </tr>\n",
       "  </thead>\n",
       "  <tbody>\n",
       "    <tr>\n",
       "      <th>0</th>\n",
       "      <td>A Ballad</td>\n",
       "      <td>Gerry Mulligan &amp; Stan Getz</td>\n",
       "      <td>None</td>\n",
       "    </tr>\n",
       "    <tr>\n",
       "      <th>1</th>\n",
       "      <td>A Beautiful Friendship</td>\n",
       "      <td>Jeremy Davenport</td>\n",
       "      <td>None</td>\n",
       "    </tr>\n",
       "    <tr>\n",
       "      <th>2</th>\n",
       "      <td>A Beautiful Friendship</td>\n",
       "      <td>Johnny Varro Trio</td>\n",
       "      <td>None</td>\n",
       "    </tr>\n",
       "    <tr>\n",
       "      <th>3</th>\n",
       "      <td>A Bench In The Park</td>\n",
       "      <td>Ralf Ruh Trio</td>\n",
       "      <td>None</td>\n",
       "    </tr>\n",
       "    <tr>\n",
       "      <th>4</th>\n",
       "      <td>A Brush With Bunj</td>\n",
       "      <td>James Morrison</td>\n",
       "      <td>None</td>\n",
       "    </tr>\n",
       "  </tbody>\n",
       "</table>\n",
       "</div>"
      ],
      "text/plain": [
       "                    Title                      Artist Spotify ID\n",
       "0                A Ballad  Gerry Mulligan & Stan Getz       None\n",
       "1  A Beautiful Friendship            Jeremy Davenport       None\n",
       "2  A Beautiful Friendship           Johnny Varro Trio       None\n",
       "3     A Bench In The Park               Ralf Ruh Trio       None\n",
       "4       A Brush With Bunj              James Morrison       None"
      ]
     },
     "execution_count": 1,
     "metadata": {},
     "output_type": "execute_result"
    }
   ],
   "source": [
    "# import numpy as np\n",
    "import pandas as pd\n",
    "\n",
    "df = pd.read_csv(os.path.join('scrapes', 'sjr_tracks.csv'), names=['Title', 'Artist'])\n",
    "df['Spotify ID'] = None\n",
    "df = df[0:100]   # better limit this as file is big!\n",
    "df.head()"
   ]
  },
  {
   "cell_type": "markdown",
   "metadata": {},
   "source": [
    "Login to Spotify:"
   ]
  },
  {
   "cell_type": "code",
   "execution_count": 2,
   "metadata": {},
   "outputs": [
    {
     "data": {
      "text/plain": [
       "'Mehmet Birgi'"
      ]
     },
     "execution_count": 2,
     "metadata": {},
     "output_type": "execute_result"
    }
   ],
   "source": [
    "import os\n",
    "import spotify\n",
    "\n",
    "sp = spotify.login(scope='playlist-read-private playlist-modify-private')\n",
    "user = sp.current_user()\n",
    "user['display_name']   # check if login successful"
   ]
  },
  {
   "cell_type": "markdown",
   "metadata": {},
   "source": [
    "Get the spotify ids for the tracks:"
   ]
  },
  {
   "cell_type": "code",
   "execution_count": 3,
   "metadata": {},
   "outputs": [
    {
     "data": {
      "text/html": [
       "<div>\n",
       "<style scoped>\n",
       "    .dataframe tbody tr th:only-of-type {\n",
       "        vertical-align: middle;\n",
       "    }\n",
       "\n",
       "    .dataframe tbody tr th {\n",
       "        vertical-align: top;\n",
       "    }\n",
       "\n",
       "    .dataframe thead th {\n",
       "        text-align: right;\n",
       "    }\n",
       "</style>\n",
       "<table border=\"1\" class=\"dataframe\">\n",
       "  <thead>\n",
       "    <tr style=\"text-align: right;\">\n",
       "      <th></th>\n",
       "      <th>Title</th>\n",
       "      <th>Artist</th>\n",
       "      <th>Spotify ID</th>\n",
       "    </tr>\n",
       "  </thead>\n",
       "  <tbody>\n",
       "    <tr>\n",
       "      <th>0</th>\n",
       "      <td>A Ballad</td>\n",
       "      <td>Gerry Mulligan &amp; Stan Getz</td>\n",
       "      <td>7yLckxzDe6ktaWz9UbpXcK</td>\n",
       "    </tr>\n",
       "    <tr>\n",
       "      <th>1</th>\n",
       "      <td>A Beautiful Friendship</td>\n",
       "      <td>Jeremy Davenport</td>\n",
       "      <td>5a9VN1uwPalg7dNMFlAjOO</td>\n",
       "    </tr>\n",
       "    <tr>\n",
       "      <th>2</th>\n",
       "      <td>A Beautiful Friendship</td>\n",
       "      <td>Johnny Varro Trio</td>\n",
       "      <td>7cxbHzIW3UD3I9qhA7HFD1</td>\n",
       "    </tr>\n",
       "    <tr>\n",
       "      <th>3</th>\n",
       "      <td>A Bench In The Park</td>\n",
       "      <td>Ralf Ruh Trio</td>\n",
       "      <td>0R9yNJMys9Qiagz885MCBg</td>\n",
       "    </tr>\n",
       "    <tr>\n",
       "      <th>4</th>\n",
       "      <td>A Brush With Bunj</td>\n",
       "      <td>James Morrison</td>\n",
       "      <td>75slKFembjAgcPipi6qbJ0</td>\n",
       "    </tr>\n",
       "  </tbody>\n",
       "</table>\n",
       "</div>"
      ],
      "text/plain": [
       "                    Title                      Artist              Spotify ID\n",
       "0                A Ballad  Gerry Mulligan & Stan Getz  7yLckxzDe6ktaWz9UbpXcK\n",
       "1  A Beautiful Friendship            Jeremy Davenport  5a9VN1uwPalg7dNMFlAjOO\n",
       "2  A Beautiful Friendship           Johnny Varro Trio  7cxbHzIW3UD3I9qhA7HFD1\n",
       "3     A Bench In The Park               Ralf Ruh Trio  0R9yNJMys9Qiagz885MCBg\n",
       "4       A Brush With Bunj              James Morrison  75slKFembjAgcPipi6qbJ0"
      ]
     },
     "execution_count": 3,
     "metadata": {},
     "output_type": "execute_result"
    }
   ],
   "source": [
    "# import json\n",
    "results = []\n",
    "for index, row in df.iterrows():\n",
    "    name, title = row['Title'], row['Artist']\n",
    "    q = f\"{name} {title}\"\n",
    "    row_results = sp.search(q, type='track', market='CH')\n",
    "    items = row_results['tracks']['items']\n",
    "    if items:\n",
    "        df['Spotify ID'][index] = items[0]['id']\n",
    "df.head()"
   ]
  },
  {
   "cell_type": "markdown",
   "metadata": {},
   "source": [
    "Get the playlist to edit:"
   ]
  },
  {
   "cell_type": "code",
   "execution_count": 4,
   "metadata": {},
   "outputs": [
    {
     "name": "stdout",
     "output_type": "stream",
     "text": [
      "Found existing playlist with ID 77523QiGKT14yvmZM4bJl9\n"
     ]
    }
   ],
   "source": [
    "playlist_id, is_new = spotify.get_playlist_by_name(sp, \"Swiss Jazz Radio Tracks\", create_if_none=True)\n",
    "if playlist_id and is_new:\n",
    "    print(f\"Created new playlist with ID {playlist_id}\")\n",
    "elif playlist_id:\n",
    "    print(f\"Found existing playlist with ID {playlist_id}\")\n",
    "else:\n",
    "    print(\"Something went wrong :-(\")"
   ]
  },
  {
   "cell_type": "markdown",
   "metadata": {},
   "source": [
    "Append tracks (skipping duplicates):"
   ]
  },
  {
   "cell_type": "code",
   "execution_count": 6,
   "metadata": {},
   "outputs": [
    {
     "name": "stdout",
     "output_type": "stream",
     "text": [
      "Number of tracks added to playlist: 0\n"
     ]
    }
   ],
   "source": [
    "tracks_to_add = [row['Spotify ID'] for index, row in df.iterrows() if row['Spotify ID'] is not None]\n",
    "num_tracks_added = spotify.add_tracks(sp, playlist_id, tracks_to_add)\n",
    "print(f\"Number of tracks added to playlist: {num_tracks_added}\")"
   ]
  }
 ],
 "metadata": {
  "kernelspec": {
   "display_name": "Python 3",
   "language": "python",
   "name": "python3"
  },
  "language_info": {
   "codemirror_mode": {
    "name": "ipython",
    "version": 3
   },
   "file_extension": ".py",
   "mimetype": "text/x-python",
   "name": "python",
   "nbconvert_exporter": "python",
   "pygments_lexer": "ipython3",
   "version": "3.7.6"
  }
 },
 "nbformat": 4,
 "nbformat_minor": 4
}
