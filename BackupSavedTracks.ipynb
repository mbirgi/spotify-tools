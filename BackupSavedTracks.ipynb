{
 "cells": [
  {
   "cell_type": "code",
   "execution_count": 1,
   "metadata": {},
   "outputs": [
    {
     "data": {
      "text/plain": [
       "'Mehmet Birgi'"
      ]
     },
     "execution_count": 1,
     "metadata": {},
     "output_type": "execute_result"
    }
   ],
   "source": [
    "import spotify\n",
    "import utils\n",
    "\n",
    "sp = spotify.login(scope='playlist-modify-private')\n",
    "user = sp.current_user()\n",
    "user['display_name']"
   ]
  },
  {
   "cell_type": "code",
   "execution_count": 2,
   "metadata": {},
   "outputs": [
    {
     "name": "stdout",
     "output_type": "stream",
     "text": [
      "current user has 148 saved tracks\n",
      "retrieved 148 tracks\n"
     ]
    }
   ],
   "source": [
    "results = sp.current_user_saved_tracks()\n",
    "print(f\"current user has {results['total']} saved tracks\")\n",
    "tracks = results['items']\n",
    "while results['next']:\n",
    "    results = sp.next(results)\n",
    "    tracks.extend(results['items'])\n",
    "print(f\"retrieved {len(tracks)} tracks\")"
   ]
  },
  {
   "cell_type": "code",
   "execution_count": 4,
   "metadata": {},
   "outputs": [],
   "source": [
    "# save the tracks as a list of dictionaries\n",
    "import datetime\n",
    "import json\n",
    "import os\n",
    "\n",
    "folder = 'data'\n",
    "filename = f'saved_tracks_{utils.timestamp()}.json'\n",
    "if not os.path.exists(folder):\n",
    "    os.mkdir(folder)\n",
    "with open(os.path.join(folder, filename), 'w', encoding='utf-8') as f:\n",
    "    json.dump(tracks, f, ensure_ascii=False, indent=4)"
   ]
  }
 ],
 "metadata": {
  "kernelspec": {
   "display_name": "Python 3",
   "language": "python",
   "name": "python3"
  },
  "language_info": {
   "codemirror_mode": {
    "name": "ipython",
    "version": 3
   },
   "file_extension": ".py",
   "mimetype": "text/x-python",
   "name": "python",
   "nbconvert_exporter": "python",
   "pygments_lexer": "ipython3",
   "version": "3.7.6"
  }
 },
 "nbformat": 4,
 "nbformat_minor": 4
}
