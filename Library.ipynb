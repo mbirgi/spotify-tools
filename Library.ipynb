{
 "cells": [
  {
   "cell_type": "code",
   "execution_count": 1,
   "metadata": {},
   "outputs": [
    {
     "name": "stdout",
     "output_type": "stream",
     "text": [
      "\n",
      "\n",
      "            User authentication requires interaction with your\n",
      "            web browser. Once you enter your credentials and\n",
      "            give authorization, you will be redirected to\n",
      "            a url.  Paste that url you were directed to to\n",
      "            complete the authorization.\n",
      "\n",
      "        \n",
      "Opened https://accounts.spotify.com/authorize?client_id=ca3831dc54e745ec9fd50425c059da48&response_type=code&redirect_uri=https%3A%2F%2Flocalhost%3A8080%2F&scope=playlist-modify-private+playlist-read-private+user-library-modify+user-library-read in your browser\n",
      "\n",
      "\n",
      "Enter the URL you were redirected to: https://localhost:8080/?code=AQAtOAuqMHGZ8X2MMBfCXluEKKxqDqta1F5IeuzkQWZaAsBv478DdYskjFmEZcVuDUAebKybfqJkNAk6_qZej1XKMGw3Hvjs_sy_siGuQXgwBYIRlGuPktq5dHxRyg2wtdahEnngdMjILgP3CWRL5vlUJezzsmDSBDEmzmfNLcYZPNV512bNYDCDlYGLORboxyMbVi8Wh9IBwWAo3Eq-tRJ0Wqp7p-oZwBEDOpBwTxHt9BVjH_BbUmmX_MywXtPEdx513oKRULrEIhCwgaCMNnKqF6CtLajBRRNqc451qrE4HpnGFw\n",
      "\n",
      "\n"
     ]
    },
    {
     "data": {
      "text/plain": [
       "'Mehmet Birgi'"
      ]
     },
     "execution_count": 1,
     "metadata": {},
     "output_type": "execute_result"
    }
   ],
   "source": [
    "import os\n",
    "import spotify\n",
    "\n",
    "sp = spotify.login(scope='playlist-read-private playlist-modify-private user-library-read user-library-modify')\n",
    "user = sp.current_user()\n",
    "user['display_name']   # check if login successful"
   ]
  },
  {
   "cell_type": "code",
   "execution_count": 26,
   "metadata": {},
   "outputs": [
    {
     "data": {
      "text/plain": [
       "dict_keys(['href', 'items', 'limit', 'next', 'offset', 'previous', 'total'])"
      ]
     },
     "execution_count": 26,
     "metadata": {},
     "output_type": "execute_result"
    }
   ],
   "source": [
    "album_results = sp.current_user_saved_albums()\n",
    "album_results.keys()"
   ]
  },
  {
   "cell_type": "code",
   "execution_count": 27,
   "metadata": {},
   "outputs": [
    {
     "data": {
      "text/plain": [
       "710"
      ]
     },
     "execution_count": 27,
     "metadata": {},
     "output_type": "execute_result"
    }
   ],
   "source": [
    "album_results['total']"
   ]
  },
  {
   "cell_type": "code",
   "execution_count": 28,
   "metadata": {},
   "outputs": [
    {
     "data": {
      "text/plain": [
       "710"
      ]
     },
     "execution_count": 28,
     "metadata": {},
     "output_type": "execute_result"
    }
   ],
   "source": [
    "albums = album_results['items']\n",
    "while album_results['next']:\n",
    "    album_results = sp.next(album_results)\n",
    "    albums.extend(album_results['items'])\n",
    "len(albums)"
   ]
  },
  {
   "cell_type": "code",
   "execution_count": 29,
   "metadata": {},
   "outputs": [
    {
     "data": {
      "text/plain": [
       "9"
      ]
     },
     "execution_count": 29,
     "metadata": {},
     "output_type": "execute_result"
    }
   ],
   "source": [
    "albums[0]['album']['total_tracks']"
   ]
  },
  {
   "cell_type": "code",
   "execution_count": 30,
   "metadata": {},
   "outputs": [],
   "source": [
    "user_album_tracks = 0\n",
    "for album in albums:\n",
    "    user_album_tracks += album['album']['total_tracks']"
   ]
  },
  {
   "cell_type": "code",
   "execution_count": 31,
   "metadata": {},
   "outputs": [
    {
     "data": {
      "text/plain": [
       "8664"
      ]
     },
     "execution_count": 31,
     "metadata": {},
     "output_type": "execute_result"
    }
   ],
   "source": [
    "user_album_tracks"
   ]
  },
  {
   "cell_type": "code",
   "execution_count": 32,
   "metadata": {},
   "outputs": [
    {
     "data": {
      "text/plain": [
       "dict_keys(['href', 'items', 'limit', 'next', 'offset', 'previous', 'total'])"
      ]
     },
     "execution_count": 32,
     "metadata": {},
     "output_type": "execute_result"
    }
   ],
   "source": [
    "track_results = sp.current_user_saved_tracks(limit=50)  # max allowed is 50\n",
    "track_results.keys()"
   ]
  },
  {
   "cell_type": "code",
   "execution_count": 33,
   "metadata": {},
   "outputs": [
    {
     "data": {
      "text/plain": [
       "3451"
      ]
     },
     "execution_count": 33,
     "metadata": {},
     "output_type": "execute_result"
    }
   ],
   "source": [
    "track_results['total']"
   ]
  },
  {
   "cell_type": "markdown",
   "metadata": {},
   "source": [
    "#### delete tracks from saved tracks that are also saved as a whole album:"
   ]
  },
  {
   "cell_type": "code",
   "execution_count": 34,
   "metadata": {},
   "outputs": [
    {
     "name": "stdout",
     "output_type": "stream",
     "text": [
      "fetched 3451 tracks\n"
     ]
    }
   ],
   "source": [
    "# get all tracks:\n",
    "tracks = track_results['items']\n",
    "while track_results['next']:\n",
    "    track_results = sp.next(track_results)\n",
    "    tracks.extend(track_results['items'])\n",
    "print(f\"fetched {len(tracks)} tracks\")"
   ]
  },
  {
   "cell_type": "code",
   "execution_count": 35,
   "metadata": {},
   "outputs": [
    {
     "data": {
      "text/plain": [
       "dict_keys(['album_type', 'artists', 'available_markets', 'copyrights', 'external_ids', 'external_urls', 'genres', 'href', 'id', 'images', 'label', 'name', 'popularity', 'release_date', 'release_date_precision', 'total_tracks', 'tracks', 'type', 'uri'])"
      ]
     },
     "execution_count": 35,
     "metadata": {},
     "output_type": "execute_result"
    }
   ],
   "source": [
    "albums[0]['album'].keys()"
   ]
  },
  {
   "cell_type": "code",
   "execution_count": 36,
   "metadata": {},
   "outputs": [
    {
     "data": {
      "text/plain": [
       "dict_keys(['artists', 'available_markets', 'disc_number', 'duration_ms', 'explicit', 'external_urls', 'href', 'id', 'is_local', 'name', 'preview_url', 'track_number', 'type', 'uri'])"
      ]
     },
     "execution_count": 36,
     "metadata": {},
     "output_type": "execute_result"
    }
   ],
   "source": [
    "albums[0]['album']['tracks']['items'][0].keys()"
   ]
  },
  {
   "cell_type": "code",
   "execution_count": 37,
   "metadata": {},
   "outputs": [
    {
     "data": {
      "text/plain": [
       "'St Germain'"
      ]
     },
     "execution_count": 37,
     "metadata": {},
     "output_type": "execute_result"
    }
   ],
   "source": [
    "album = albums[0]['album']\n",
    "album['artists'][0]['name']"
   ]
  },
  {
   "cell_type": "code",
   "execution_count": 38,
   "metadata": {},
   "outputs": [
    {
     "name": "stdout",
     "output_type": "stream",
     "text": [
      "retrying ...1secs\n",
      "retrying ...1secs\n",
      "retrying ...2secs\n",
      "retrying ...1secs\n",
      "deleted all 11 tracks from album 'What's Going On (Remastered w/Bonus Tracks)' by 'Marvin Gaye'\n",
      "deleted all 14 tracks from album 'Backatown' by 'Trombone Shorty'\n",
      "deleted all 14 tracks from album 'For True' by 'Trombone Shorty'\n",
      "deleted all 10 tracks from album 'Say That To Say This' by 'Trombone Shorty'\n",
      "deleted all 10 tracks from album 'Quartetto' by 'Quartetto Di Lucca'\n",
      "deleted all 6 tracks from album 'Cosmic Funk' by 'Lonnie Liston Smith and the Cosmic Echoes'\n",
      "deleted all 7 tracks from album 'Expansions' by 'Lonnie Liston Smith'\n",
      "deleted all 27 tracks from album 'Alone Together: The Best Of The Mercury Years' by 'Max Roach'\n",
      "deleted all 9 tracks from album 'Think Beautiful' by 'Bill Evans Trio'\n",
      "deleted all 7 tracks from album 'The Ultimate Blue Train' by 'John Coltrane'\n",
      "deleted all 13 tracks from album 'Wanted...Thelonious Monk' by 'Thelonious Monk'\n",
      "deleted all 10 tracks from album 'Underground (Special Edition)' by 'Thelonious Monk'\n",
      "deleted all 9 tracks from album 'Art Blakey's Jazz Messengers With Thelonious Monk (Deluxe Edition)' by 'Art Blakey & The Jazz Messengers'\n",
      "deleted all 7 tracks from album 'Fontessa' by 'The Modern Jazz Quartet'\n",
      "deleted all 6 tracks from album 'Concorde (RVG Remaster)' by 'The Modern Jazz Quartet'\n",
      "deleted all 13 tracks from album 'Sonny Rollins With The Modern Jazz Quartet' by 'Sonny Rollins'\n",
      "deleted all 9 tracks from album 'Blues On Bach' by 'The Modern Jazz Quartet'\n",
      "deleted all 6 tracks from album 'Pyramid' by 'The Modern Jazz Quartet'\n",
      "deleted all 12 tracks from album 'Modern Jazz Quartet' by 'The Modern Jazz Quartet'\n",
      "deleted all 8 tracks from album 'Django (Rudy van Gelder Remaster)' by 'The Modern Jazz Quartet'\n",
      "deleted all 4 tracks from album 'Destination Out (The Rudy Van Gelder Edition)' by 'Jackie McLean'\n",
      "deleted all 5 tracks from album 'One Step Beyond (Remastered)' by 'Jackie McLean'\n",
      "deleted all 7 tracks from album 'Swing Swang Swingin'' by 'Jackie McLean'\n",
      "deleted all 7 tracks from album 'Speak No Evil' by 'Wayne Shorter'\n",
      "deleted all 14 tracks from album 'TRUE BLOOD: Music from and Inspired by the HBO® Original Series (International)' by 'Various Artists'\n",
      "deleted all 49 tracks from album 'Allen Toussaint - Everything I Do Gonh Be Funky' by 'Various Artists'\n",
      "deleted all 12 tracks from album 'Life, Love And Faith' by 'Allen Toussaint'\n",
      "deleted all 13 tracks from album 'The River In Reverse' by 'Elvis Costello'\n",
      "deleted all 10 tracks from album 'Southern Nights' by 'Allen Toussaint'\n",
      "deleted all 12 tracks from album 'The Bright Mississippi' by 'Allen Toussaint'\n",
      "deleted all 20 tracks from album 'Happy Times in New Orleans. The Early Sessions, 1958 - 1960' by 'Allen Toussaint'\n",
      "deleted all 11 tracks from album 'Boys & Girls' by 'Alabama Shakes'\n",
      "deleted all 11 tracks from album 'To Obscurity and Beyond' by 'Afroskull'\n",
      "deleted all 7 tracks from album 'Comin' On Home (Remastered)' by 'Richard \"Groove\" Holmes'\n",
      "deleted all 9 tracks from album 'Sunken Condos' by 'Donald Fagen'\n",
      "deleted all 10 tracks from album 'Julian \"Cannonball\" Adderley' by 'Cannonball Adderley'\n",
      "deleted all 10 tracks from album 'Know What I Mean?' by 'Cannonball Adderley'\n",
      "deleted all 8 tracks from album 'Bohemia After Dark' by 'Cannonball Adderley'\n",
      "deleted all 8 tracks from album 'Soulmates' by 'Ben Webster'\n",
      "deleted all 7 tracks from album 'Bill Harris And Friends (Reissue)' by 'Bill Harris And Friends'\n",
      "deleted all 11 tracks from album 'King Of The Tenors' by 'Ben Webster'\n",
      "deleted all 5 tracks from album 'Ben Webster and Associates' by 'Ben Webster'\n",
      "deleted all 6 tracks from album 'Gerry Mulligan Meets Ben Webster (Remastered)' by 'Gerry Mulligan'\n",
      "deleted all 12 tracks from album 'Le Dernier Message De Lester Young' by 'Lester Young'\n",
      "deleted all 16 tracks from album 'Lester Young Exercise In Swing' by 'Lester Young, Nat King Cole, Buddy Rich'\n",
      "deleted all 7 tracks from album 'Laughin' to Keep From Cryin'' by 'Lester Young'\n",
      "deleted all 7 tracks from album 'Jazz Giants '58' by 'Stan Getz, Gerry Mulligan & Harry Edison'\n",
      "deleted all 6 tracks from album 'Jazz Giants -56' by 'Lester Young, Roy Eldridge & Vic Dickenson'\n",
      "deleted all 7 tracks from album 'Pres & Teddy' by 'The Lester Young - Teddy Wilson Quartet'\n",
      "deleted all 6 tracks from album 'Pres & Sweets (The Hits)' by 'Lester Young'\n",
      "deleted all 40 tracks from album 'The Complete Aladdin Recordings Of Lester Young' by 'Lester Young'\n",
      "deleted all 50 tracks from album 'Sunday Jazz - Verve 50' by 'Various Artists'\n",
      "deleted all 12 tracks from album 'Return Of The Iron Monkey' by 'Trio Valore'\n",
      "deleted all 6 tracks from album 'Byrd In Hand' by 'Donald Byrd'\n",
      "deleted all 5 tracks from album 'A New Perspective (Remastered / Rudy Van Gelder Edition)' by 'Donald Byrd'\n",
      "deleted all 6 tracks from album 'Street Lady' by 'Donald Byrd'\n",
      "deleted all 7 tracks from album 'Places And Spaces' by 'Donald Byrd'\n",
      "deleted all 7 tracks from album 'Blackbyrd' by 'Donald Byrd'\n",
      "deleted all 6 tracks from album 'Jazz Lab - EP' by 'Gigi Gryce'\n",
      "deleted all 12 tracks from album 'Get Funky With Me - The Best Of The TK Years' by 'Peter Brown'\n",
      "deleted all 15 tracks from album 'Fania Records - The 60's, Vol. Five' by 'Various Artists'\n",
      "deleted all 18 tracks from album 'Sunday in Bed, Vol. 6 (Sexy Sounds for Lazy Lovers)' by 'Various Artists'\n",
      "deleted all 8 tracks from album 'Two-Headed Freap' by 'Ronnie Foster'\n",
      "deleted all 19 tracks from album 'Florida Funk' by 'Various Artists'\n",
      "deleted all 38 tracks from album 'Best of Perception & Today Records compiled by DJ Spinna and BBE Soundsystem' by 'Various Artists'\n",
      "deleted all 9 tracks from album 'Hebron Gate' by 'Groundation'\n",
      "deleted all 14 tracks from album 'Welcome to Jamrock' by 'Damian Marley'\n",
      "deleted all 12 tracks from album 'Mr. Marley' by 'Damian Marley'\n",
      "deleted all 13 tracks from album 'The Vibe! Vol. 1' by 'Various Artists'\n",
      "deleted all 14 tracks from album 'The Vibe! Vol. 8' by 'Various Artists'\n",
      "deleted all 14 tracks from album 'The Vibe! Vol. 6' by 'Various Artists'\n",
      "deleted all 15 tracks from album 'The Vibe! Vol. 5' by 'Various Artists'\n",
      "deleted all 14 tracks from album 'The Vibe! Vol. 3' by 'Various Artists'\n",
      "deleted all 13 tracks from album 'The Vibe! Vol. 4' by 'Various Artists'\n",
      "deleted all 13 tracks from album 'The Vibe! Vol. 7' by 'Various Artists'\n",
      "deleted all 14 tracks from album 'The Vibe! Vol. 9' by 'Various Artists'\n",
      "deleted all 13 tracks from album 'The Vibe! Vol. 2' by 'Various Artists'\n",
      "deleted all 12 tracks from album 'Buffalo Springfield' by 'Buffalo Springfield'\n",
      "deleted all 7 tracks from album 'Jon Davis Trio' by 'Oon Davis'\n",
      "deleted all 5 tracks from album 'Friday Night In San Francisco' by 'Various Artists'\n",
      "deleted all 11 tracks from album 'When I'm President' by 'Ian Hunter'\n",
      "deleted all 11 tracks from album 'Man Overboard' by 'Ian Hunter'\n",
      "deleted all 11 tracks from album 'Shrunken Heads' by 'Ian Hunter'\n",
      "deleted all 12 tracks from album 'Band Of Joy' by 'Robert Plant'\n",
      "deleted all 13 tracks from album 'Raising Sand' by 'Robert Plant'\n",
      "deleted all 17 tracks from album 'Mighty Rearranger' by 'Robert Plant'\n",
      "deleted all 15 tracks from album 'Anthology' by 'Donald Byrd'\n",
      "deleted all 16 tracks from album 'Little Drop Of Poison' by 'Rebekka Bakken'\n",
      "deleted all 10 tracks from album 'Learning Faith' by 'Jess Klein'\n",
      "deleted all 12 tracks from album 'This House' by 'Shane Dwight'\n",
      "deleted all 13 tracks from album 'Message in Blue' by 'Dave Specter'\n",
      "deleted all 13 tracks from album 'Memphis Grease' by 'John Németh'\n",
      "deleted all 13 tracks from album 'What Kind of Shit Is This?' by 'Boo Boo Davis'\n",
      "deleted all 6 tracks from album 'Alone Together' by 'Lee Konitz'\n",
      "deleted all 8 tracks from album 'Heartplay' by 'Charlie Haden'\n",
      "deleted all 10 tracks from album 'Before daylight' by 'Neal Black'\n",
      "deleted all 12 tracks from album 'Stand or Fall' by 'Marcus Malone'\n",
      "deleted all 12 tracks from album 'Blues for My Father' by 'Vaneese Thomas'\n",
      "deleted all 13 tracks from album 'Soul for Your Blues' by 'Frank Bey'\n",
      "deleted all 6 tracks from album 'Salt Song' by 'Stanley Turrentine'\n",
      "deleted all 4 tracks from album 'Sugar' by 'Stanley Turrentine'\n",
      "deleted all 6 tracks from album 'Hustlin' (Remastered / Rudy Van Gelder Edition)' by 'Stanley Turrentine'\n",
      "deleted all 9 tracks from album 'Is It In' by 'Eddie Harris'\n"
     ]
    },
    {
     "name": "stdout",
     "output_type": "stream",
     "text": [
      "deleted all 12 tracks from album 'Excursions' by 'Eddie Harris'\n",
      "deleted all 5 tracks from album 'Second Movement' by 'Eddie Harris'\n",
      "deleted all 7 tracks from album 'Instant Death' by 'Eddie Harris'\n",
      "deleted all 6 tracks from album 'The Electrifying Eddie Harris' by 'Eddie Harris'\n",
      "deleted all 6 tracks from album 'Come On Down!' by 'Eddie Harris'\n",
      "deleted all 6 tracks from album 'High Voltage' by 'Eddie Harris'\n",
      "deleted all 9 tracks from album 'Silver Cycles' by 'Eddie Harris'\n",
      "deleted all 8 tracks from album 'Mighty Like a Rose' by 'Eddie Harris'\n",
      "deleted all 6 tracks from album 'The In Sound' by 'Eddie Harris'\n",
      "deleted all 6 tracks from album 'Third Plane' by 'Ron Carter'\n",
      "retrying ...1secs\n",
      "deleted all 10 tracks from album 'ディア・マイルス' by 'Ron Carter'\n",
      "deleted all 6 tracks from album 'Where? (RVG Edition)' by 'Ron Carter'\n",
      "deleted all 5 tracks from album 'New York Slick' by 'Ron Carter'\n",
      "deleted all 5 tracks from album 'Patrão' by 'Ron Carter'\n",
      "deleted all 6 tracks from album 'Parade' by 'Ron Carter'\n",
      "deleted all 6 tracks from album 'Piccolo' by 'Ron Carter Quartet'\n",
      "deleted all 6 tracks from album 'All Blues (CTI Records 40th Anniversary Edition)' by 'Ron Carter'\n",
      "deleted all 9 tracks from album 'Uptown Conversation' by 'Ron Carter'\n",
      "deleted all 6 tracks from album 'Two Of A Mind' by 'Paul Desmond'\n",
      "deleted all 13 tracks from album 'Meets Oscar Peterson and Gerry Mulligan' by 'Ben Webster'\n",
      "deleted all 6 tracks from album 'Gerry Mulligan Meets Stan Getz (Remastered)' by 'Gerry Mulligan'\n",
      "deleted all 6 tracks from album 'Mulligan Meets Monk (Remastered)' by 'Gerry Mulligan'\n",
      "deleted all 11 tracks from album 'Gerry Mulligan Meets Ben Webster' by 'Gerry Mulligan'\n",
      "deleted all 6 tracks from album 'Gerry Mulligan Meets Johnny Hodges' by 'Gerry Mulligan'\n",
      "deleted all 14 tracks from album 'Complete Studio Recordings' by 'Gerry Mulligan Quartet'\n",
      "deleted all 8 tracks from album 'What Is There to Say? (Remastered)' by 'Gerry Mulligan Quartet'\n",
      "deleted all 7 tracks from album 'Mulligan Plays Mulligan' by 'Gerry Mulligan'\n",
      "deleted all 7 tracks from album 'Blues In Time' by 'Gerry Mulligan'\n",
      "deleted all 10 tracks from album 'Mulligan Meets Monk [Original Jazz Classics Remasters]' by 'Thelonious Monk'\n",
      "deleted all 10 tracks from album 'Sarah Vaughan' by 'Sarah Vaughan'\n",
      "deleted all 13 tracks from album 'Swingin' Easy' by 'Sarah Vaughan'\n",
      "deleted all 11 tracks from album 'Scott Hamilton Plays Ballads' by 'Scott Hamilton'\n",
      "deleted all 10 tracks from album 'Plays Ballads' by 'Ben Webster'\n",
      "deleted all 7 tracks from album 'Swedish Ballads... & More' by 'Scott Hamilton'\n",
      "deleted all 14 tracks from album 'Standards & Ballads' by 'Wynton Marsalis'\n",
      "deleted all 10 tracks from album 'Murder Ballads (Remastered)' by 'Nick Cave & The Bad Seeds'\n",
      "deleted all 8 tracks from album 'Ballads' by 'Dexter Gordon'\n",
      "deleted all 8 tracks from album 'Ballads' by 'John Coltrane Quartet'\n",
      "deleted all 10 tracks from album 'Soulville' by 'Ben Webster'\n",
      "deleted all 6 tracks from album 'Ben And \"Sweets\"' by 'Ben Webster'\n",
      "deleted all 26 tracks from album 'The Soul Of Ben Webster' by 'Ben Webster'\n",
      "deleted all 9 tracks from album 'Coleman Hawkins Encounters Ben Webster (Expanded Edition)' by 'Coleman Hawkins'\n",
      "deleted all 26 tracks from album 'The Complete Gerry Mulligan Meets Ben Webster Sessions' by 'Gerry Mulligan'\n",
      "deleted all 6 tracks from album 'The Swinger (Remastered)' by 'Harry \"Sweets\" Edison'\n",
      "deleted all 5 tracks from album 'Mr Swing-Harry Edison (Remastered)' by 'Harry \"Sweets\" Edison'\n",
      "deleted all 9 tracks from album 'Oscar Peterson & Harry Edison' by 'Oscar Peterson'\n",
      "deleted all 7 tracks from album 'Buddy And Sweets' by 'Buddy Rich'\n",
      "deleted all 9 tracks from album 'Sweets' by 'Harry \"Sweets\" Edison'\n",
      "deleted all 7 tracks from album 'Oscar Peterson + Harry Edison + Eddie \"Cleanhead\" Vinson' by 'Oscar Peterson'\n",
      "deleted all 7 tracks from album 'Gee, Baby Ain't I Good to You (Remastered)' by 'Harry \"Sweets\" Edison'\n",
      "deleted all 8 tracks from album 'Everybody Knows' by 'Johnny Hodges'\n",
      "deleted all 9 tracks from album 'Side By Side' by 'Duke Ellington'\n",
      "deleted all 11 tracks from album 'Used To Be Duke' by 'Johnny Hodges'\n",
      "deleted all 7 tracks from album 'Play The Blues Back To Back' by 'Duke Ellington'\n",
      "deleted all 7 tracks from album 'Soulville (Remastered)' by 'Ben Webster Quintet'\n",
      "deleted all 25 tracks from album 'Privateering (Deluxe Version)' by 'Mark Knopfler'\n",
      "deleted all 6 tracks from album 'Red Clay (CTI Records 40th Anniversary Edition)' by 'Freddie Hubbard'\n",
      "deleted all 7 tracks from album 'Ready For Freddie (Rudy Van Gelder Remaster Edition)' by 'Freddie Hubbard'\n",
      "deleted all 8 tracks from album 'Open Sesame (The Rudy Van Gelder Edition)' by 'Freddie Hubbard'\n",
      "deleted all 7 tracks from album 'Hub Cap' by 'Freddie Hubbard'\n",
      "deleted all 8 tracks from album 'Hub-Tones' by 'Freddie Hubbard'\n",
      "deleted all 7 tracks from album 'Horace - Scope' by 'Horace Silver'\n",
      "deleted all 10 tracks from album 'Song For My Father' by 'Horace Silver'\n",
      "deleted all 10 tracks from album 'Things Are Getting Better [Original Jazz Classics Remasters]' by 'Cannonball Adderley'\n",
      "deleted all 7 tracks from album 'Cannonball Adderley And The Poll Winners' by 'Cannonball Adderley'\n",
      "deleted all 6 tracks from album 'Somethin' Else (Rudy Van Gelder Edition)' by 'Cannonball Adderley'\n",
      "deleted all 10 tracks from album 'Oh Yeah (Deluxe)' by 'Charles Mingus'\n",
      "deleted all 6 tracks from album 'East Coasting (Remastered 2013)' by 'Charles Mingus'\n",
      "deleted all 5 tracks from album 'Kind Of Blue' by 'Miles Davis'\n",
      "deleted all 9 tracks from album 'Milestones' by 'Miles Davis'\n",
      "deleted all 14 tracks from album 'Miles Ahead' by 'Miles Davis'\n",
      "deleted all 10 tracks from album 'Jazz Is Now' by 'Jon Batiste'\n",
      "deleted all 7 tracks from album 'Bags' Groove (RVG Remaster)' by 'Miles Davis'\n",
      "deleted all 8 tracks from album 'Basie & Zoot' by 'Count Basie'\n",
      "deleted all 11 tracks from album 'Know What I Mean? [Original Jazz Classics Remasters]' by 'Cannonball Adderley'\n",
      "deleted all 15 tracks from album 'Meets Coleman Hawkins / And John Coltrane' by 'Duke Ellington'\n",
      "deleted all 13 tracks from album 'Cicada' by 'Hazmat Modine'\n",
      "deleted all 13 tracks from album 'Singing Bones' by 'The Handsome Family'\n",
      "deleted all 6 tracks from album 'That's It' by 'Booker Ervin'\n",
      "deleted all 13 tracks from album 'Your Turn' by 'Various Artists'\n",
      "deleted all 8 tracks from album 'Haitian Dances' by 'Frantz Casseus'\n",
      "deleted all 10 tracks from album 'Muy Divertido! (Very Entertaining!)' by 'Marc Ribot y Los Cubanos'\n",
      "deleted all 10 tracks from album 'Y Los Cubanos Postizos' by 'Marc Ribot y Los Cubanos'\n",
      "deleted all 18 tracks from album 'The Heptones Sing, The Wailers' Musicians Play Riddim' by 'The Heptones'\n",
      "deleted all 10 tracks from album 'Tokyo Call' by 'Marialy Pacheco'\n",
      "deleted all 14 tracks from album 'The Wood' by 'Slowfox'\n",
      "deleted all 32 tracks from album 'Bach: Goldberg Variations' by 'Johann Sebastian Bach'\n",
      "deleted all 12 tracks from album 'Jazz For A Sunday Morning' by 'Various Artists'\n",
      "deleted all 13 tracks from album 'Señor Blues' by 'Taj Mahal'\n",
      "deleted all 8 tracks from album 'Sacred Island' by 'Taj Mahal'\n",
      "deleted all 16 tracks from album 'Jamie Oldaker's Mad Dogs & Okies' by 'Various Artists'\n",
      "deleted all 11 tracks from album 'Mullenium' by 'Gerry Mulligan'\n"
     ]
    }
   ],
   "source": [
    "manual_check = []\n",
    "for album in albums:\n",
    "    album_tracks = album['album']['tracks']['items']\n",
    "    track_ids = [track['id'] for track in album_tracks]\n",
    "    if not album['album']['total_tracks'] == len(track_ids):\n",
    "        results = sp.album_tracks(album['album']['id'])\n",
    "        tracks = results['items']\n",
    "        while results['next']:\n",
    "            results = sp.next(results)\n",
    "            tracks.extend(results['items'])\n",
    "        track_ids = [track['id'] for track in tracks]\n",
    "    try:\n",
    "        assert album['album']['total_tracks'] == len(track_ids)\n",
    "    except:\n",
    "        print(f\"Total tracks error: {album['album']['name']}' by '{album['album']['artists'][0]['name']}'\\\n",
    "                with id {album['album']['id']}\")\n",
    "        continue\n",
    "#     print(f\"track ids: {track_ids}\")\n",
    "    if len(track_ids) <= 50:\n",
    "        if all(sp.current_user_saved_tracks_contains(track_ids)):\n",
    "            sp.current_user_saved_tracks_delete(track_ids)\n",
    "            print(f\"deleted all {len(track_ids)} tracks from album '{album['album']['name']}' by '{album['album']['artists'][0]['name']}'\")\n",
    "    else:\n",
    "        manual_check.append(album)"
   ]
  },
  {
   "cell_type": "code",
   "execution_count": 45,
   "metadata": {},
   "outputs": [
    {
     "data": {
      "text/plain": [
       "[('1Y1xgrYHw2lcDqWStVl6rK', 'Luke Cage: Season 2'),\n",
       " ('1WHJCR7JB1mydTiBJpiF67', 'Hard Bop Classics'),\n",
       " ('68EGBBqUeBKF5F4xsdKb1V', 'Handel: Agrippina'),\n",
       " ('0OtKOOIdGDNQvTIcEgDRIU', 'Handel: Tamerlano'),\n",
       " ('3hkrAa6E3GdGlfgNQPYB2I', 'Gluck: Orphée et Eurydice'),\n",
       " ('5FIaGqpxtwgcM4cGVBQMlv',\n",
       "  'Gluck: Iphigénie en Tauride - The Sony Opera House'),\n",
       " ('3HZTdHBfzDGAi7fKEDghgL', '100 Best Relaxing Classics'),\n",
       " ('5ZHCqltda5ywYkHPqFIUQJ', 'J.S. Bach: Matthäus-Passion BWV 244'),\n",
       " ('2rA6ZfJR23Bg7oX9sWzTUf',\n",
       "  'J.S. Bach: St Matthew Passion, BWV 244 (Matthäus-Passion)'),\n",
       " ('0wpy3RStNTnQkyOF7x9uAo', '100 Hard Bop'),\n",
       " ('6d5jkRQxNth7GmOgibfkPX',\n",
       "  'The Complete Lester Young Studio Sessions On Verve'),\n",
       " ('6YQxPRto33Zn2SpzIFIobt', 'True Funk [3 CD Set]'),\n",
       " ('2Haf23oAyVyWPhMSdvrzIK', 'Handel. Rinaldo'),\n",
       " ('16RX4xwZEm8y5qpCGpA0Sb',\n",
       "  'What It Is! Funky Soul And Rare Grooves [1967-1977][digital version] [International]'),\n",
       " ('3O2SUQ0VEHYYU1BKwsNV0O', 'Sun Records - 60 Years, 60 Singles Box Set'),\n",
       " ('0lcdc9pUe5p7FQZsOpE3gG', '100 Best Of Blue Note')]"
      ]
     },
     "execution_count": 45,
     "metadata": {},
     "output_type": "execute_result"
    }
   ],
   "source": [
    "[(album['album']['id'], album['album']['name']) for album in manual_check]"
   ]
  },
  {
   "cell_type": "code",
   "execution_count": 47,
   "metadata": {},
   "outputs": [],
   "source": [
    "sp.current_user_saved_albums_delete(['3HZTdHBfzDGAi7fKEDghgL'])"
   ]
  },
  {
   "cell_type": "code",
   "execution_count": null,
   "metadata": {},
   "outputs": [],
   "source": [
    "spotify:album:5uD7yoQZensEeRQow76SeW spotify:album:6d5jkRQxNth7GmOgibfkPX"
   ]
  }
 ],
 "metadata": {
  "kernelspec": {
   "display_name": "Python 3",
   "language": "python",
   "name": "python3"
  },
  "language_info": {
   "codemirror_mode": {
    "name": "ipython",
    "version": 3
   },
   "file_extension": ".py",
   "mimetype": "text/x-python",
   "name": "python",
   "nbconvert_exporter": "python",
   "pygments_lexer": "ipython3",
   "version": "3.7.6"
  }
 },
 "nbformat": 4,
 "nbformat_minor": 4
}
